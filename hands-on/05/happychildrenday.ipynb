{
 "cells": [
  {
   "cell_type": "code",
   "execution_count": 196,
   "metadata": {},
   "outputs": [],
   "source": [
    "import pandas as pd\n",
    "import seaborn as sns\n",
    "import matplotlib.pyplot as plt\n",
    "import numpy as np\n"
   ]
  },
  {
   "cell_type": "markdown",
   "metadata": {},
   "source": [
    "## precision@k, recall@k -- pg23"
   ]
  },
  {
   "cell_type": "code",
   "execution_count": 197,
   "metadata": {},
   "outputs": [
    {
     "data": {
      "text/plain": [
       "(5, 5)"
      ]
     },
     "execution_count": 197,
     "metadata": {},
     "output_type": "execute_result"
    }
   ],
   "source": [
    "a = pd.Series([False] + [True] * 5 + [False] * 4)\n",
    "b = pd.Series([True] * 3 + [False] * 5 + [True] * 2)\n",
    "\n",
    "a.sum(), b.sum()\n"
   ]
  },
  {
   "cell_type": "code",
   "execution_count": 198,
   "metadata": {},
   "outputs": [
    {
     "data": {
      "text/plain": [
       "(   recall  precision\n",
       " 0     0.0   0.000000\n",
       " 1     0.2   0.500000\n",
       " 2     0.4   0.666667\n",
       " 3     0.6   0.750000\n",
       " 4     0.8   0.800000\n",
       " 5     1.0   0.833333\n",
       " 6     1.0   0.714286\n",
       " 7     1.0   0.625000\n",
       " 8     1.0   0.555556\n",
       " 9     1.0   0.500000,\n",
       "    recall  precision\n",
       " 0     0.2   1.000000\n",
       " 1     0.4   1.000000\n",
       " 2     0.6   1.000000\n",
       " 3     0.6   0.750000\n",
       " 4     0.6   0.600000\n",
       " 5     0.6   0.500000\n",
       " 6     0.6   0.428571\n",
       " 7     0.6   0.375000\n",
       " 8     0.8   0.444444\n",
       " 9     1.0   0.500000)"
      ]
     },
     "execution_count": 198,
     "metadata": {},
     "output_type": "execute_result"
    }
   ],
   "source": [
    "a_df = (\n",
    "    (a.cumsum() / 5)\n",
    "    .to_frame(\"recall\")\n",
    "    .join((a.cumsum() / (a.index + 1)).to_frame(\"precision\"))\n",
    ")\n",
    "b_df = (\n",
    "    (b.cumsum() / 5)\n",
    "    .to_frame(\"recall\")\n",
    "    .join((b.cumsum() / (b.index + 1)).to_frame(\"precision\"))\n",
    ")\n",
    "\n",
    "\n",
    "a_df, b_df\n"
   ]
  },
  {
   "cell_type": "code",
   "execution_count": 199,
   "metadata": {},
   "outputs": [
    {
     "data": {
      "text/plain": [
       "<matplotlib.legend.Legend at 0x7f18360110c0>"
      ]
     },
     "execution_count": 199,
     "metadata": {},
     "output_type": "execute_result"
    },
    {
     "data": {
      "image/png": "[encoded data removed]",
      "text/plain": [
       "<Figure size 640x480 with 1 Axes>"
      ]
     },
     "metadata": {},
     "output_type": "display_data"
    }
   ],
   "source": [
    "plt.scatter(a_df[\"recall\"], a_df[\"precision\"], marker=\"_\")\n",
    "sns.lineplot(a_df, x=\"recall\", y=\"precision\", label=\"A\")\n",
    "plt.scatter(b_df[\"recall\"], b_df[\"precision\"], marker=\"_\")\n",
    "sns.lineplot(b_df, x=\"recall\", y=\"precision\", label=\"B\")\n",
    "plt.legend(title=\"Method\")\n"
   ]
  },
  {
   "cell_type": "markdown",
   "metadata": {},
   "source": [
    "## ap -- pg 27"
   ]
  },
  {
   "cell_type": "code",
   "execution_count": 200,
   "metadata": {},
   "outputs": [
    {
     "data": {
      "text/plain": [
       "(0.71, 0.788889)"
      ]
     },
     "execution_count": 200,
     "metadata": {},
     "output_type": "execute_result"
    }
   ],
   "source": [
    "ap_a = a_df[\"precision\"].loc[a].sum() / 5\n",
    "ap_b = b_df[\"precision\"].loc[b].sum() / 5\n",
    "round(ap_a, 6), round(ap_b, 6)\n"
   ]
  },
  {
   "cell_type": "markdown",
   "metadata": {},
   "source": [
    "## ndcg -- pg 40"
   ]
  },
  {
   "cell_type": "code",
   "execution_count": 204,
   "metadata": {},
   "outputs": [
    {
     "name": "stdout",
     "output_type": "stream",
     "text": [
      "A=0.7738931964842558\n",
      "B=0.8151510484299677\n"
     ]
    }
   ],
   "source": [
    "bug_a = np.array([1, 3, 3, 3, 3, 1, 3, 1, 1, 1])\n",
    "bug_b = np.array([3, 3, 3, 1, 1, 1, 1, 3, 3, 1])\n",
    "bug_ideal = np.array([3, 3, 3, 3, 3, 1, 1, 1, 1, 1])\n",
    "rank_discount = np.log2(np.arange(1, 11) + 1)\n",
    "\n",
    "dcg_a = np.cumsum(np.divide(bug_a, rank_discount))\n",
    "dcg_b = np.cumsum(np.divide(bug_b, rank_discount))\n",
    "dcg_ideal = np.cumsum(np.divide(bug_ideal, rank_discount))\n",
    "\n",
    "print(f'A={np.divide(dcg_a, dcg_ideal)[4]}\\nB={np.divide(dcg_b, dcg_ideal)[4]}')\n"
   ]
  }
 ],
 "metadata": {
  "kernelspec": {
   "display_name": "se481-2023",
   "language": "python",
   "name": "python3"
  },
  "language_info": {
   "codemirror_mode": {
    "name": "ipython",
    "version": 3
   },
   "file_extension": ".py",
   "mimetype": "text/x-python",
   "name": "python",
   "nbconvert_exporter": "python",
   "pygments_lexer": "ipython3",
   "version": "3.10.13"
  }
 },
 "nbformat": 4,
 "nbformat_minor": 2
}
