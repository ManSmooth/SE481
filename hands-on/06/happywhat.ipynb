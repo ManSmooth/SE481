{
 "cells": [
  {
   "cell_type": "code",
   "execution_count": 3,
   "metadata": {},
   "outputs": [],
   "source": [
    "import numpy as np\n",
    "import json\n",
    "from pathlib import Path\n",
    "import os\n",
    "import pandas as pd\n",
    "from scipy import sparse\n",
    "import math\n",
    "import sys\n"
   ]
  },
  {
   "cell_type": "markdown",
   "metadata": {},
   "source": [
    "## PageRank foundation (pg. 75-76)"
   ]
  },
  {
   "cell_type": "code",
   "execution_count": 10,
   "metadata": {},
   "outputs": [
    {
     "name": "stdout",
     "output_type": "stream",
     "text": [
      "Converged in 39 iterations: [0.16911688 0.04196419 0.25324048 0.04196419 0.2572186  0.17669667\n",
      " 0.05979897]\n"
     ]
    },
    {
     "data": {
      "text/plain": [
       "1.0"
      ]
     },
     "execution_count": 10,
     "metadata": {},
     "output_type": "execute_result"
    }
   ],
   "source": [
    "x0 = np.ones((1, 7)) / 7\n",
    "v = np.ones((1, 7)) / 7\n",
    "L = np.matrix(\n",
    "    [\n",
    "        [0, 0, 0, 0, 0, 0, 0],\n",
    "        [1 / 2, 0, 1 / 2, 0, 0, 0, 0],\n",
    "        [0, 0, 0, 0, 1, 0, 0],\n",
    "        [0, 0, 1 / 2, 0, 0, 0, 1 / 2],\n",
    "        [1 / 2, 0, 0, 0, 0, 1 / 2, 0],\n",
    "        [0, 0, 1, 0, 0, 0, 0],\n",
    "        [0, 0, 1 / 2, 0, 0, 1 / 2, 0],\n",
    "    ]\n",
    ")\n",
    "\n",
    "a = 0.85\n",
    "\n",
    "\n",
    "rows, cols = np.where(L.sum(1) == 0)\n",
    "L[rows] = 1 / 7\n",
    "# P = ((a * L) + (1 - a) * v / 7)\n",
    "prev_Px = x0\n",
    "Px = a * x0 * L + (1 - a) * v\n",
    "i = 0\n",
    "while any(abs(np.asarray(prev_Px).flatten() - np.asarray(Px).flatten()) > 1e-8):\n",
    "    i += 1\n",
    "    prev_Px = Px\n",
    "    Px = a * Px * L + (1 - a) * v\n",
    "\n",
    "print(\"Converged in {0} iterations: {1}\".format(i, np.asarray(Px).flatten()))\n",
    "Px.sum()\n"
   ]
  },
  {
   "cell_type": "code",
   "execution_count": 11,
   "metadata": {},
   "outputs": [
    {
     "data": {
      "text/plain": [
       "48"
      ]
     },
     "execution_count": 11,
     "metadata": {},
     "output_type": "execute_result"
    }
   ],
   "source": [
    "L = np.matrix(\n",
    "    [\n",
    "        [0, 0, 0, 0, 0, 0, 0],\n",
    "        [1, 0, 1, 0, 0, 0, 0],\n",
    "        [0, 0, 0, 0, 1, 0, 0],\n",
    "        [0, 0, 1, 0, 0, 0, 1],\n",
    "        [1, 0, 0, 0, 0, 1, 0],\n",
    "        [0, 0, 1, 0, 0, 0, 0],\n",
    "        [0, 0, 1, 0, 0, 1, 0],\n",
    "    ]\n",
    ")\n",
    "sL = sparse.lil_matrix(L, dtype=bool)\n",
    "rows, cols = np.where(sL.sum(1) == 0)\n",
    "sL[rows, :] = np.ones(sL.shape[0], bool)\n",
    "\n",
    "n = sL.multiply(sparse.csr_matrix(1 / sL.sum(axis=1)))\n",
    "\n",
    "sys.getsizeof(n.tocoo())\n"
   ]
  },
  {
   "cell_type": "code",
   "execution_count": 12,
   "metadata": {},
   "outputs": [
    {
     "name": "stdout",
     "output_type": "stream",
     "text": [
      "Converged in 39 iterations: [0.16911688 0.04196419 0.25324048 0.04196419 0.2572186  0.17669667\n",
      " 0.05979897]\n"
     ]
    },
    {
     "data": {
      "text/plain": [
       "1.0000000000000007"
      ]
     },
     "execution_count": 12,
     "metadata": {},
     "output_type": "execute_result"
    }
   ],
   "source": [
    "x0 = np.matrix([1 / 7] * 7)\n",
    "P = np.matrix(\n",
    "    [\n",
    "        [1 / 7, 1 / 7, 1 / 7, 1 / 7, 1 / 7, 1 / 7, 1 / 7],\n",
    "        [25 / 56, 3 / 140, 25 / 56, 3 / 140, 3 / 140, 3 / 140, 3 / 140],\n",
    "        [3 / 140, 3 / 140, 3 / 140, 3 / 140, 61 / 70, 3 / 140, 3 / 140],\n",
    "        [3 / 140, 3 / 140, 25 / 56, 3 / 140, 3 / 140, 3 / 140, 25 / 56],\n",
    "        [25 / 56, 3 / 140, 3 / 140, 3 / 140, 3 / 140, 25 / 56, 3 / 140],\n",
    "        [3 / 140, 3 / 140, 61 / 70, 3 / 140, 3 / 140, 3 / 140, 3 / 140],\n",
    "        [3 / 140, 3 / 140, 25 / 56, 3 / 140, 3 / 140, 25 / 56, 3 / 140],\n",
    "    ]\n",
    ")\n",
    "\n",
    "prev_Px = x0\n",
    "Px = x0 * P\n",
    "i = 0\n",
    "while any(abs(np.asarray(prev_Px).flatten() - np.asarray(Px).flatten()) > 1e-8):\n",
    "    i += 1\n",
    "    prev_Px = Px\n",
    "    Px = Px * P\n",
    "\n",
    "print(\"Converged in {0} iterations: {1}\".format(i, np.asarray(Px).flatten()))\n",
    "Px.sum()\n"
   ]
  },
  {
   "cell_type": "markdown",
   "metadata": {},
   "source": [
    "## Integrating PageRank score with the crawled webpage (pg. 77-81)"
   ]
  },
  {
   "cell_type": "code",
   "execution_count": 1,
   "metadata": {},
   "outputs": [],
   "source": [
    "class Pr:\n",
    "    def __init__(self, alpha):\n",
    "        self.crawled_folder = Path(os.path.abspath(\"\")) / \"crawled/\"\n",
    "        self.alpha = alpha\n",
    "        self.url_extract()\n",
    "\n",
    "    def url_extract(self):\n",
    "        url_maps = {}\n",
    "        all_urls = set([])\n",
    "        for file in os.listdir(self.crawled_folder):\n",
    "            if file.endswith(\".json\"):\n",
    "                try:\n",
    "                    j = json.load(open(os.path.join(self.crawled_folder, file)))\n",
    "                    all_urls.add(j[\"url\"])\n",
    "                    all_urls.update(set(j[\"url_lists\"]))\n",
    "                    url_maps[j[\"url\"]] = list(set(j[\"url_lists\"]))\n",
    "                except json.JSONDecodeError:\n",
    "                    print(file)\n",
    "        all_urls = list(all_urls)\n",
    "        self.url_maps = url_maps\n",
    "        self.all_urls = all_urls\n",
    "\n",
    "    def pr_calc(self):\n",
    "        url_maps, all_urls = self.url_maps, self.all_urls\n",
    "        print(f\"{len(all_urls)=}\")\n",
    "        url_idx = {v: i for (i, v) in enumerate(all_urls)}\n",
    "        size = len(all_urls)\n",
    "        url_matrix = sparse.lil_array((size, size), dtype=int)\n",
    "        for url in url_maps:\n",
    "            if len(url_maps[url]) > 0 and len(all_urls) > 0:\n",
    "                url_matrix[\n",
    "                    url_idx[url], [url_idx[sub_url] for sub_url in url_maps[url]]\n",
    "                ] = 1\n",
    "        # return url_matrix\n",
    "        print(f\"bytes@prepad: {url_matrix.data.nbytes}\")\n",
    "        rows = np.where(url_matrix.sum(1) == 0)[0]\n",
    "        url_matrix[rows, :] = np.ones(size, int)\n",
    "        print(f\"bytes@postpad: {url_matrix.data.nbytes}\")\n",
    "        return url_matrix\n",
    "        url_matrix = (1 / url_matrix.sum(1)) * url_matrix\n",
    "        print(f\"bytes@multiply: {url_matrix.data.nbytes}\")\n",
    "        # x0 = np.repeat(1 / len(all_urls), len(all_urls)).T\n",
    "        # v = np.repeat(1 / len(all_urls), len(all_urls)).T\n",
    "\n",
    "        # prev_Px = x0\n",
    "        # Px = self.alpha * x0 @ url_matrix + (1 - self.alpha) * v\n",
    "        # print(v.T)\n",
    "        # i = 0\n",
    "        # while any(abs(np.asarray(prev_Px).flatten() - np.asarray(Px).flatten()) > 1e-8):\n",
    "        #     i += 1\n",
    "        #     prev_Px = Px\n",
    "        #     Px = self.alpha * Px @ url_matrix + (1 - self.alpha) * v\n",
    "\n",
    "        # print(\n",
    "        #     \"Converged in {0} iterations: {1}\".format(\n",
    "        #         i, np.around(np.asarray(Px).flatten().astype(float), 5)\n",
    "        #     )\n",
    "        # )\n",
    "\n",
    "        # self.pr_result = pd.Series(Px, index=all_urls)\n"
   ]
  },
  {
   "cell_type": "code",
   "execution_count": 4,
   "metadata": {},
   "outputs": [
    {
     "name": "stdout",
     "output_type": "stream",
     "text": [
      "len(all_urls)=7044\n",
      "bytes@prepad: 56352\n",
      "bytes@postpad: 56352\n"
     ]
    }
   ],
   "source": [
    "pr = Pr(alpha=0.85)\n",
    "out = pr.pr_calc()\n"
   ]
  },
  {
   "cell_type": "code",
   "execution_count": 18,
   "metadata": {},
   "outputs": [
    {
     "data": {
      "text/plain": [
       "array([7044])"
      ]
     },
     "execution_count": 18,
     "metadata": {},
     "output_type": "execute_result"
    }
   ],
   "source": [
    "out[[0], :].multiply(1 )\n"
   ]
  },
  {
   "cell_type": "code",
   "execution_count": 44,
   "metadata": {},
   "outputs": [
    {
     "data": {
      "text/plain": [
       "ObjectApiResponse({'name': '30bfd7881813', 'cluster_name': 'docker-cluster', 'cluster_uuid': 'o_7sMfofS_G5l-SWN2IbUA', 'version': {'number': '8.12.1', 'build_flavor': 'default', 'build_type': 'docker', 'build_hash': '6185ba65d27469afabc9bc951cded6c17c21e3f3', 'build_date': '2024-02-01T13:07:13.727175297Z', 'build_snapshot': False, 'lucene_version': '9.9.2', 'minimum_wire_compatibility_version': '7.17.0', 'minimum_index_compatibility_version': '7.0.0'}, 'tagline': 'You Know, for Search'})"
      ]
     },
     "execution_count": 44,
     "metadata": {},
     "output_type": "execute_result"
    }
   ],
   "source": [
    "from elasticsearch import Elasticsearch\n",
    "import pickle\n",
    "\n",
    "es = Elasticsearch(\"https://localhost:9200\", basic_auth=(\"elastic\", \"+oEqEIt7p6lC_=rI1HIC\"), ca_certs=\"./http_ca.crt\")\n",
    "es.info()\n"
   ]
  },
  {
   "cell_type": "code",
   "execution_count": 45,
   "metadata": {},
   "outputs": [],
   "source": [
    "class ElasticIndexer:\n",
    "    def __init__(self):\n",
    "        self.crawled_folder = Path(os.path.abspath(\"\")) / \"crawled/\"\n",
    "        with open(self.crawled_folder / \"url_list.pickle\", \"rb\") as f:\n",
    "            self.file_mapper = pickle.load(f)\n",
    "        self.es_client = Elasticsearch(\n",
    "            \"https://localhost:9200\",\n",
    "            basic_auth=(\"elastic\", \"+oEqEIt7p6lC_=rI1HIC\"),\n",
    "            ca_certs=\"./http_ca.crt\",\n",
    "        )\n",
    "\n",
    "    def run_indexer(self):\n",
    "        self.pr = Pr(alpha=0.85)\n",
    "        self.pr.pr_calc()\n",
    "        self.es_client.options(ignore_status=400).indices.create(index=\"simple\")\n",
    "        self.es_client.options(ignore_status=[400, 404]).indices.delete(index=\"simple\")\n",
    "        for file in os.listdir(self.crawled_folder):\n",
    "            if file.endswith(\".json\"):\n",
    "                try:\n",
    "                    j = json.load(open(os.path.join(self.crawled_folder, file)))\n",
    "                    j[\"id\"] = j[\"url\"]\n",
    "                    j[\"pagerank\"] = self.pr.pr_result[j[\"id\"]]\n",
    "                    self.es_client.index(index=\"simple\", document=j)\n",
    "                except json.JSONDecodeError as e:\n",
    "                    print(file)\n"
   ]
  },
  {
   "cell_type": "code",
   "execution_count": 46,
   "metadata": {},
   "outputs": [
    {
     "name": "stdout",
     "output_type": "stream",
     "text": [
      "len(all_urls)=7044\n",
      "6699\n",
      "377642016\n",
      "[0.00014196 0.00014196 0.00014196 ... 0.00014196 0.00014196 0.00014196]\n",
      "Converged in 17 iterations: [0.00014 0.00013 0.00013 ... 0.00028 0.00014 0.00014]\n"
     ]
    }
   ],
   "source": [
    "ei = ElasticIndexer()\n",
    "ei.run_indexer()\n"
   ]
  },
  {
   "cell_type": "code",
   "execution_count": 60,
   "metadata": {},
   "outputs": [
    {
     "data": {
      "text/html": [
       "<div>\n",
       "<style scoped>\n",
       "    .dataframe tbody tr th:only-of-type {\n",
       "        vertical-align: middle;\n",
       "    }\n",
       "\n",
       "    .dataframe tbody tr th {\n",
       "        vertical-align: top;\n",
       "    }\n",
       "\n",
       "    .dataframe thead th {\n",
       "        text-align: right;\n",
       "    }\n",
       "</style>\n",
       "<table border=\"1\" class=\"dataframe\">\n",
       "  <thead>\n",
       "    <tr style=\"text-align: right;\">\n",
       "      <th></th>\n",
       "      <th>title</th>\n",
       "      <th>url</th>\n",
       "      <th>text</th>\n",
       "      <th>score</th>\n",
       "    </tr>\n",
       "  </thead>\n",
       "  <tbody>\n",
       "    <tr>\n",
       "      <th>0</th>\n",
       "      <td>Home</td>\n",
       "      <td>https://www.camt.cmu.ac.th/index.php/en/</td>\n",
       "      <td>Home        About us           Back      Visio...</td>\n",
       "      <td>0.001109</td>\n",
       "    </tr>\n",
       "    <tr>\n",
       "      <th>1</th>\n",
       "      <td>MIdS : (M)ultidisciplinary and (I)nter(d)iscip...</td>\n",
       "      <td>https://www.mids.cmu.ac.th/</td>\n",
       "      <td>Ask a Question  mids@cmu.ac.th       ภาษาไทย  ...</td>\n",
       "      <td>0.000908</td>\n",
       "    </tr>\n",
       "    <tr>\n",
       "      <th>2</th>\n",
       "      <td>วิทยาลัยศิลปะ สื่อและเทคโนโลยี</td>\n",
       "      <td>https://www.camt.cmu.ac.th/index.php/en/compon...</td>\n",
       "      <td>Home        About us           Back      Visio...</td>\n",
       "      <td>0.000724</td>\n",
       "    </tr>\n",
       "    <tr>\n",
       "      <th>3</th>\n",
       "      <td>วิทยาลัยศิลปะ สื่อและเทคโนโลยี</td>\n",
       "      <td>https://www.camt.cmu.ac.th/index.php/en/compon...</td>\n",
       "      <td>Home        About us           Back      Visio...</td>\n",
       "      <td>0.000709</td>\n",
       "    </tr>\n",
       "    <tr>\n",
       "      <th>4</th>\n",
       "      <td>Home</td>\n",
       "      <td>https://www.camt.cmu.ac.th/index.php/th/?p=&amp;la...</td>\n",
       "      <td>Home        About us           Back      Visio...</td>\n",
       "      <td>0.000558</td>\n",
       "    </tr>\n",
       "    <tr>\n",
       "      <th>5</th>\n",
       "      <td>Browse privately in Safari on Mac - Apple Support</td>\n",
       "      <td>https://support.apple.com/kb/ph21413</td>\n",
       "      <td>Apple Store Mac iPad iPhone Watch Vision AirPo...</td>\n",
       "      <td>0.000539</td>\n",
       "    </tr>\n",
       "    <tr>\n",
       "      <th>6</th>\n",
       "      <td>Google Workspace: Secure Online Productivity &amp;...</td>\n",
       "      <td>https://workspace.google.com/intl/en/?utm_sour...</td>\n",
       "      <td>Skip to main content   Solutions       For Ind...</td>\n",
       "      <td>0.000338</td>\n",
       "    </tr>\n",
       "    <tr>\n",
       "      <th>7</th>\n",
       "      <td>Cloud Compliance &amp; Regulations Resources | Goo...</td>\n",
       "      <td>https://cloud.google.com/security/compliance?h...</td>\n",
       "      <td>Compliance resource center Google Cloud’s indu...</td>\n",
       "      <td>0.000263</td>\n",
       "    </tr>\n",
       "    <tr>\n",
       "      <th>8</th>\n",
       "      <td>Google Cloud Privacy Notice</td>\n",
       "      <td>https://cloud.google.com/terms/cloud-privacy-n...</td>\n",
       "      <td>Overview    close     Accelerate your digital ...</td>\n",
       "      <td>0.000151</td>\n",
       "    </tr>\n",
       "  </tbody>\n",
       "</table>\n",
       "</div>"
      ],
      "text/plain": [
       "                                               title  \\\n",
       "0                                               Home   \n",
       "1  MIdS : (M)ultidisciplinary and (I)nter(d)iscip...   \n",
       "2                     วิทยาลัยศิลปะ สื่อและเทคโนโลยี   \n",
       "3                     วิทยาลัยศิลปะ สื่อและเทคโนโลยี   \n",
       "4                                               Home   \n",
       "5  Browse privately in Safari on Mac - Apple Support   \n",
       "6  Google Workspace: Secure Online Productivity &...   \n",
       "7  Cloud Compliance & Regulations Resources | Goo...   \n",
       "8                        Google Cloud Privacy Notice   \n",
       "\n",
       "                                                 url  \\\n",
       "0           https://www.camt.cmu.ac.th/index.php/en/   \n",
       "1                        https://www.mids.cmu.ac.th/   \n",
       "2  https://www.camt.cmu.ac.th/index.php/en/compon...   \n",
       "3  https://www.camt.cmu.ac.th/index.php/en/compon...   \n",
       "4  https://www.camt.cmu.ac.th/index.php/th/?p=&la...   \n",
       "5               https://support.apple.com/kb/ph21413   \n",
       "6  https://workspace.google.com/intl/en/?utm_sour...   \n",
       "7  https://cloud.google.com/security/compliance?h...   \n",
       "8  https://cloud.google.com/terms/cloud-privacy-n...   \n",
       "\n",
       "                                                text     score  \n",
       "0  Home        About us           Back      Visio...  0.001109  \n",
       "1  Ask a Question  mids@cmu.ac.th       ภาษาไทย  ...  0.000908  \n",
       "2  Home        About us           Back      Visio...  0.000724  \n",
       "3  Home        About us           Back      Visio...  0.000709  \n",
       "4  Home        About us           Back      Visio...  0.000558  \n",
       "5  Apple Store Mac iPad iPhone Watch Vision AirPo...  0.000539  \n",
       "6  Skip to main content   Solutions       For Ind...  0.000338  \n",
       "7  Compliance resource center Google Cloud’s indu...  0.000263  \n",
       "8  Overview    close     Accelerate your digital ...  0.000151  "
      ]
     },
     "execution_count": 60,
     "metadata": {},
     "output_type": "execute_result"
    }
   ],
   "source": [
    "import requests\n",
    "\n",
    "results = es.search(\n",
    "    body={\n",
    "        \"_source\": {\"excludes\": [\"url_lists\"]},\n",
    "        \"query\": {\n",
    "            \"script_score\": {\n",
    "                \"query\": {\"match\": {\"text\": \"vision\"}},\n",
    "                \"script\": {\"source\": \"_score * doc['pagerank'].value\"},\n",
    "            }\n",
    "        },\n",
    "    },\n",
    ")\n",
    "pd.DataFrame(\n",
    "    [\n",
    "        [\n",
    "            hit[\"_source\"][\"title\"],\n",
    "            hit[\"_source\"][\"url\"],\n",
    "            hit[\"_source\"][\"text\"][:100],\n",
    "            hit[\"_score\"],\n",
    "        ]\n",
    "        for hit in results[\"hits\"][\"hits\"]\n",
    "    ],\n",
    "    columns=[\"title\", \"url\", \"text\", \"score\"],\n",
    ")\n"
   ]
  },
  {
   "cell_type": "markdown",
   "metadata": {},
   "source": [
    "## Flask application (pg. 82-84)\n"
   ]
  },
  {
   "cell_type": "code",
   "execution_count": 64,
   "metadata": {},
   "outputs": [
    {
     "data": {
      "text/plain": [
       "{'elapse': 0.02182459831237793,\n",
       " 'results': [{'score': 0.0011093874,\n",
       "   'text': \"Home        About us           Back      Vision and Mission        Map        List of CAMT's staff  \",\n",
       "   'title': 'Home',\n",
       "   'url': 'https://www.camt.cmu.ac.th/index.php/en/'},\n",
       "  {'score': 0.00090815144,\n",
       "   'text': 'Ask a Question  mids@cmu.ac.th       ภาษาไทย   Login  Staff                                         ',\n",
       "   'title': 'MIdS : (M)ultidisciplinary and (I)nter(d)isciplinary (S)chool',\n",
       "   'url': 'https://www.mids.cmu.ac.th/'},\n",
       "  {'score': 0.00072371966,\n",
       "   'text': \"Home        About us           Back      Vision and Mission        Map        List of CAMT's staff  \",\n",
       "   'title': 'วิทยาลัยศิลปะ สื่อและเทคโนโลยี',\n",
       "   'url': 'https://www.camt.cmu.ac.th/index.php/en/component/users/?view=remind&Itemid=101'},\n",
       "  {'score': 0.0007085531,\n",
       "   'text': \"Home        About us           Back      Vision and Mission        Map        List of CAMT's staff  \",\n",
       "   'title': 'วิทยาลัยศิลปะ สื่อและเทคโนโลยี',\n",
       "   'url': 'https://www.camt.cmu.ac.th/index.php/en/component/users/?view=reset&Itemid=101'},\n",
       "  {'score': 0.0005583955,\n",
       "   'text': \"Home        About us           Back      Vision and Mission        Map        List of CAMT's staff  \",\n",
       "   'title': 'Home',\n",
       "   'url': 'https://www.camt.cmu.ac.th/index.php/th/?p=&lang=en'},\n",
       "  {'score': 0.0005388202,\n",
       "   'text': 'Apple Store Mac iPad iPhone Watch Vision AirPods TV & Home Entertainment Accessories Support    0 + ',\n",
       "   'title': 'Browse privately in Safari on Mac - Apple Support',\n",
       "   'url': 'https://support.apple.com/kb/ph21413'},\n",
       "  {'score': 0.0003382472,\n",
       "   'text': 'Skip to main content   Solutions       For Individuals       For Business     Overview      Small Bu',\n",
       "   'title': 'Google Workspace: Secure Online Productivity & Collaboration Tools',\n",
       "   'url': 'https://workspace.google.com/intl/en/?utm_source=formsforwork&utm_medium=et&utm_content=learnmore&utm_campaign=globalnav'},\n",
       "  {'score': 0.000262689,\n",
       "   'text': 'Compliance resource center Google Cloud’s industry-leading certifications, documentation, and third-',\n",
       "   'title': 'Cloud Compliance & Regulations Resources | Google Cloud',\n",
       "   'url': 'https://cloud.google.com/security/compliance?hl=en'},\n",
       "  {'score': 0.0001507457,\n",
       "   'text': 'Overview    close     Accelerate your digital transformation  Whether your business is early in its ',\n",
       "   'title': 'Google Cloud Privacy Notice',\n",
       "   'url': 'https://cloud.google.com/terms/cloud-privacy-notice?hl=en_US'}],\n",
       " 'status': 'success',\n",
       " 'total_hit': 9}"
      ]
     },
     "execution_count": 64,
     "metadata": {},
     "output_type": "execute_result"
    }
   ],
   "source": [
    "import requests\n",
    "json.loads(requests.get(\"http://127.0.0.1:5000/search_es?query=vision\").text)\n",
    "\n"
   ]
  }
 ],
 "metadata": {
  "kernelspec": {
   "display_name": "se481-2023",
   "language": "python",
   "name": "python3"
  },
  "language_info": {
   "codemirror_mode": {
    "name": "ipython",
    "version": 3
   },
   "file_extension": ".py",
   "mimetype": "text/x-python",
   "name": "python",
   "nbconvert_exporter": "python",
   "pygments_lexer": "ipython3",
   "version": "3.10.13"
  }
 },
 "nbformat": 4,
 "nbformat_minor": 2
}
