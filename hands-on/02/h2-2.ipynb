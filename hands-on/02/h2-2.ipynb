{
 "cells": [
  {
   "cell_type": "code",
   "execution_count": 1,
   "metadata": {},
   "outputs": [],
   "source": [
    "from numpy import array\n",
    "from scipy.sparse import coo_matrix, csr_matrix, csc_matrix, dok_matrix, lil_matrix\n",
    "import timeit\n"
   ]
  },
  {
   "cell_type": "markdown",
   "metadata": {},
   "source": [
    "# 62"
   ]
  },
  {
   "cell_type": "code",
   "execution_count": 2,
   "metadata": {},
   "outputs": [
    {
     "name": "stdout",
     "output_type": "stream",
     "text": [
      "[[1 0 0 1 0 0]\n",
      " [0 0 2 0 0 1]\n",
      " [0 0 0 2 0 0]]\n",
      "  (0, 0)\t1\n",
      "  (0, 3)\t1\n",
      "  (1, 2)\t2\n",
      "  (1, 5)\t1\n",
      "  (2, 3)\t2\n",
      "  (0, 0)\t1\n",
      "  (2, 0)\t2\n",
      "[[1 0 0 1 0 0]\n",
      " [0 0 2 0 0 1]\n",
      " [0 0 0 2 0 0]]\n",
      "timeit.timeit(lambda : dok_matrix(B), number=times)/times=0.00010697126045000004\n",
      "timeit.timeit(lambda : lil_matrix(B), number=times)/times=0.00013936469105000468\n",
      "timeit.timeit(lambda : csr_matrix(B), number=times)/times=0.00011469011701999989\n",
      "timeit.timeit(lambda : csc_matrix(B), number=times)/times=0.00011148536484000033\n"
     ]
    }
   ],
   "source": [
    "# create dense matrix\n",
    "A = array([[1, 0, 0, 1, 0, 0], [0, 0, 2, 0, 0, 1], [0, 0, 0, 2, 0, 0]])\n",
    "print(A)\n",
    "\n",
    "# convert to sparse matrix (COO method)\n",
    "S = coo_matrix(A)\n",
    "print(S)\n",
    "\n",
    "print(S.tocsr()[:,3])\n",
    "\n",
    "# reconstruct dense matrix\n",
    "B = S.todense()\n",
    "print(B)\n",
    "times = 100000\n",
    "print(f'{timeit.timeit(lambda : dok_matrix(B), number=times)/times=}')\n",
    "print(f'{timeit.timeit(lambda : lil_matrix(B), number=times)/times=}')\n",
    "print(f'{timeit.timeit(lambda : csr_matrix(B), number=times)/times=}')\n",
    "print(f'{timeit.timeit(lambda : csc_matrix(B), number=times)/times=}')\n"
   ]
  },
  {
   "cell_type": "markdown",
   "metadata": {},
   "source": [
    "# 64-67"
   ]
  },
  {
   "cell_type": "code",
   "execution_count": 3,
   "metadata": {},
   "outputs": [
    {
     "name": "stdout",
     "output_type": "stream",
     "text": [
      "INFO: Pandarallel will run on 6 workers.\n",
      "INFO: Pandarallel will use Memory file system to transfer data between the main process and workers.\n"
     ]
    }
   ],
   "source": [
    "from nltk.tokenize import word_tokenize\n",
    "from nltk.corpus import stopwords\n",
    "from nltk.stem import PorterStemmer\n",
    "import pandas as pd\n",
    "from pandarallel import pandarallel\n",
    "import string\n",
    "import numpy as np\n",
    "import timeit\n",
    "\n",
    "pandarallel.initialize()\n",
    "\n",
    "path = r\"./resources/software_developer_united_states_1971_20191023_1.csv\"\n"
   ]
  },
  {
   "cell_type": "code",
   "execution_count": 4,
   "metadata": {},
   "outputs": [],
   "source": [
    "def extract_description(df: pd.DataFrame):\n",
    "    s = df[\"job_description\"]\n",
    "    s = s.parallel_apply(\n",
    "        lambda s: s.lower()\n",
    "        .translate(str.maketrans(\"\", \"\", string.punctuation + \"\\xa0\"))\n",
    "        .translate(str.maketrans(string.whitespace, \" \" * len(string.whitespace)))\n",
    "    )\n",
    "    return s\n",
    "\n",
    "\n",
    "def tokenize(s: pd.Series):\n",
    "    return s.parallel_apply(lambda s: set(word_tokenize(s)))\n",
    "\n",
    "def remove_stopwords(s: pd.Series):\n",
    "    stopwords_set = set(stopwords.words())\n",
    "    return s.parallel_apply(lambda s: s.difference(stopwords_set))\n",
    "\n",
    "def filter_word_length(s: pd.Series, n: int):\n",
    "    return s.parallel_apply(lambda s: {word for word in s if len(word) >= n})\n",
    "\n",
    "def stem(s: pd.Series):\n",
    "    ps = PorterStemmer()\n",
    "    return s.parallel_apply(lambda s: {ps.stem(word) for word in s})\n",
    "\n",
    "\n",
    "def transformation_pipe(df: pd.DataFrame):\n",
    "    s = extract_description(df)\n",
    "    s = tokenize(s)\n",
    "    s = remove_stopwords(s)\n",
    "    s = filter_word_length(s, 3)\n",
    "    s = stem(s)\n",
    "    return s\n"
   ]
  },
  {
   "cell_type": "code",
   "execution_count": 5,
   "metadata": {},
   "outputs": [
    {
     "data": {
      "text/plain": [
       "0      {characterist, desir, respons, 8882376835, dem...\n",
       "1      {act, desir, updat, respons, verbal, individu,...\n",
       "2      {aw, client, reliabl, wellknown, ec2, age, sta...\n",
       "3      {lambda, initi, aw, oper, client, reliabl, res...\n",
       "4      {act, desir, updat, respons, verbal, individu,...\n",
       "                             ...                        \n",
       "995    {develop, reactj, ng, rockvil, 20191, client, ...\n",
       "996    {fit, characterist, frontend, document, obtain...\n",
       "997    {hassl, edit, updat, respons, file, media, com...\n",
       "998    {english, hour, metadata, dn, verbal, file, do...\n",
       "999    {basic, respons, demonstr, ibm, establish, lei...\n",
       "Name: job_description, Length: 1000, dtype: object"
      ]
     },
     "execution_count": 5,
     "metadata": {},
     "output_type": "execute_result"
    }
   ],
   "source": [
    "rows = pd.read_csv(path)[:1000]\n",
    "descriptions = transformation_pipe(rows)\n",
    "descriptions\n"
   ]
  },
  {
   "cell_type": "code",
   "execution_count": 6,
   "metadata": {},
   "outputs": [],
   "source": [
    "from sklearn.feature_extraction.text import CountVectorizer\n"
   ]
  },
  {
   "cell_type": "code",
   "execution_count": 7,
   "metadata": {},
   "outputs": [
    {
     "name": "stdout",
     "output_type": "stream",
     "text": [
      "     001  007009501759972  009000010840340  010  010209501755598  \\\n",
      "0      0                0                0    0                0   \n",
      "1      0                0                0    0                0   \n",
      "2      0                0                0    0                0   \n",
      "3      0                0                0    0                0   \n",
      "4      0                0                0    0                0   \n",
      "..   ...              ...              ...  ...              ...   \n",
      "995    0                0                0    0                0   \n",
      "996    0                0                0    0                0   \n",
      "997    0                0                0    0                0   \n",
      "998    0                0                0    0                0   \n",
      "999    0                0                0    0                0   \n",
      "\n",
      "     013000010841024  015000010801094  01581  021019  02108  ...  •the  •two  \\\n",
      "0                  0                0      0       0      0  ...     0     0   \n",
      "1                  0                0      0       0      0  ...     0     0   \n",
      "2                  0                0      0       0      0  ...     0     0   \n",
      "3                  0                0      0       0      0  ...     0     0   \n",
      "4                  0                0      0       0      0  ...     0     0   \n",
      "..               ...              ...    ...     ...    ...  ...   ...   ...   \n",
      "995                0                0      0       0      0  ...     0     0   \n",
      "996                0                0      0       0      0  ...     0     0   \n",
      "997                0                0      0       0      0  ...     0     0   \n",
      "998                0                0      0       0      0  ...     0     0   \n",
      "999                0                0      0       0      0  ...     0     0   \n",
      "\n",
      "     •understand  •updat  •use  •valid  •web  •will  •work  ………and  \n",
      "0              0       0     0       0     0      0      0       0  \n",
      "1              0       0     0       0     0      0      0       0  \n",
      "2              0       0     0       0     0      0      0       0  \n",
      "3              0       0     0       0     0      0      0       0  \n",
      "4              0       0     0       0     0      0      0       0  \n",
      "..           ...     ...   ...     ...   ...    ...    ...     ...  \n",
      "995            0       0     0       0     0      0      0       0  \n",
      "996            0       0     0       0     0      0      0       0  \n",
      "997            0       0     0       0     0      0      0       0  \n",
      "998            0       0     0       0     0      0      0       0  \n",
      "999            0       0     0       0     0      0      0       0  \n",
      "\n",
      "[1000 rows x 9291 columns]\n"
     ]
    }
   ],
   "source": [
    "cv = CountVectorizer(analyzer=lambda x: x)\n",
    "X = cv.fit_transform(descriptions)\n",
    "print(pd.DataFrame(X.toarray(), columns=cv.get_feature_names_out()))\n"
   ]
  },
  {
   "cell_type": "code",
   "execution_count": 8,
   "metadata": {},
   "outputs": [
    {
     "ename": "KeyboardInterrupt",
     "evalue": "",
     "output_type": "error",
     "traceback": [
      "\u001b[0;31m---------------------------------------------------------------------------\u001b[0m",
      "\u001b[0;31mKeyboardInterrupt\u001b[0m                         Traceback (most recent call last)",
      "\u001b[1;32m/home/mansmooth/ir-py/hands-on/02/h2-2.ipynb Cell 10\u001b[0m line \u001b[0;36m2\n\u001b[1;32m      <a href='vscode-notebook-cell://wsl%2Bubuntu-22.04/home/mansmooth/ir-py/hands-on/02/h2-2.ipynb#X12sdnNjb2RlLXJlbW90ZQ%3D%3D?line=0'>1</a>\u001b[0m XX \u001b[39m=\u001b[39m X\u001b[39m.\u001b[39mtoarray()\n\u001b[0;32m----> <a href='vscode-notebook-cell://wsl%2Bubuntu-22.04/home/mansmooth/ir-py/hands-on/02/h2-2.ipynb#X12sdnNjb2RlLXJlbW90ZQ%3D%3D?line=1'>2</a>\u001b[0m timeit\u001b[39m.\u001b[39;49mtimeit(\u001b[39mlambda\u001b[39;49;00m: np\u001b[39m.\u001b[39;49mmatmul(XX, XX\u001b[39m.\u001b[39;49mT),number\u001b[39m=\u001b[39;49m\u001b[39m1\u001b[39;49m)\n",
      "File \u001b[0;32m~/anaconda3/envs/se481-2023/lib/python3.10/timeit.py:234\u001b[0m, in \u001b[0;36mtimeit\u001b[0;34m(stmt, setup, timer, number, globals)\u001b[0m\n\u001b[1;32m    231\u001b[0m \u001b[39mdef\u001b[39;00m \u001b[39mtimeit\u001b[39m(stmt\u001b[39m=\u001b[39m\u001b[39m\"\u001b[39m\u001b[39mpass\u001b[39m\u001b[39m\"\u001b[39m, setup\u001b[39m=\u001b[39m\u001b[39m\"\u001b[39m\u001b[39mpass\u001b[39m\u001b[39m\"\u001b[39m, timer\u001b[39m=\u001b[39mdefault_timer,\n\u001b[1;32m    232\u001b[0m            number\u001b[39m=\u001b[39mdefault_number, \u001b[39mglobals\u001b[39m\u001b[39m=\u001b[39m\u001b[39mNone\u001b[39;00m):\n\u001b[1;32m    233\u001b[0m \u001b[39m    \u001b[39m\u001b[39m\"\"\"Convenience function to create Timer object and call timeit method.\"\"\"\u001b[39;00m\n\u001b[0;32m--> 234\u001b[0m     \u001b[39mreturn\u001b[39;00m Timer(stmt, setup, timer, \u001b[39mglobals\u001b[39;49m)\u001b[39m.\u001b[39;49mtimeit(number)\n",
      "File \u001b[0;32m~/anaconda3/envs/se481-2023/lib/python3.10/timeit.py:178\u001b[0m, in \u001b[0;36mTimer.timeit\u001b[0;34m(self, number)\u001b[0m\n\u001b[1;32m    176\u001b[0m gc\u001b[39m.\u001b[39mdisable()\n\u001b[1;32m    177\u001b[0m \u001b[39mtry\u001b[39;00m:\n\u001b[0;32m--> 178\u001b[0m     timing \u001b[39m=\u001b[39m \u001b[39mself\u001b[39;49m\u001b[39m.\u001b[39;49minner(it, \u001b[39mself\u001b[39;49m\u001b[39m.\u001b[39;49mtimer)\n\u001b[1;32m    179\u001b[0m \u001b[39mfinally\u001b[39;00m:\n\u001b[1;32m    180\u001b[0m     \u001b[39mif\u001b[39;00m gcold:\n",
      "File \u001b[0;32m<timeit-src>:6\u001b[0m, in \u001b[0;36minner\u001b[0;34m(_it, _timer, _stmt)\u001b[0m\n",
      "\u001b[1;32m/home/mansmooth/ir-py/hands-on/02/h2-2.ipynb Cell 10\u001b[0m line \u001b[0;36m2\n\u001b[1;32m      <a href='vscode-notebook-cell://wsl%2Bubuntu-22.04/home/mansmooth/ir-py/hands-on/02/h2-2.ipynb#X12sdnNjb2RlLXJlbW90ZQ%3D%3D?line=0'>1</a>\u001b[0m XX \u001b[39m=\u001b[39m X\u001b[39m.\u001b[39mtoarray()\n\u001b[0;32m----> <a href='vscode-notebook-cell://wsl%2Bubuntu-22.04/home/mansmooth/ir-py/hands-on/02/h2-2.ipynb#X12sdnNjb2RlLXJlbW90ZQ%3D%3D?line=1'>2</a>\u001b[0m timeit\u001b[39m.\u001b[39mtimeit(\u001b[39mlambda\u001b[39;00m: np\u001b[39m.\u001b[39;49mmatmul(XX, XX\u001b[39m.\u001b[39;49mT),number\u001b[39m=\u001b[39m\u001b[39m1\u001b[39m)\n",
      "\u001b[0;31mKeyboardInterrupt\u001b[0m: "
     ]
    }
   ],
   "source": [
    "XX = X.toarray()\n",
    "timeit.timeit(lambda: np.matmul(XX, XX.T),number=1)\n"
   ]
  },
  {
   "cell_type": "code",
   "execution_count": 9,
   "metadata": {},
   "outputs": [
    {
     "data": {
      "text/plain": [
       "0.07069667399991886"
      ]
     },
     "execution_count": 9,
     "metadata": {},
     "output_type": "execute_result"
    }
   ],
   "source": [
    "timeit.timeit(lambda: X*X.T,number=1)\n"
   ]
  },
  {
   "cell_type": "code",
   "execution_count": 10,
   "metadata": {},
   "outputs": [
    {
     "name": "stdout",
     "output_type": "stream",
     "text": [
      "timeit.timeit(lambda: np.matmul(XX, XX.T), number=3)/3=5.775204409333128\n",
      "timeit.timeit(lambda: X.todok()*X.T.todok(),number=3)/3=0.20328985233330363\n",
      "timeit.timeit(lambda: X.tolil()*X.T.tolil(),number=3)/3=0.08749893266667641\n",
      "timeit.timeit(lambda: X.tocoo()*X.T.tocoo(),number=3)/3=0.06553518733350454\n",
      "timeit.timeit(lambda: X.tocsc()*X.T.tocsc(),number=3)/3=0.06209700233315137\n"
     ]
    }
   ],
   "source": [
    "print(f\"{timeit.timeit(lambda: np.matmul(XX, XX.T), number=3)/3=}\")\n",
    "print(f\"{timeit.timeit(lambda: X.todok()*X.T.todok(),number=3)/3=}\")\n",
    "print(f\"{timeit.timeit(lambda: X.tolil()*X.T.tolil(),number=3)/3=}\")\n",
    "print(f\"{timeit.timeit(lambda: X.tocoo()*X.T.tocoo(),number=3)/3=}\")\n",
    "print(f\"{timeit.timeit(lambda: X.tocsc()*X.T.tocsc(),number=3)/3=}\")\n"
   ]
  },
  {
   "cell_type": "markdown",
   "metadata": {},
   "source": [
    "# 70"
   ]
  },
  {
   "cell_type": "code",
   "execution_count": 10,
   "metadata": {},
   "outputs": [],
   "source": [
    "import pandas as pd\n",
    "from multiprocessing import Pool\n"
   ]
  },
  {
   "cell_type": "code",
   "execution_count": 11,
   "metadata": {},
   "outputs": [],
   "source": [
    "rows = pd.read_csv(path)\n",
    "rows.drop_duplicates(inplace=True)\n",
    "descriptions = extract_description(rows)\n",
    "descriptions = tokenize(descriptions)\n"
   ]
  },
  {
   "cell_type": "code",
   "execution_count": 12,
   "metadata": {},
   "outputs": [],
   "source": [
    "def set_filter(s: pd.Series):\n",
    "    stopwords_set = set(stopwords.words())\n",
    "    return s.apply(lambda s: s.difference(stopwords_set))\n",
    "\n",
    "def list_filter(s: pd.Series):\n",
    "    stopwords_list = stopwords.words()\n",
    "    return s.apply(lambda s: [word for word in s if word not in stopwords_list])\n"
   ]
  },
  {
   "cell_type": "code",
   "execution_count": 13,
   "metadata": {},
   "outputs": [
    {
     "data": {
      "text/html": [
       "<div>\n",
       "<style scoped>\n",
       "    .dataframe tbody tr th:only-of-type {\n",
       "        vertical-align: middle;\n",
       "    }\n",
       "\n",
       "    .dataframe tbody tr th {\n",
       "        vertical-align: top;\n",
       "    }\n",
       "\n",
       "    .dataframe thead th {\n",
       "        text-align: right;\n",
       "    }\n",
       "</style>\n",
       "<table border=\"1\" class=\"dataframe\">\n",
       "  <thead>\n",
       "    <tr style=\"text-align: right;\">\n",
       "      <th></th>\n",
       "      <th>size</th>\n",
       "    </tr>\n",
       "  </thead>\n",
       "  <tbody>\n",
       "    <tr>\n",
       "      <th>0</th>\n",
       "      <td>500</td>\n",
       "    </tr>\n",
       "    <tr>\n",
       "      <th>1</th>\n",
       "      <td>1000</td>\n",
       "    </tr>\n",
       "    <tr>\n",
       "      <th>2</th>\n",
       "      <td>1500</td>\n",
       "    </tr>\n",
       "    <tr>\n",
       "      <th>3</th>\n",
       "      <td>2000</td>\n",
       "    </tr>\n",
       "    <tr>\n",
       "      <th>4</th>\n",
       "      <td>2500</td>\n",
       "    </tr>\n",
       "    <tr>\n",
       "      <th>5</th>\n",
       "      <td>3000</td>\n",
       "    </tr>\n",
       "  </tbody>\n",
       "</table>\n",
       "</div>"
      ],
      "text/plain": [
       "   size\n",
       "0   500\n",
       "1  1000\n",
       "2  1500\n",
       "3  2000\n",
       "4  2500\n",
       "5  3000"
      ]
     },
     "execution_count": 13,
     "metadata": {},
     "output_type": "execute_result"
    }
   ],
   "source": [
    "sizes = list(range(0, len(rows), len(rows)//20)) + [len(rows)]\n",
    "sizes.pop(0)\n",
    "perf_df = pd.DataFrame(sizes[:6], columns=[\"size\"])\n",
    "perf_df\n"
   ]
  },
  {
   "cell_type": "code",
   "execution_count": 14,
   "metadata": {},
   "outputs": [
    {
     "name": "stdout",
     "output_type": "stream",
     "text": [
      "pool_size=1 size=500 func=<function set_filter at 0x7fddabac6950>\n"
     ]
    },
    {
     "name": "stderr",
     "output_type": "stream",
     "text": [
      "/home/mansmooth/anaconda3/envs/se481-2023/lib/python3.10/site-packages/numpy/core/fromnumeric.py:59: FutureWarning: 'Series.swapaxes' is deprecated and will be removed in a future version. Please use 'Series.transpose' instead.\n",
      "  return bound(*args, **kwds)\n"
     ]
    },
    {
     "name": "stdout",
     "output_type": "stream",
     "text": [
      "pool_size=1 size=1000 func=<function set_filter at 0x7fddabac6950>\n",
      "pool_size=1 size=1500 func=<function set_filter at 0x7fddabac6950>\n",
      "pool_size=1 size=2000 func=<function set_filter at 0x7fddabac6950>\n",
      "pool_size=1 size=2500 func=<function set_filter at 0x7fddabac6950>\n",
      "pool_size=1 size=3000 func=<function set_filter at 0x7fddabac6950>\n",
      "pool_size=1 size=500 func=<function list_filter at 0x7fddabac6290>\n"
     ]
    },
    {
     "name": "stderr",
     "output_type": "stream",
     "text": [
      "/home/mansmooth/anaconda3/envs/se481-2023/lib/python3.10/site-packages/numpy/core/fromnumeric.py:59: FutureWarning: 'Series.swapaxes' is deprecated and will be removed in a future version. Please use 'Series.transpose' instead.\n",
      "  return bound(*args, **kwds)\n"
     ]
    },
    {
     "name": "stdout",
     "output_type": "stream",
     "text": [
      "pool_size=1 size=1000 func=<function list_filter at 0x7fddabac6290>\n",
      "pool_size=1 size=1500 func=<function list_filter at 0x7fddabac6290>\n",
      "pool_size=1 size=2000 func=<function list_filter at 0x7fddabac6290>\n",
      "pool_size=1 size=2500 func=<function list_filter at 0x7fddabac6290>\n",
      "pool_size=1 size=3000 func=<function list_filter at 0x7fddabac6290>\n",
      "pool_size=2 size=500 func=<function set_filter at 0x7fddabac6950>\n"
     ]
    },
    {
     "name": "stderr",
     "output_type": "stream",
     "text": [
      "/home/mansmooth/anaconda3/envs/se481-2023/lib/python3.10/site-packages/numpy/core/fromnumeric.py:59: FutureWarning: 'Series.swapaxes' is deprecated and will be removed in a future version. Please use 'Series.transpose' instead.\n",
      "  return bound(*args, **kwds)\n"
     ]
    },
    {
     "name": "stdout",
     "output_type": "stream",
     "text": [
      "pool_size=2 size=1000 func=<function set_filter at 0x7fddabac6950>\n",
      "pool_size=2 size=1500 func=<function set_filter at 0x7fddabac6950>\n",
      "pool_size=2 size=2000 func=<function set_filter at 0x7fddabac6950>\n",
      "pool_size=2 size=2500 func=<function set_filter at 0x7fddabac6950>\n",
      "pool_size=2 size=3000 func=<function set_filter at 0x7fddabac6950>\n",
      "pool_size=2 size=500 func=<function list_filter at 0x7fddabac6290>\n"
     ]
    },
    {
     "name": "stderr",
     "output_type": "stream",
     "text": [
      "/home/mansmooth/anaconda3/envs/se481-2023/lib/python3.10/site-packages/numpy/core/fromnumeric.py:59: FutureWarning: 'Series.swapaxes' is deprecated and will be removed in a future version. Please use 'Series.transpose' instead.\n",
      "  return bound(*args, **kwds)\n"
     ]
    },
    {
     "name": "stdout",
     "output_type": "stream",
     "text": [
      "pool_size=2 size=1000 func=<function list_filter at 0x7fddabac6290>\n",
      "pool_size=2 size=1500 func=<function list_filter at 0x7fddabac6290>\n",
      "pool_size=2 size=2000 func=<function list_filter at 0x7fddabac6290>\n",
      "pool_size=2 size=2500 func=<function list_filter at 0x7fddabac6290>\n",
      "pool_size=2 size=3000 func=<function list_filter at 0x7fddabac6290>\n",
      "pool_size=4 size=500 func=<function set_filter at 0x7fddabac6950>\n"
     ]
    },
    {
     "name": "stderr",
     "output_type": "stream",
     "text": [
      "/home/mansmooth/anaconda3/envs/se481-2023/lib/python3.10/site-packages/numpy/core/fromnumeric.py:59: FutureWarning: 'Series.swapaxes' is deprecated and will be removed in a future version. Please use 'Series.transpose' instead.\n",
      "  return bound(*args, **kwds)\n"
     ]
    },
    {
     "name": "stdout",
     "output_type": "stream",
     "text": [
      "pool_size=4 size=1000 func=<function set_filter at 0x7fddabac6950>\n",
      "pool_size=4 size=1500 func=<function set_filter at 0x7fddabac6950>\n",
      "pool_size=4 size=2000 func=<function set_filter at 0x7fddabac6950>\n",
      "pool_size=4 size=2500 func=<function set_filter at 0x7fddabac6950>\n",
      "pool_size=4 size=3000 func=<function set_filter at 0x7fddabac6950>\n",
      "pool_size=4 size=500 func=<function list_filter at 0x7fddabac6290>\n"
     ]
    },
    {
     "name": "stderr",
     "output_type": "stream",
     "text": [
      "/home/mansmooth/anaconda3/envs/se481-2023/lib/python3.10/site-packages/numpy/core/fromnumeric.py:59: FutureWarning: 'Series.swapaxes' is deprecated and will be removed in a future version. Please use 'Series.transpose' instead.\n",
      "  return bound(*args, **kwds)\n"
     ]
    },
    {
     "name": "stdout",
     "output_type": "stream",
     "text": [
      "pool_size=4 size=1000 func=<function list_filter at 0x7fddabac6290>\n",
      "pool_size=4 size=1500 func=<function list_filter at 0x7fddabac6290>\n",
      "pool_size=4 size=2000 func=<function list_filter at 0x7fddabac6290>\n",
      "pool_size=4 size=2500 func=<function list_filter at 0x7fddabac6290>\n",
      "pool_size=4 size=3000 func=<function list_filter at 0x7fddabac6290>\n",
      "pool_size=8 size=500 func=<function set_filter at 0x7fddabac6950>\n"
     ]
    },
    {
     "name": "stderr",
     "output_type": "stream",
     "text": [
      "/home/mansmooth/anaconda3/envs/se481-2023/lib/python3.10/site-packages/numpy/core/fromnumeric.py:59: FutureWarning: 'Series.swapaxes' is deprecated and will be removed in a future version. Please use 'Series.transpose' instead.\n",
      "  return bound(*args, **kwds)\n"
     ]
    },
    {
     "name": "stdout",
     "output_type": "stream",
     "text": [
      "pool_size=8 size=1000 func=<function set_filter at 0x7fddabac6950>\n",
      "pool_size=8 size=1500 func=<function set_filter at 0x7fddabac6950>\n",
      "pool_size=8 size=2000 func=<function set_filter at 0x7fddabac6950>\n",
      "pool_size=8 size=2500 func=<function set_filter at 0x7fddabac6950>\n",
      "pool_size=8 size=3000 func=<function set_filter at 0x7fddabac6950>\n",
      "pool_size=8 size=500 func=<function list_filter at 0x7fddabac6290>\n"
     ]
    },
    {
     "name": "stderr",
     "output_type": "stream",
     "text": [
      "/home/mansmooth/anaconda3/envs/se481-2023/lib/python3.10/site-packages/numpy/core/fromnumeric.py:59: FutureWarning: 'Series.swapaxes' is deprecated and will be removed in a future version. Please use 'Series.transpose' instead.\n",
      "  return bound(*args, **kwds)\n"
     ]
    },
    {
     "name": "stdout",
     "output_type": "stream",
     "text": [
      "pool_size=8 size=1000 func=<function list_filter at 0x7fddabac6290>\n",
      "pool_size=8 size=1500 func=<function list_filter at 0x7fddabac6290>\n",
      "pool_size=8 size=2000 func=<function list_filter at 0x7fddabac6290>\n",
      "pool_size=8 size=2500 func=<function list_filter at 0x7fddabac6290>\n",
      "pool_size=8 size=3000 func=<function list_filter at 0x7fddabac6290>\n",
      "pool_size=12 size=500 func=<function set_filter at 0x7fddabac6950>\n"
     ]
    },
    {
     "name": "stderr",
     "output_type": "stream",
     "text": [
      "/home/mansmooth/anaconda3/envs/se481-2023/lib/python3.10/site-packages/numpy/core/fromnumeric.py:59: FutureWarning: 'Series.swapaxes' is deprecated and will be removed in a future version. Please use 'Series.transpose' instead.\n",
      "  return bound(*args, **kwds)\n"
     ]
    },
    {
     "name": "stdout",
     "output_type": "stream",
     "text": [
      "pool_size=12 size=1000 func=<function set_filter at 0x7fddabac6950>\n",
      "pool_size=12 size=1500 func=<function set_filter at 0x7fddabac6950>\n",
      "pool_size=12 size=2000 func=<function set_filter at 0x7fddabac6950>\n",
      "pool_size=12 size=2500 func=<function set_filter at 0x7fddabac6950>\n",
      "pool_size=12 size=3000 func=<function set_filter at 0x7fddabac6950>\n",
      "pool_size=12 size=500 func=<function list_filter at 0x7fddabac6290>\n"
     ]
    },
    {
     "name": "stderr",
     "output_type": "stream",
     "text": [
      "/home/mansmooth/anaconda3/envs/se481-2023/lib/python3.10/site-packages/numpy/core/fromnumeric.py:59: FutureWarning: 'Series.swapaxes' is deprecated and will be removed in a future version. Please use 'Series.transpose' instead.\n",
      "  return bound(*args, **kwds)\n"
     ]
    },
    {
     "name": "stdout",
     "output_type": "stream",
     "text": [
      "pool_size=12 size=1000 func=<function list_filter at 0x7fddabac6290>\n",
      "pool_size=12 size=1500 func=<function list_filter at 0x7fddabac6290>\n",
      "pool_size=12 size=2000 func=<function list_filter at 0x7fddabac6290>\n",
      "pool_size=12 size=2500 func=<function list_filter at 0x7fddabac6290>\n",
      "pool_size=12 size=3000 func=<function list_filter at 0x7fddabac6290>\n"
     ]
    },
    {
     "data": {
      "text/html": [
       "<div>\n",
       "<style scoped>\n",
       "    .dataframe tbody tr th:only-of-type {\n",
       "        vertical-align: middle;\n",
       "    }\n",
       "\n",
       "    .dataframe tbody tr th {\n",
       "        vertical-align: top;\n",
       "    }\n",
       "\n",
       "    .dataframe thead th {\n",
       "        text-align: right;\n",
       "    }\n",
       "</style>\n",
       "<table border=\"1\" class=\"dataframe\">\n",
       "  <thead>\n",
       "    <tr style=\"text-align: right;\">\n",
       "      <th></th>\n",
       "      <th>size</th>\n",
       "      <th>set_1</th>\n",
       "      <th>list_1</th>\n",
       "      <th>set_2</th>\n",
       "      <th>list_2</th>\n",
       "      <th>set_4</th>\n",
       "      <th>list_4</th>\n",
       "      <th>set_8</th>\n",
       "      <th>list_8</th>\n",
       "      <th>set_12</th>\n",
       "      <th>list_12</th>\n",
       "    </tr>\n",
       "  </thead>\n",
       "  <tbody>\n",
       "    <tr>\n",
       "      <th>0</th>\n",
       "      <td>500</td>\n",
       "      <td>0.126221</td>\n",
       "      <td>5.291890</td>\n",
       "      <td>0.138167</td>\n",
       "      <td>3.381706</td>\n",
       "      <td>0.120784</td>\n",
       "      <td>1.994234</td>\n",
       "      <td>0.165814</td>\n",
       "      <td>1.355133</td>\n",
       "      <td>0.217640</td>\n",
       "      <td>1.378027</td>\n",
       "    </tr>\n",
       "    <tr>\n",
       "      <th>1</th>\n",
       "      <td>1000</td>\n",
       "      <td>0.204930</td>\n",
       "      <td>10.390511</td>\n",
       "      <td>0.212716</td>\n",
       "      <td>6.136818</td>\n",
       "      <td>0.162018</td>\n",
       "      <td>4.152206</td>\n",
       "      <td>0.210327</td>\n",
       "      <td>2.702376</td>\n",
       "      <td>0.259041</td>\n",
       "      <td>2.454593</td>\n",
       "    </tr>\n",
       "    <tr>\n",
       "      <th>2</th>\n",
       "      <td>1500</td>\n",
       "      <td>0.312706</td>\n",
       "      <td>15.998031</td>\n",
       "      <td>0.261098</td>\n",
       "      <td>9.338745</td>\n",
       "      <td>0.216196</td>\n",
       "      <td>6.114180</td>\n",
       "      <td>0.251613</td>\n",
       "      <td>4.214332</td>\n",
       "      <td>0.350489</td>\n",
       "      <td>4.522807</td>\n",
       "    </tr>\n",
       "    <tr>\n",
       "      <th>3</th>\n",
       "      <td>2000</td>\n",
       "      <td>0.431418</td>\n",
       "      <td>21.618389</td>\n",
       "      <td>0.370137</td>\n",
       "      <td>12.431781</td>\n",
       "      <td>0.283013</td>\n",
       "      <td>7.814515</td>\n",
       "      <td>0.297145</td>\n",
       "      <td>5.481094</td>\n",
       "      <td>0.497753</td>\n",
       "      <td>5.257834</td>\n",
       "    </tr>\n",
       "    <tr>\n",
       "      <th>4</th>\n",
       "      <td>2500</td>\n",
       "      <td>0.507778</td>\n",
       "      <td>28.302848</td>\n",
       "      <td>0.444127</td>\n",
       "      <td>15.652892</td>\n",
       "      <td>0.349035</td>\n",
       "      <td>9.748987</td>\n",
       "      <td>0.338402</td>\n",
       "      <td>6.468625</td>\n",
       "      <td>0.475005</td>\n",
       "      <td>5.915083</td>\n",
       "    </tr>\n",
       "    <tr>\n",
       "      <th>5</th>\n",
       "      <td>3000</td>\n",
       "      <td>0.662206</td>\n",
       "      <td>33.721421</td>\n",
       "      <td>0.632048</td>\n",
       "      <td>18.056817</td>\n",
       "      <td>0.463881</td>\n",
       "      <td>11.538387</td>\n",
       "      <td>0.402495</td>\n",
       "      <td>7.763758</td>\n",
       "      <td>0.603984</td>\n",
       "      <td>7.205471</td>\n",
       "    </tr>\n",
       "  </tbody>\n",
       "</table>\n",
       "</div>"
      ],
      "text/plain": [
       "   size     set_1     list_1     set_2     list_2     set_4     list_4  \\\n",
       "0   500  0.126221   5.291890  0.138167   3.381706  0.120784   1.994234   \n",
       "1  1000  0.204930  10.390511  0.212716   6.136818  0.162018   4.152206   \n",
       "2  1500  0.312706  15.998031  0.261098   9.338745  0.216196   6.114180   \n",
       "3  2000  0.431418  21.618389  0.370137  12.431781  0.283013   7.814515   \n",
       "4  2500  0.507778  28.302848  0.444127  15.652892  0.349035   9.748987   \n",
       "5  3000  0.662206  33.721421  0.632048  18.056817  0.463881  11.538387   \n",
       "\n",
       "      set_8    list_8    set_12   list_12  \n",
       "0  0.165814  1.355133  0.217640  1.378027  \n",
       "1  0.210327  2.702376  0.259041  2.454593  \n",
       "2  0.251613  4.214332  0.350489  4.522807  \n",
       "3  0.297145  5.481094  0.497753  5.257834  \n",
       "4  0.338402  6.468625  0.475005  5.915083  \n",
       "5  0.402495  7.763758  0.603984  7.205471  "
      ]
     },
     "execution_count": 14,
     "metadata": {},
     "output_type": "execute_result"
    }
   ],
   "source": [
    "pool_sizes = [1, 2, 4, 8, 12]\n",
    "\n",
    "def process(pool_size, size, func):\n",
    "    print(f\"{pool_size=} {size=} {func=}\")\n",
    "    split = np.array_split(descriptions[:size], pool_size)\n",
    "    with Pool(pool_size) as p:\n",
    "        p.map(func, split)\n",
    "\n",
    "for n in pool_sizes:\n",
    "    perf_df[f\"set_{n}\"] = perf_df[\"size\"].apply(lambda x: timeit.timeit(lambda: process(n, x, set_filter), number=1))\n",
    "    perf_df[f\"list_{n}\"] = perf_df[\"size\"].apply(lambda x: timeit.timeit(lambda: process(n, x, list_filter), number=1))\n",
    "\n",
    "perf_df\n"
   ]
  },
  {
   "cell_type": "code",
   "execution_count": 103,
   "metadata": {},
   "outputs": [
    {
     "name": "stdout",
     "output_type": "stream",
     "text": [
      "pool_size=1 size=10000 func=<function set_filter at 0x7fa692c6f520>\n"
     ]
    },
    {
     "name": "stderr",
     "output_type": "stream",
     "text": [
      "/home/mansmooth/anaconda3/envs/se481-2023/lib/python3.10/site-packages/numpy/core/fromnumeric.py:59: FutureWarning: 'Series.swapaxes' is deprecated and will be removed in a future version. Please use 'Series.transpose' instead.\n",
      "  return bound(*args, **kwds)\n"
     ]
    },
    {
     "name": "stdout",
     "output_type": "stream",
     "text": [
      "pool_size=2 size=10000 func=<function set_filter at 0x7fa692c6f520>\n",
      "pool_size=4 size=10000 func=<function set_filter at 0x7fa692c6f520>\n",
      "pool_size=8 size=10000 func=<function set_filter at 0x7fa692c6f520>\n",
      "pool_size=12 size=10000 func=<function set_filter at 0x7fa692c6f520>\n",
      "pool_size=1 size=10000 func=<function list_filter at 0x7fa693b93760>\n"
     ]
    },
    {
     "name": "stderr",
     "output_type": "stream",
     "text": [
      "/home/mansmooth/anaconda3/envs/se481-2023/lib/python3.10/site-packages/numpy/core/fromnumeric.py:59: FutureWarning: 'Series.swapaxes' is deprecated and will be removed in a future version. Please use 'Series.transpose' instead.\n",
      "  return bound(*args, **kwds)\n"
     ]
    },
    {
     "name": "stdout",
     "output_type": "stream",
     "text": [
      "pool_size=2 size=10000 func=<function list_filter at 0x7fa693b93760>\n",
      "pool_size=4 size=10000 func=<function list_filter at 0x7fa693b93760>\n",
      "pool_size=8 size=10000 func=<function list_filter at 0x7fa693b93760>\n",
      "pool_size=12 size=10000 func=<function list_filter at 0x7fa693b93760>\n"
     ]
    },
    {
     "data": {
      "text/html": [
       "<div>\n",
       "<style scoped>\n",
       "    .dataframe tbody tr th:only-of-type {\n",
       "        vertical-align: middle;\n",
       "    }\n",
       "\n",
       "    .dataframe tbody tr th {\n",
       "        vertical-align: top;\n",
       "    }\n",
       "\n",
       "    .dataframe thead th {\n",
       "        text-align: right;\n",
       "    }\n",
       "</style>\n",
       "<table border=\"1\" class=\"dataframe\">\n",
       "  <thead>\n",
       "    <tr style=\"text-align: right;\">\n",
       "      <th></th>\n",
       "      <th>pool_size</th>\n",
       "      <th>set</th>\n",
       "      <th>list</th>\n",
       "    </tr>\n",
       "  </thead>\n",
       "  <tbody>\n",
       "    <tr>\n",
       "      <th>0</th>\n",
       "      <td>1</td>\n",
       "      <td>2.341643</td>\n",
       "      <td>113.011733</td>\n",
       "    </tr>\n",
       "    <tr>\n",
       "      <th>1</th>\n",
       "      <td>2</td>\n",
       "      <td>1.756471</td>\n",
       "      <td>61.779760</td>\n",
       "    </tr>\n",
       "    <tr>\n",
       "      <th>2</th>\n",
       "      <td>4</td>\n",
       "      <td>1.335566</td>\n",
       "      <td>35.961083</td>\n",
       "    </tr>\n",
       "    <tr>\n",
       "      <th>3</th>\n",
       "      <td>8</td>\n",
       "      <td>1.319586</td>\n",
       "      <td>25.053799</td>\n",
       "    </tr>\n",
       "    <tr>\n",
       "      <th>4</th>\n",
       "      <td>12</td>\n",
       "      <td>1.434732</td>\n",
       "      <td>22.508527</td>\n",
       "    </tr>\n",
       "  </tbody>\n",
       "</table>\n",
       "</div>"
      ],
      "text/plain": [
       "   pool_size       set        list\n",
       "0          1  2.341643  113.011733\n",
       "1          2  1.756471   61.779760\n",
       "2          4  1.335566   35.961083\n",
       "3          8  1.319586   25.053799\n",
       "4         12  1.434732   22.508527"
      ]
     },
     "execution_count": 103,
     "metadata": {},
     "output_type": "execute_result"
    }
   ],
   "source": [
    "pool_sizes = [1, 2, 4, 8, 12]\n",
    "\n",
    "perf_pool_df = pd.DataFrame(pool_sizes, columns=[\"pool_size\"])\n",
    "\n",
    "def process(pool_size, size, func):\n",
    "    print(f\"{pool_size=} {size=} {func=}\")\n",
    "    split = np.array_split(descriptions[:size], pool_size)\n",
    "    with Pool(pool_size) as p:\n",
    "        p.map(func, split)\n",
    "\n",
    "perf_pool_df[\"set\"] = perf_pool_df[\"pool_size\"].apply(lambda x: timeit.timeit(lambda: process(x, 10000, set_filter), number=1))\n",
    "perf_pool_df[\"list\"] = perf_pool_df[\"pool_size\"].apply(lambda x: timeit.timeit(lambda: process(x, 10000, list_filter), number=1))\n",
    "\n",
    "perf_pool_df\n"
   ]
  },
  {
   "cell_type": "code",
   "execution_count": 26,
   "metadata": {},
   "outputs": [
    {
     "data": {
      "text/html": [
       "<div>\n",
       "<style scoped>\n",
       "    .dataframe tbody tr th:only-of-type {\n",
       "        vertical-align: middle;\n",
       "    }\n",
       "\n",
       "    .dataframe tbody tr th {\n",
       "        vertical-align: top;\n",
       "    }\n",
       "\n",
       "    .dataframe thead th {\n",
       "        text-align: right;\n",
       "    }\n",
       "</style>\n",
       "<table border=\"1\" class=\"dataframe\">\n",
       "  <thead>\n",
       "    <tr style=\"text-align: right;\">\n",
       "      <th></th>\n",
       "      <th>diff_1</th>\n",
       "      <th>diff_2</th>\n",
       "      <th>diff_4</th>\n",
       "      <th>diff_8</th>\n",
       "      <th>diff_12</th>\n",
       "    </tr>\n",
       "  </thead>\n",
       "  <tbody>\n",
       "    <tr>\n",
       "      <th>0</th>\n",
       "      <td>41.925665</td>\n",
       "      <td>24.475574</td>\n",
       "      <td>16.510778</td>\n",
       "      <td>8.172602</td>\n",
       "      <td>6.331672</td>\n",
       "    </tr>\n",
       "    <tr>\n",
       "      <th>1</th>\n",
       "      <td>50.702678</td>\n",
       "      <td>28.849752</td>\n",
       "      <td>25.628120</td>\n",
       "      <td>12.848429</td>\n",
       "      <td>9.475701</td>\n",
       "    </tr>\n",
       "    <tr>\n",
       "      <th>2</th>\n",
       "      <td>51.160023</td>\n",
       "      <td>35.767189</td>\n",
       "      <td>28.280788</td>\n",
       "      <td>16.749232</td>\n",
       "      <td>12.904290</td>\n",
       "    </tr>\n",
       "    <tr>\n",
       "      <th>3</th>\n",
       "      <td>50.110115</td>\n",
       "      <td>33.586956</td>\n",
       "      <td>27.611871</td>\n",
       "      <td>18.445829</td>\n",
       "      <td>10.563143</td>\n",
       "    </tr>\n",
       "    <tr>\n",
       "      <th>4</th>\n",
       "      <td>55.738625</td>\n",
       "      <td>35.244213</td>\n",
       "      <td>27.931264</td>\n",
       "      <td>19.115214</td>\n",
       "      <td>12.452664</td>\n",
       "    </tr>\n",
       "    <tr>\n",
       "      <th>5</th>\n",
       "      <td>50.922844</td>\n",
       "      <td>28.568753</td>\n",
       "      <td>24.873591</td>\n",
       "      <td>19.289103</td>\n",
       "      <td>11.929912</td>\n",
       "    </tr>\n",
       "  </tbody>\n",
       "</table>\n",
       "</div>"
      ],
      "text/plain": [
       "      diff_1     diff_2     diff_4     diff_8    diff_12\n",
       "0  41.925665  24.475574  16.510778   8.172602   6.331672\n",
       "1  50.702678  28.849752  25.628120  12.848429   9.475701\n",
       "2  51.160023  35.767189  28.280788  16.749232  12.904290\n",
       "3  50.110115  33.586956  27.611871  18.445829  10.563143\n",
       "4  55.738625  35.244213  27.931264  19.115214  12.452664\n",
       "5  50.922844  28.568753  24.873591  19.289103  11.929912"
      ]
     },
     "execution_count": 26,
     "metadata": {},
     "output_type": "execute_result"
    },
    {
     "data": {
      "image/png": "[encoded data removed]",
      "text/plain": [
       "<Figure size 640x480 with 1 Axes>"
      ]
     },
     "metadata": {},
     "output_type": "display_data"
    }
   ],
   "source": [
    "for n in pool_sizes:\n",
    "    perf_df[f\"diff_{n}\"] = perf_df[f\"list_{n}\"]/perf_df[f\"set_{n}\"]\n",
    "perf_df.plot(x=\"size\", y=[col for col in perf_df.columns if \"diff\" in col], ylabel=\"times\")\n",
    "perf_df[[col for col in perf_df.columns if \"diff\" in col]]\n"
   ]
  },
  {
   "cell_type": "code",
   "execution_count": 21,
   "metadata": {},
   "outputs": [
    {
     "data": {
      "text/plain": [
       "<Axes: xlabel='size', ylabel='seconds'>"
      ]
     },
     "execution_count": 21,
     "metadata": {},
     "output_type": "execute_result"
    },
    {
     "data": {
      "image/png": "[encoded data removed]",
      "text/plain": [
       "<Figure size 640x480 with 1 Axes>"
      ]
     },
     "metadata": {},
     "output_type": "display_data"
    }
   ],
   "source": [
    "perf_df.plot(x=\"size\", y=[col for col in perf_df if \"list\" in col], ylabel=\"seconds\")\n"
   ]
  },
  {
   "cell_type": "code",
   "execution_count": 107,
   "metadata": {},
   "outputs": [
    {
     "data": {
      "text/plain": [
       "<Axes: xlabel='pool_size', ylabel='seconds'>"
      ]
     },
     "execution_count": 107,
     "metadata": {},
     "output_type": "execute_result"
    },
    {
     "data": {
      "image/png": "[encoded data removed]",
      "text/plain": [
       "<Figure size 640x480 with 1 Axes>"
      ]
     },
     "metadata": {},
     "output_type": "display_data"
    }
   ],
   "source": [
    "perf_pool_df.plot(x=\"pool_size\", y=[\"set\", \"list\"], ylabel=\"seconds\")\n"
   ]
  }
 ],
 "metadata": {
  "kernelspec": {
   "display_name": "se481-2023",
   "language": "python",
   "name": "python3"
  },
  "language_info": {
   "codemirror_mode": {
    "name": "ipython",
    "version": 3
   },
   "file_extension": ".py",
   "mimetype": "text/x-python",
   "name": "python",
   "nbconvert_exporter": "python",
   "pygments_lexer": "ipython3",
   "version": "3.10.13"
  }
 },
 "nbformat": 4,
 "nbformat_minor": 2
}
