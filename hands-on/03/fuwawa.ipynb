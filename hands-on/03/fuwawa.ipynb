{
 "cells": [
  {
   "cell_type": "code",
   "execution_count": 184,
   "metadata": {},
   "outputs": [
    {
     "name": "stdout",
     "output_type": "stream",
     "text": [
      "INFO: Pandarallel will run on 6 workers.\n",
      "INFO: Pandarallel will use Memory file system to transfer data between the main process and workers.\n",
      "The line_profiler extension is already loaded. To reload it, use:\n",
      "  %reload_ext line_profiler\n"
     ]
    },
    {
     "name": "stderr",
     "output_type": "stream",
     "text": [
      "[nltk_data] Downloading package stopwords to\n",
      "[nltk_data]     /home/mansmooth/nltk_data...\n",
      "[nltk_data]   Package stopwords is already up-to-date!\n",
      "[nltk_data] Downloading package punkt to /home/mansmooth/nltk_data...\n",
      "[nltk_data]   Package punkt is already up-to-date!\n"
     ]
    }
   ],
   "source": [
    "from nltk.stem import PorterStemmer\n",
    "from nltk.tokenize import word_tokenize\n",
    "from nltk.corpus import stopwords\n",
    "from sklearn.feature_extraction.text import CountVectorizer, TfidfVectorizer\n",
    "from sklearn.metrics.pairwise import cosine_similarity\n",
    "import nltk\n",
    "import numpy as np\n",
    "import re\n",
    "import pandas as pd\n",
    "import string\n",
    "from pandarallel import pandarallel\n",
    "import typing\n",
    "from scipy import sparse\n",
    "\n",
    "pandarallel.initialize()\n",
    "nltk.download(\"stopwords\")\n",
    "nltk.download(\"punkt\")\n",
    "\n",
    "%load_ext line_profiler\n"
   ]
  },
  {
   "cell_type": "code",
   "execution_count": 14,
   "metadata": {},
   "outputs": [],
   "source": [
    "def create_stem_cache(cleaned_description: pd.DataFrame):\n",
    "    tokenized_description = cleaned_description.parallel_apply(\n",
    "        lambda s: word_tokenize(s)\n",
    "    )\n",
    "    concated: np.ndarray = pd.unique(tokenized_description.explode())\n",
    "    ps = PorterStemmer()\n",
    "    stem_cache = {}\n",
    "    for s in concated:\n",
    "        stem_cache[s] = ps.stem(s)\n",
    "    return stem_cache\n",
    "\n",
    "\n",
    "def create_custom_preprocessor(stop_dict: set[str], stem_cache):\n",
    "    def custom_preprocessor(s):\n",
    "        ps = PorterStemmer()\n",
    "        s = re.sub(r\"[^A-Za-z]\", \" \", s)\n",
    "        s = re.sub(r\"\\s+\", \" \", s)\n",
    "        s = word_tokenize(s)\n",
    "        s = set(s).difference(stop_dict)\n",
    "        s = [word for word in s if len(word) > 2]\n",
    "        s = [stem_cache[w] if w in stem_cache else ps.stem(w) for w in s]\n",
    "        s = \" \".join(s)\n",
    "        return s\n",
    "\n",
    "    return custom_preprocessor\n",
    "\n",
    "\n",
    "def sk_vectorize(texts, cleaned_description, stop_dict, stem_cache):\n",
    "    my_custom_preprocessor = create_custom_preprocessor(stop_dict, stem_cache)\n",
    "    vectorizer = CountVectorizer(preprocessor=my_custom_preprocessor)\n",
    "    vectorizer.fit(cleaned_description)\n",
    "    query = vectorizer.transform(texts)\n",
    "    print(query)\n",
    "    print(vectorizer.inverse_transform(query))\n",
    "\n",
    "\n",
    "def extract_description(df: pd.DataFrame):\n",
    "    s = df[\"job_description\"]\n",
    "    s = s.parallel_apply(\n",
    "        lambda s: s.lower()\n",
    "        .translate(str.maketrans(\"\", \"\", string.punctuation + \"\\xa0\"))\n",
    "        .translate(str.maketrans(string.whitespace, \" \" * len(string.whitespace)))\n",
    "    )\n",
    "    return s\n"
   ]
  },
  {
   "cell_type": "markdown",
   "metadata": {},
   "source": [
    "# 39-42 tf-idf"
   ]
  },
  {
   "cell_type": "code",
   "execution_count": 12,
   "metadata": {},
   "outputs": [
    {
     "name": "stdout",
     "output_type": "stream",
     "text": [
      "DevOpsHandbook.ContinuousDelivery: 14.939885194377617\n",
      "DevOpsHandbook.DistributedComputing: 13.195777686137449\n",
      "ContinuousDelivery.DistributedComputing: 9.410303606094942\n"
     ]
    }
   ],
   "source": [
    "import itertools\n",
    "\n",
    "arr_idx = np.array([\"DevOpsHandbook\", \"ContinuousDelivery\", \"DistributedComputing\"])\n",
    "arr = np.array([[100, 200, 200, 50], [90, 200, 300, 0], [5, 200, 10, 200]])\n",
    "\n",
    "data = pd.DataFrame(\n",
    "    arr,\n",
    "    index=arr_idx,\n",
    "    columns=[\"business\", \"computer\", \"git\", \"parallel\"],\n",
    ")\n",
    "data = np.log10(data + 1)\n",
    "\n",
    "for combi in itertools.combinations(arr_idx, 2):\n",
    "    print(f\"{combi[0]}.{combi[1]}: {data.loc[combi[0]].dot(data.loc[combi[1]])}\")\n"
   ]
  },
  {
   "cell_type": "code",
   "execution_count": 6,
   "metadata": {},
   "outputs": [
    {
     "data": {
      "text/html": [
       "<div>\n",
       "<style scoped>\n",
       "    .dataframe tbody tr th:only-of-type {\n",
       "        vertical-align: middle;\n",
       "    }\n",
       "\n",
       "    .dataframe tbody tr th {\n",
       "        vertical-align: top;\n",
       "    }\n",
       "\n",
       "    .dataframe thead th {\n",
       "        text-align: right;\n",
       "    }\n",
       "</style>\n",
       "<table border=\"1\" class=\"dataframe\">\n",
       "  <thead>\n",
       "    <tr style=\"text-align: right;\">\n",
       "      <th></th>\n",
       "      <th>business</th>\n",
       "      <th>computer</th>\n",
       "      <th>git</th>\n",
       "      <th>parallel</th>\n",
       "    </tr>\n",
       "  </thead>\n",
       "  <tbody>\n",
       "    <tr>\n",
       "      <th>DevOpsHandbook</th>\n",
       "      <td>0.478543</td>\n",
       "      <td>0.549901</td>\n",
       "      <td>0.549901</td>\n",
       "      <td>0.407692</td>\n",
       "    </tr>\n",
       "    <tr>\n",
       "      <th>ContinuousDelivery</th>\n",
       "      <td>0.501071</td>\n",
       "      <td>0.589096</td>\n",
       "      <td>0.633951</td>\n",
       "      <td>0.000000</td>\n",
       "    </tr>\n",
       "    <tr>\n",
       "      <th>DistributedComputing</th>\n",
       "      <td>0.221882</td>\n",
       "      <td>0.656732</td>\n",
       "      <td>0.296942</td>\n",
       "      <td>0.656732</td>\n",
       "    </tr>\n",
       "  </tbody>\n",
       "</table>\n",
       "</div>"
      ],
      "text/plain": [
       "                      business  computer       git  parallel\n",
       "DevOpsHandbook        0.478543  0.549901  0.549901  0.407692\n",
       "ContinuousDelivery    0.501071  0.589096  0.633951  0.000000\n",
       "DistributedComputing  0.221882  0.656732  0.296942  0.656732"
      ]
     },
     "execution_count": 6,
     "metadata": {},
     "output_type": "execute_result"
    }
   ],
   "source": [
    "data.loc['DevOpsHandbook'] /= np.sqrt((data.loc['DevOpsHandbook'] ** 2).sum())\n",
    "data.loc['ContinuousDelivery'] /= np.sqrt((data.loc['ContinuousDelivery'] ** 2).sum())\n",
    "data.loc['DistributedComputing'] /= np.sqrt((data.loc['DistributedComputing'] ** 2).sum())\n",
    "data\n"
   ]
  },
  {
   "cell_type": "code",
   "execution_count": 13,
   "metadata": {},
   "outputs": [
    {
     "name": "stdout",
     "output_type": "stream",
     "text": [
      "DevOpsHandbook.ContinuousDelivery: 14.939885194377617\n",
      "DevOpsHandbook.DistributedComputing: 13.195777686137449\n",
      "ContinuousDelivery.DistributedComputing: 9.410303606094942\n"
     ]
    }
   ],
   "source": [
    "for combi in itertools.combinations(arr_idx, 2):\n",
    "    print(f\"{combi[0]}.{combi[1]}: {data.loc[combi[0]].dot(data.loc[combi[1]])}\")\n"
   ]
  },
  {
   "cell_type": "code",
   "execution_count": 170,
   "metadata": {},
   "outputs": [],
   "source": [
    "m1 = pd.read_csv(\"./resources/software_developer_united_states_1971_20191023_1.csv\")\n",
    "cleaned_description = extract_description(m1)\n",
    "cleaned_description.drop_duplicates(inplace=True)\n",
    "cleaned_description.reset_index(drop=True, inplace=True)\n",
    "stem_cache = create_stem_cache(cleaned_description)\n",
    "stop_dict = set(stopwords.words(\"english\"))\n"
   ]
  },
  {
   "cell_type": "code",
   "execution_count": 171,
   "metadata": {},
   "outputs": [
    {
     "data": {
      "text/plain": [
       "<7582x30513 sparse matrix of type '<class 'numpy.float64'>'\n",
       "\twith 1379684 stored elements in Compressed Sparse Row format>"
      ]
     },
     "execution_count": 171,
     "metadata": {},
     "output_type": "execute_result"
    }
   ],
   "source": [
    "my_custom_preprocessor = create_custom_preprocessor(stop_dict, stem_cache)\n",
    "tf_idf_vectorizer = TfidfVectorizer(preprocessor=my_custom_preprocessor, use_idf=True)\n",
    "vector_tf_idf = tf_idf_vectorizer.fit_transform(cleaned_description)\n",
    "vector_vocab = tf_idf_vectorizer.get_feature_names_out()\n",
    "vector_tf_idf\n"
   ]
  },
  {
   "cell_type": "code",
   "execution_count": 172,
   "metadata": {},
   "outputs": [
    {
     "data": {
      "text/plain": [
       "<7582x30513 sparse matrix of type '<class 'numpy.float64'>'\n",
       "\twith 1379684 stored elements in COOrdinate format>"
      ]
     },
     "execution_count": 172,
     "metadata": {},
     "output_type": "execute_result"
    }
   ],
   "source": [
    "my_custom_preprocessor = create_custom_preprocessor(stop_dict, stem_cache)\n",
    "count_vectorizer = CountVectorizer(preprocessor=my_custom_preprocessor)\n",
    "count_X: sparse.csr_matrix = count_vectorizer.fit_transform(cleaned_description)\n",
    "count_vocab = tf_idf_vectorizer.get_feature_names_out()\n",
    "\n",
    "\n",
    "def log10_1p(x: np.matrix[any, any]) -> np.matrix[any, any]:\n",
    "    return np.log1p(x) / np.log(10)\n",
    "\n",
    "\n",
    "N = len(cleaned_description)\n",
    "\n",
    "df = count_X.sum(axis=0)\n",
    "idf = log10_1p((N / df))\n",
    "tf = log10_1p(count_X)\n",
    "\n",
    "count_tf_idf: sparse.coo_matrix = tf.multiply(idf)\n",
    "count_tf_idf\n"
   ]
  },
  {
   "cell_type": "markdown",
   "metadata": {},
   "source": [
    "# 43 Search"
   ]
  },
  {
   "cell_type": "code",
   "execution_count": 196,
   "metadata": {},
   "outputs": [],
   "source": [
    "def search(terms: str, tf_idf: np.matrix, vectorizer) -> pd.Series:\n",
    "    Q = vectorizer.transform([terms])\n",
    "    cos_sim = cosine_similarity(tf_idf, Q, dense_output=False)\n",
    "    df = (\n",
    "        pd.DataFrame.sparse.from_spmatrix(cos_sim, columns=[\"score\"])\n",
    "        .sort_values(\"score\", ascending=False)\n",
    "    )\n",
    "    df[\"description\"] = df.parallel_apply(lambda x: cleaned_description.loc[x.index])\n",
    "    return df\n"
   ]
  },
  {
   "cell_type": "code",
   "execution_count": 197,
   "metadata": {},
   "outputs": [
    {
     "data": {
      "text/html": [
       "<div>\n",
       "<style scoped>\n",
       "    .dataframe tbody tr th:only-of-type {\n",
       "        vertical-align: middle;\n",
       "    }\n",
       "\n",
       "    .dataframe tbody tr th {\n",
       "        vertical-align: top;\n",
       "    }\n",
       "\n",
       "    .dataframe thead th {\n",
       "        text-align: right;\n",
       "    }\n",
       "</style>\n",
       "<table border=\"1\" class=\"dataframe\">\n",
       "  <thead>\n",
       "    <tr style=\"text-align: right;\">\n",
       "      <th></th>\n",
       "      <th>score</th>\n",
       "      <th>description</th>\n",
       "    </tr>\n",
       "  </thead>\n",
       "  <tbody>\n",
       "    <tr>\n",
       "      <th>2980</th>\n",
       "      <td>0.243932</td>\n",
       "      <td>experience with java aws spring or spring boot...</td>\n",
       "    </tr>\n",
       "    <tr>\n",
       "      <th>4014</th>\n",
       "      <td>0.157274</td>\n",
       "      <td>sr software developer tssci reston va 150k a g...</td>\n",
       "    </tr>\n",
       "    <tr>\n",
       "      <th>2180</th>\n",
       "      <td>0.133551</td>\n",
       "      <td>washington dc  devopssoftware developer locati...</td>\n",
       "    </tr>\n",
       "    <tr>\n",
       "      <th>2395</th>\n",
       "      <td>0.133551</td>\n",
       "      <td>washington dc  devopssoftware developer locati...</td>\n",
       "    </tr>\n",
       "    <tr>\n",
       "      <th>513</th>\n",
       "      <td>0.130424</td>\n",
       "      <td>required skills very strong experience in php ...</td>\n",
       "    </tr>\n",
       "  </tbody>\n",
       "</table>\n",
       "</div>"
      ],
      "text/plain": [
       "         score                                        description\n",
       "2980  0.243932  experience with java aws spring or spring boot...\n",
       "4014  0.157274  sr software developer tssci reston va 150k a g...\n",
       "2180  0.133551  washington dc  devopssoftware developer locati...\n",
       "2395  0.133551  washington dc  devopssoftware developer locati...\n",
       "513   0.130424  required skills very strong experience in php ..."
      ]
     },
     "execution_count": 197,
     "metadata": {},
     "output_type": "execute_result"
    }
   ],
   "source": [
    "search(\"aws devops\", count_tf_idf, count_vectorizer).head(5)\n"
   ]
  },
  {
   "cell_type": "code",
   "execution_count": 198,
   "metadata": {},
   "outputs": [
    {
     "data": {
      "text/html": [
       "<div>\n",
       "<style scoped>\n",
       "    .dataframe tbody tr th:only-of-type {\n",
       "        vertical-align: middle;\n",
       "    }\n",
       "\n",
       "    .dataframe tbody tr th {\n",
       "        vertical-align: top;\n",
       "    }\n",
       "\n",
       "    .dataframe thead th {\n",
       "        text-align: right;\n",
       "    }\n",
       "</style>\n",
       "<table border=\"1\" class=\"dataframe\">\n",
       "  <thead>\n",
       "    <tr style=\"text-align: right;\">\n",
       "      <th></th>\n",
       "      <th>score</th>\n",
       "      <th>description</th>\n",
       "    </tr>\n",
       "  </thead>\n",
       "  <tbody>\n",
       "    <tr>\n",
       "      <th>2980</th>\n",
       "      <td>0.227109</td>\n",
       "      <td>experience with java aws spring or spring boot...</td>\n",
       "    </tr>\n",
       "    <tr>\n",
       "      <th>4014</th>\n",
       "      <td>0.161257</td>\n",
       "      <td>sr software developer tssci reston va 150k a g...</td>\n",
       "    </tr>\n",
       "    <tr>\n",
       "      <th>513</th>\n",
       "      <td>0.153905</td>\n",
       "      <td>required skills very strong experience in php ...</td>\n",
       "    </tr>\n",
       "    <tr>\n",
       "      <th>2180</th>\n",
       "      <td>0.151060</td>\n",
       "      <td>washington dc  devopssoftware developer locati...</td>\n",
       "    </tr>\n",
       "    <tr>\n",
       "      <th>2395</th>\n",
       "      <td>0.151060</td>\n",
       "      <td>washington dc  devopssoftware developer locati...</td>\n",
       "    </tr>\n",
       "  </tbody>\n",
       "</table>\n",
       "</div>"
      ],
      "text/plain": [
       "         score                                        description\n",
       "2980  0.227109  experience with java aws spring or spring boot...\n",
       "4014  0.161257  sr software developer tssci reston va 150k a g...\n",
       "513   0.153905  required skills very strong experience in php ...\n",
       "2180  0.151060  washington dc  devopssoftware developer locati...\n",
       "2395  0.151060  washington dc  devopssoftware developer locati..."
      ]
     },
     "execution_count": 198,
     "metadata": {},
     "output_type": "execute_result"
    }
   ],
   "source": [
    "search(\"aws devops\", vector_tf_idf, tf_idf_vectorizer).head(5)\n"
   ]
  },
  {
   "cell_type": "markdown",
   "metadata": {},
   "source": [
    "# 80, 86, 87 BM25"
   ]
  },
  {
   "cell_type": "code",
   "execution_count": 202,
   "metadata": {},
   "outputs": [
    {
     "data": {
      "image/png": "[encoded data removed]",
      "text/plain": [
       "<Figure size 640x480 with 1 Axes>"
      ]
     },
     "metadata": {},
     "output_type": "display_data"
    }
   ],
   "source": [
    "import matplotlib.pyplot as plt\n",
    "tf = np.linspace(0, 10, 100)\n",
    "for k in [0.2, 0.5, 1, 5, 10]:\n",
    "    plt.plot(tf, tf / (k+tf), label=\"tf / (\"+str(k)+\"+tf)\")\n",
    "plt.legend()\n",
    "plt.show()\n"
   ]
  },
  {
   "cell_type": "code",
   "execution_count": 203,
   "metadata": {},
   "outputs": [],
   "source": [
    "class BM25(object):\n",
    "    def __init__(self, vectorizer, b=0.75, k1=1.6):\n",
    "        self.vectorizer = vectorizer\n",
    "        self.b = b\n",
    "        self.k1 = k1\n",
    "\n",
    "    def fit(self, X):\n",
    "        \"\"\"Fit IDF to documents X\"\"\"\n",
    "        self.vectorizer.fit(X)\n",
    "        self.y = super(TfidfVectorizer, self.vectorizer).transform(X)\n",
    "        self.avdl = self.y.sum(1).mean()\n",
    "\n",
    "    def transform(self, q):\n",
    "        \"\"\"Calculate BM25 between query q and documents X\"\"\"\n",
    "        b, k1, avdl = self.b, self.k1, self.avdl\n",
    "\n",
    "        # apply CountVectorizer\n",
    "        len_y = self.y.sum(1).A1\n",
    "        (q,) = super(TfidfVectorizer, self.vectorizer).transform([q])\n",
    "        assert sparse.isspmatrix_csr(q)\n",
    "\n",
    "        # convert to csc for better column slicing\n",
    "        y = self.y.tocsc()[:, q.indices]\n",
    "        denom = y + (k1 * (1 - b + b * len_y / avdl))[:, None]\n",
    "        idf = self.vectorizer._tfidf.idf_[None, q.indices] - 1.0\n",
    "        numer = y.multiply(np.broadcast_to(idf, y.shape)) * (k1 + 1)\n",
    "        return (numer / denom).sum(1).A1\n"
   ]
  },
  {
   "cell_type": "code",
   "execution_count": 205,
   "metadata": {},
   "outputs": [],
   "source": [
    "m1 = pd.read_csv(\"./resources/software_developer_united_states_1971_20191023_1.csv\")\n",
    "cleaned_description = extract_description(m1)\n",
    "cleaned_description.drop_duplicates(inplace=True)\n",
    "cleaned_description.reset_index(drop=True, inplace=True)\n",
    "bm25 = BM25(tf_idf_vectorizer)\n",
    "bm25.fit(cleaned_description)\n"
   ]
  },
  {
   "cell_type": "code",
   "execution_count": 218,
   "metadata": {},
   "outputs": [
    {
     "data": {
      "text/plain": [
       "2395    washington dc  devopssoftware developer location downtown washington dc 2 days remote flex my client in downtown washington dc is looking to hire a devopssoftware developer asap you will be collecting data that they are fetching and downloading it for multiple projects for various partners you will be working on the devops side of things but big data experience is a plus this person will have the opportunity to eventually move into a lead role and help manage the head of devops and integrati...\n",
       "2180    washington dc  devopssoftware developer location downtown washington dc my client in downtown washington dc is looking to hire a devopssoftware developer asap you will be collecting data that they are fetching and downloading it for multiple projects for various partners you will be working on the devops side of things but big data experience is a plus this person will have the opportunity to eventually move into a lead role and help manage the head of devops and integration preferred skills...\n",
       "4014    sr software developer tssci reston va 150k a governement consulting firm is seeking a sr software developer on a fulltime basis at their reston va site this is a directhire position that requires an active tssci clearance role  responsibilities three 3 or more years of cloud experience three 3 or more years with continuous integrationcontinuous delivery pipelines and container platforms jenkins openshift ansible preferred experience developing service oriented architectures soa experience wi...\n",
       "1793    read what people are saying about working here  software developer  so00038726111  description  appsec devops security replacement for chaitanya katari in appsec  required qualifications  strong hands on experience in linux unix os with good background of shell python scripting  competent in at least one of the following languages and expert in nodejs  expert in at least one of the following domains public cloud aws  server side web dev client side web dev rest web services  experience in mu...\n",
       "566     sr software developer  aws  irving tx  90 110hr  6 month contract location irving tx duration 6 month contract rate 90  110hr sr software developer  aws  irving tx  90110hr  6 month contract this is a very large client located in irving who is looking to bring on software developers to come in and assist with analytics software for backendbased services with the ability to rapidly code and prototype systems in a fast paced aws environment they are looking for someone who has very good public...\n",
       "Name: job_description, dtype: object"
      ]
     },
     "execution_count": 218,
     "metadata": {},
     "output_type": "execute_result"
    }
   ],
   "source": [
    "pd.set_option('max_colwidth', 500)\n",
    "score = bm25.transform(\"aws devops\")\n",
    "rank = np.argsort(score)[::-1]\n",
    "cleaned_description.iloc[rank[:5]]\n"
   ]
  },
  {
   "cell_type": "code",
   "execution_count": 219,
   "metadata": {},
   "outputs": [
    {
     "data": {
      "text/plain": [
       "7037    software developer  reston virginia software developer  reston virginia  full time are you interested in making a difference and playing a large role in protecting your country take advantage of an awesome opportunity to join a highlyskilled team of developers and work on an exciting project where you will be serving your country at an extremely high level you will be carrying out a critical mission to protect the health and safety of americans from newage posed threatsmy exclusive client is...\n",
       "4590    we are currently seeking a full stack net developer to join the team to be involved in all aspects of the software development lifecycle building aspnet web applications including mvc c javascript jquery and css the ideal candidates will also have strong experiencedeveloping sql server schemas queries and stored procedures this individual will work as a team member of architects developers and qa personnel in a professional yet relaxed and flexible environment  qualification  bachelorsmaster...\n",
       "3654    responsibilities kforce has a client in search of a software developer  integrator senior in san antonio texas tx requirements  4 years in rest frameworks with focus on api development  2 years in agile methodology scrum lean safe etc  2 years of experience with javascript  2 years of experience integrating with backend services like jms j2c orm frameworks hibernate jpa jdo etc jdbc  ability to design and implement containerbased apis using container frameworks like openshift docker or kuber...\n",
       "3       our client a multinational publishing and education company is seeking a senior software developer location hoboken nj position type contract job description work closely with product owners and teams to lead feature implementation andor source third party solutions when appropriate contribute to standards and best practices around development processes coding and peer reviews optimize existing systems to improve performance and scalability through serviceapplication tuning and code refactor...\n",
       "2817    immediate need for a software developer engineer testerfor a position in the itindustry this is 06month’s contract opportunity with longterm potential located in richmond va please review the job description below  job id 1805938 key responsibilities sdet resource in full java stack work with product owners to understand desired application capabilities and testing scenarios continuously improve software engineering practices work within and across agile teams to design develop test implemen...\n",
       "Name: job_description, dtype: object"
      ]
     },
     "execution_count": 219,
     "metadata": {},
     "output_type": "execute_result"
    }
   ],
   "source": [
    "score = bm25.transform(\"aws github\")\n",
    "rank = np.argsort(score)[::-1]\n",
    "cleaned_description.iloc[rank[:5]]\n"
   ]
  }
 ],
 "metadata": {
  "kernelspec": {
   "display_name": "se481-2023",
   "language": "python",
   "name": "python3"
  },
  "language_info": {
   "codemirror_mode": {
    "name": "ipython",
    "version": 3
   },
   "file_extension": ".py",
   "mimetype": "text/x-python",
   "name": "python",
   "nbconvert_exporter": "python",
   "pygments_lexer": "ipython3",
   "version": "3.10.13"
  }
 },
 "nbformat": 4,
 "nbformat_minor": 2
}
