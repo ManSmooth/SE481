{
 "cells": [
  {
   "cell_type": "code",
   "execution_count": 11,
   "metadata": {},
   "outputs": [],
   "source": [
    "from nltk.stem import PorterStemmer\n",
    "from nltk.corpus import stopwords\n",
    "from nltk.tokenize import word_tokenize\n"
   ]
  },
  {
   "cell_type": "code",
   "execution_count": 8,
   "metadata": {},
   "outputs": [],
   "source": [
    "ps = PorterStemmer()\n",
    "ps.stem(\"consultant\")\n",
    "sw = stopwords.words()\n"
   ]
  },
  {
   "cell_type": "code",
   "execution_count": 127,
   "metadata": {},
   "outputs": [
    {
     "data": {
      "text/plain": [
       "['we', 'are', 'seek', 'an', 'experienc', 'frontend', 'develop']"
      ]
     },
     "execution_count": 127,
     "metadata": {},
     "output_type": "execute_result"
    }
   ],
   "source": [
    "c = \"we are seeking an experienced frontend developer\"\n",
    "[ps.stem(w) for w in c.split()]\n",
    "\n"
   ]
  },
  {
   "cell_type": "code",
   "execution_count": 132,
   "metadata": {},
   "outputs": [
    {
     "data": {
      "text/plain": [
       "{'approach',\n",
       " 'autom',\n",
       " 'build',\n",
       " 'cd',\n",
       " 'continu',\n",
       " 'copi',\n",
       " 'cycl',\n",
       " 'day',\n",
       " 'deliveri',\n",
       " 'develop',\n",
       " 'devop',\n",
       " 'engin',\n",
       " 'ensur',\n",
       " 'environ',\n",
       " 'implement',\n",
       " 'improv',\n",
       " 'industri',\n",
       " 'integr',\n",
       " 'life',\n",
       " 'mainlin',\n",
       " 'manual',\n",
       " 'mean',\n",
       " 'merg',\n",
       " 'methodolog',\n",
       " 'nowaday',\n",
       " 'oper',\n",
       " 'pipelin',\n",
       " 'practic',\n",
       " 'produc',\n",
       " 'production-lik',\n",
       " 'releas',\n",
       " 'reliabl',\n",
       " 'set',\n",
       " 'share',\n",
       " 'short',\n",
       " 'shorten',\n",
       " 'softwar',\n",
       " 'system',\n",
       " 'team',\n",
       " 'test',\n",
       " 'time',\n",
       " 'tool',\n",
       " 'trigger',\n",
       " 'typic',\n",
       " 'work'}"
      ]
     },
     "execution_count": 132,
     "metadata": {},
     "output_type": "execute_result"
    }
   ],
   "source": [
    "import string\n",
    "\n",
    "def preprocess(s: str):\n",
    "    return [ps.stem(w) for w in word_tokenize(s.lower())]\n",
    "\n",
    "d1 = \"DevOps is a methodology in the software development and IT industry. Used as a set of practices and tools, DevOps integrates and automates the work of software development and IT operations as a means for improving and shortening the systems development life cycle.\"\n",
    "d2 = \"In software engineering, continuous integration (CI) is a practice of merging all developers' working copies to a shared mainline several times a day. Nowadays it is typically implemented in such a way that it triggers an automated build with testing.\"\n",
    "d3 = \"Continuous delivery (CD) is a software engineering approach in which teams produce software in short cycles, ensuring that the software can be reliably released at any time and, following a pipeline through a production-like environment, without doing so manually.\"\n",
    "s_d1 = set(word_tokenize(d1.lower()))\n",
    "s_d2 = set(word_tokenize(d2.lower()))\n",
    "s_d3 = set(word_tokenize(d3.lower()))\n",
    "\n",
    "sw_set = set(stopwords.words())\n",
    "\n",
    "r = s_d1.union(s_d2).union(s_d3)\n",
    "\n",
    "r_s = {ps.stem(w) for w in r.difference(set(string.punctuation)).difference(sw_set)}\n",
    "\n",
    "r_s\n"
   ]
  },
  {
   "cell_type": "code",
   "execution_count": 105,
   "metadata": {},
   "outputs": [],
   "source": [
    "from sklearn.feature_extraction.text import CountVectorizer\n",
    "import pandas as pd\n",
    "\n",
    "s = []\n",
    "lr_s = list(r_s)\n",
    "lr_s.sort()\n",
    "\n",
    "s.append([preprocess(d1).count(w) for w in lr_s])\n",
    "s.append([preprocess(d2).count(w) for w in lr_s])\n",
    "s.append([preprocess(d3).count(w) for w in lr_s])\n",
    "\n",
    "\n",
    "\n",
    "df = pd.DataFrame(s, columns=lr_s)\n"
   ]
  },
  {
   "cell_type": "code",
   "execution_count": 106,
   "metadata": {},
   "outputs": [
    {
     "name": "stdout",
     "output_type": "stream",
     "text": [
      "|    |   approach |   autom |   build |   cd |   continu |   copi |   cycl |   day |   deliveri |   develop |   devop |   engin |   ensur |   environ |   implement |   improv |   industri |   integr |   life |   mainlin |   manual |   mean |   merg |   methodolog |   nowaday |   oper |   pipelin |   practic |   produc |   production-lik |   releas |   reliabl |   set |   share |   short |   shorten |   softwar |   system |   team |   test |   time |   tool |   trigger |   typic |   work |\n",
      "|---:|-----------:|--------:|--------:|-----:|----------:|-------:|-------:|------:|-----------:|----------:|--------:|--------:|--------:|----------:|------------:|---------:|-----------:|---------:|-------:|----------:|---------:|-------:|-------:|-------------:|----------:|-------:|----------:|----------:|---------:|-----------------:|---------:|----------:|------:|--------:|--------:|----------:|----------:|---------:|-------:|-------:|-------:|-------:|----------:|--------:|-------:|\n",
      "|  0 |          0 |       1 |       0 |    0 |         0 |      0 |      1 |     0 |          0 |         3 |       2 |       0 |       0 |         0 |           0 |        1 |          1 |        1 |      1 |         0 |        0 |      1 |      0 |            1 |         0 |      1 |         0 |         1 |        0 |                0 |        0 |         0 |     1 |       0 |       0 |         1 |         2 |        1 |      0 |      0 |      0 |      1 |         0 |       0 |      1 |\n",
      "|  1 |          0 |       1 |       1 |    0 |         1 |      1 |      0 |     1 |          0 |         1 |       0 |       1 |       0 |         0 |           1 |        0 |          0 |        1 |      0 |         1 |        0 |      0 |      1 |            0 |         1 |      0 |         0 |         1 |        0 |                0 |        0 |         0 |     0 |       1 |       0 |         0 |         1 |        0 |      0 |      1 |      1 |      0 |         1 |       1 |      1 |\n",
      "|  2 |          1 |       0 |       0 |    1 |         1 |      0 |      1 |     0 |          1 |         0 |       0 |       1 |       1 |         1 |           0 |        0 |          0 |        0 |      0 |         0 |        1 |      0 |      0 |            0 |         0 |      0 |         1 |         0 |        1 |                1 |        1 |         1 |     0 |       0 |       1 |         0 |         3 |        0 |      1 |      0 |      1 |      0 |         0 |       0 |      0 |\n"
     ]
    }
   ],
   "source": [
    "print(df.to_markdown())\n"
   ]
  },
  {
   "cell_type": "code",
   "execution_count": 107,
   "metadata": {},
   "outputs": [
    {
     "data": {
      "text/plain": [
       "['production-like']"
      ]
     },
     "execution_count": 107,
     "metadata": {},
     "output_type": "execute_result"
    }
   ],
   "source": [
    "word_tokenize(\"production-like\")\n"
   ]
  },
  {
   "cell_type": "code",
   "execution_count": 143,
   "metadata": {},
   "outputs": [
    {
     "data": {
      "text/plain": [
       "approach          0.181238\n",
       "ensur             0.181238\n",
       "produc            0.181238\n",
       "production-lik    0.181238\n",
       "releas            0.181238\n",
       "reliabl           0.181238\n",
       "manual            0.181238\n",
       "short             0.181238\n",
       "softwar           0.181238\n",
       "team              0.181238\n",
       "environ           0.181238\n",
       "deliveri          0.181238\n",
       "cd                0.181238\n",
       "pipelin           0.181238\n",
       "engin             0.119792\n",
       "time              0.119792\n",
       "cycl              0.119792\n",
       "continu           0.119792\n",
       "test              0.000000\n",
       "practic           0.000000\n",
       "system            0.000000\n",
       "shorten           0.000000\n",
       "tool              0.000000\n",
       "share             0.000000\n",
       "set               0.000000\n",
       "trigger           0.000000\n",
       "typic             0.000000\n",
       "merg              0.000000\n",
       "oper              0.000000\n",
       "improv            0.000000\n",
       "build             0.000000\n",
       "copi              0.000000\n",
       "day               0.000000\n",
       "develop           0.000000\n",
       "devop             0.000000\n",
       "implement         0.000000\n",
       "industri          0.000000\n",
       "nowaday           0.000000\n",
       "integr            0.000000\n",
       "life              0.000000\n",
       "mainlin           0.000000\n",
       "mean              0.000000\n",
       "autom             0.000000\n",
       "methodolog        0.000000\n",
       "work              0.000000\n",
       "Name: 2, dtype: float64"
      ]
     },
     "execution_count": 143,
     "metadata": {},
     "output_type": "execute_result"
    }
   ],
   "source": [
    "import numpy as np\n",
    "\n",
    "# df = [\n",
    "#     (w in preprocess(d1)) + (w in preprocess(d2)) + (w in preprocess(d3)) for w in lr_s\n",
    "# ]\n",
    "# df = np.array(df)\n",
    "X = np.matrix(s)\n",
    "df = np.array((X > 0).sum(0))[0]\n",
    "N = 3\n",
    "\n",
    "\n",
    "idf = np.log10(1 + (N / df))\n",
    "\n",
    "\n",
    "tf = np.log10(X + 1)\n",
    "\n",
    "tf_idf = np.multiply(tf, idf)\n",
    "\n",
    "tf_idf_df = pd.DataFrame(tf_idf, columns=lr_s)\n",
    "max_term = tf_idf_df.sum().sort_values()[-20:].sort_index().index\n",
    "\n",
    "tf_idf_df.loc[2].sort_values(ascending=False)\n"
   ]
  },
  {
   "cell_type": "code",
   "execution_count": null,
   "metadata": {},
   "outputs": [],
   "source": []
  },
  {
   "cell_type": "code",
   "execution_count": 133,
   "metadata": {},
   "outputs": [],
   "source": [
    "cv = CountVectorizer(ngram_range=(2,2))\n",
    "\n",
    "biX = cv.fit_transform([\" \".join(preprocess(d1)), \" \".join(preprocess(d2)), \" \".join(preprocess(d3))])\n"
   ]
  },
  {
   "cell_type": "code",
   "execution_count": 135,
   "metadata": {},
   "outputs": [],
   "source": [
    "bi_df = pd.DataFrame.sparse.from_spmatrix(biX, columns=cv.get_feature_names_out())\n"
   ]
  },
  {
   "cell_type": "code",
   "execution_count": 138,
   "metadata": {},
   "outputs": [
    {
     "data": {
      "text/plain": [
       "softwar engin      2\n",
       "and it             2\n",
       "develop and        2\n",
       "the softwar        2\n",
       "softwar develop    2\n",
       "mean for           1\n",
       "production lik     1\n",
       "shorten the        1\n",
       "lik environ        1\n",
       "short cycl         1\n",
       "share mainlin      1\n",
       "sever time         1\n",
       "set of             1\n",
       "reliabl releas     1\n",
       "releas at          1\n",
       "mainlin sever      1\n",
       "produc softwar     1\n",
       "merg all           1\n",
       "practic of         1\n",
       "so manual          1\n",
       "dtype: Sparse[int64, 0]"
      ]
     },
     "execution_count": 138,
     "metadata": {},
     "output_type": "execute_result"
    }
   ],
   "source": [
    "bi_df.sum().sort_values(ascending=False).head(20)\n"
   ]
  },
  {
   "cell_type": "code",
   "execution_count": 151,
   "metadata": {},
   "outputs": [
    {
     "name": "stdout",
     "output_type": "stream",
     "text": [
      "(0, 1)\n",
      "[[0.19018676]]\n",
      "(0, 2)\n",
      "[[0.07497723]]\n",
      "(1, 2)\n",
      "[[0.11882272]]\n"
     ]
    }
   ],
   "source": [
    "from sklearn.metrics.pairwise import cosine_similarity\n",
    "import itertools\n",
    "\n",
    "for x, y in itertools.combinations([0,1,2], r = 2 ):\n",
    "    print((x,y))\n",
    "    print(cosine_similarity([tf_idf_df.loc[x]], [tf_idf_df.loc[y]]))\n",
    "\n"
   ]
  },
  {
   "cell_type": "code",
   "execution_count": null,
   "metadata": {},
   "outputs": [],
   "source": []
  },
  {
   "cell_type": "code",
   "execution_count": null,
   "metadata": {},
   "outputs": [],
   "source": []
  },
  {
   "cell_type": "code",
   "execution_count": null,
   "metadata": {},
   "outputs": [],
   "source": []
  }
 ],
 "metadata": {
  "kernelspec": {
   "display_name": "se481-2023",
   "language": "python",
   "name": "python3"
  },
  "language_info": {
   "codemirror_mode": {
    "name": "ipython",
    "version": 3
   },
   "file_extension": ".py",
   "mimetype": "text/x-python",
   "name": "python",
   "nbconvert_exporter": "python",
   "pygments_lexer": "ipython3",
   "version": "3.10.13"
  }
 },
 "nbformat": 4,
 "nbformat_minor": 2
}
