{
 "cells": [
  {
   "cell_type": "code",
   "execution_count": 63,
   "metadata": {},
   "outputs": [
    {
     "name": "stdout",
     "output_type": "stream",
     "text": [
      "INFO: Pandarallel will run on 6 workers.\n",
      "INFO: Pandarallel will use Memory file system to transfer data between the main process and workers.\n"
     ]
    }
   ],
   "source": [
    "from nltk.tokenize import word_tokenize\n",
    "from nltk.corpus import stopwords\n",
    "from nltk.stem import PorterStemmer\n",
    "import pandas as pd\n",
    "from pandarallel import pandarallel\n",
    "import string\n",
    "import numpy as np\n",
    "import timeit\n",
    "\n",
    "pandarallel.initialize()\n",
    "\n",
    "path = r\"./resources/software_developer_united_states_1971_20191023_1.csv\"\n"
   ]
  },
  {
   "cell_type": "code",
   "execution_count": 64,
   "metadata": {},
   "outputs": [],
   "source": [
    "def extract_description(df: pd.DataFrame):\n",
    "    s = df[\"job_description\"]\n",
    "    s = s.parallel_apply(\n",
    "        lambda s: s.lower()\n",
    "        .translate(str.maketrans(\"\", \"\", string.punctuation + \"\\xa0\"))\n",
    "        .translate(str.maketrans(string.whitespace, \" \" * len(string.whitespace)))\n",
    "    )\n",
    "    return s\n",
    "\n",
    "\n",
    "def tokenize(s: pd.Series):\n",
    "    return s.parallel_apply(lambda s: set(word_tokenize(s)))\n",
    "\n",
    "def remove_stopwords(s: pd.Series):\n",
    "    stopwords_set = set(stopwords.words())\n",
    "    return s.parallel_apply(lambda s: s.difference(stopwords_set))\n",
    "\n",
    "def filter_word_length(s: pd.Series, n: int):\n",
    "    return s.parallel_apply(lambda s: {word for word in s if len(word) >= n})\n",
    "\n",
    "def stem(s: pd.Series):\n",
    "    ps = PorterStemmer()\n",
    "    return s.parallel_apply(lambda s: {ps.stem(word) for word in s})\n",
    "\n",
    "\n",
    "def transformation_pipe(df: pd.DataFrame):\n",
    "    s = extract_description(df)\n",
    "    s = tokenize(s)\n",
    "    s = remove_stopwords(s)\n",
    "    s = filter_word_length(s, 3)\n",
    "    s = stem(s)\n",
    "    return s\n"
   ]
  },
  {
   "cell_type": "code",
   "execution_count": 65,
   "metadata": {},
   "outputs": [],
   "source": [
    "rows = pd.read_csv(path)\n",
    "descriptions = transformation_pipe(rows)\n",
    "descriptions\n"
   ]
  },
  {
   "cell_type": "code",
   "execution_count": null,
   "metadata": {},
   "outputs": [],
   "source": [
    "from sklearn.feature_extraction.text import CountVectorizer\n",
    "\n",
    "def benchmark(size):\n",
    "    cv = CountVectorizer(analyzer=lambda x: x)\n",
    "    print(f\"{size=} counting\")\n",
    "    X = cv.fit_transform(descriptions[:size])\n",
    "    XX = X.toarray()\n",
    "    print(f\"{size=} starting\")\n",
    "    result = [timeit.timeit(lambda: np.matmul(XX, XX.T), number=1),\n",
    "    timeit.timeit(lambda: X.todok()*X.T.todok(),number=1),\n",
    "    timeit.timeit(lambda: X.tolil()*X.T.tolil(),number=1),\n",
    "    timeit.timeit(lambda: X.tocoo()*X.T.tocoo(),number=1),\n",
    "    timeit.timeit(lambda: X.tocsc()*X.T.tocsc(),number=1)]\n",
    "    print(f\"{size=} finished\")\n",
    "    return pd.Series(result, index=[\"array\", \"dok\", \"lil\", \"coo\", \"csc\"])\n",
    "\n"
   ]
  },
  {
   "cell_type": "code",
   "execution_count": null,
   "metadata": {},
   "outputs": [
    {
     "data": {
      "text/html": [
       "<div>\n",
       "<style scoped>\n",
       "    .dataframe tbody tr th:only-of-type {\n",
       "        vertical-align: middle;\n",
       "    }\n",
       "\n",
       "    .dataframe tbody tr th {\n",
       "        vertical-align: top;\n",
       "    }\n",
       "\n",
       "    .dataframe thead th {\n",
       "        text-align: right;\n",
       "    }\n",
       "</style>\n",
       "<table border=\"1\" class=\"dataframe\">\n",
       "  <thead>\n",
       "    <tr style=\"text-align: right;\">\n",
       "      <th></th>\n",
       "      <th>size</th>\n",
       "    </tr>\n",
       "  </thead>\n",
       "  <tbody>\n",
       "    <tr>\n",
       "      <th>0</th>\n",
       "      <td>312</td>\n",
       "    </tr>\n",
       "    <tr>\n",
       "      <th>1</th>\n",
       "      <td>625</td>\n",
       "    </tr>\n",
       "    <tr>\n",
       "      <th>2</th>\n",
       "      <td>1250</td>\n",
       "    </tr>\n",
       "    <tr>\n",
       "      <th>3</th>\n",
       "      <td>2500</td>\n",
       "    </tr>\n",
       "    <tr>\n",
       "      <th>4</th>\n",
       "      <td>5000</td>\n",
       "    </tr>\n",
       "    <tr>\n",
       "      <th>5</th>\n",
       "      <td>10000</td>\n",
       "    </tr>\n",
       "  </tbody>\n",
       "</table>\n",
       "</div>"
      ],
      "text/plain": [
       "    size\n",
       "0    312\n",
       "1    625\n",
       "2   1250\n",
       "3   2500\n",
       "4   5000\n",
       "5  10000"
      ]
     },
     "execution_count": 55,
     "metadata": {},
     "output_type": "execute_result"
    }
   ],
   "source": [
    "sizes = [len(descriptions) // 2 ** n for n in range(0, 6)]\n",
    "\n",
    "perf_df = pd.DataFrame(sizes, columns=[\"size\"])\n",
    "perf_df\n"
   ]
  },
  {
   "cell_type": "code",
   "execution_count": null,
   "metadata": {},
   "outputs": [
    {
     "name": "stdout",
     "output_type": "stream",
     "text": [
      "size=312 countingsize=625 countingsize=1250 counting\n",
      "size=5000 countingsize=10000 counting\n",
      "size=2500 counting\n",
      "\n",
      "\n",
      "\n",
      "size=312 starting\n",
      "size=625 starting\n",
      "size=1250 starting\n",
      "size=2500 starting\n",
      "size=312 finished\n",
      "size=625 finished\n",
      "size=1250 finished\n"
     ]
    },
    {
     "ename": "KeyboardInterrupt",
     "evalue": "",
     "output_type": "error",
     "traceback": [
      "\u001b[0;31m---------------------------------------------------------------------------\u001b[0m",
      "\u001b[0;31mKeyboardInterrupt\u001b[0m                         Traceback (most recent call last)",
      "\u001b[1;32m/home/mansmooth/ir-py/assignments/481-02/assignment.ipynb Cell 6\u001b[0m line \u001b[0;36m1\n\u001b[0;32m----> <a href='vscode-notebook-cell://wsl%2Bubuntu-22.04/home/mansmooth/ir-py/assignments/481-02/assignment.ipynb#X21sdnNjb2RlLXJlbW90ZQ%3D%3D?line=0'>1</a>\u001b[0m perf_df\u001b[39m.\u001b[39mjoin(perf_df[\u001b[39m\"\u001b[39;49m\u001b[39msize\u001b[39;49m\u001b[39m\"\u001b[39;49m]\u001b[39m.\u001b[39;49mparallel_apply(\u001b[39mlambda\u001b[39;49;00m x: benchmark(x)))\n",
      "File \u001b[0;32m~/anaconda3/envs/se481-2023/lib/python3.10/site-packages/pandarallel/core.py:307\u001b[0m, in \u001b[0;36mparallelize_with_memory_file_system.<locals>.closure\u001b[0;34m(data, user_defined_function, *user_defined_function_args, **user_defined_function_kwargs)\u001b[0m\n\u001b[1;32m    299\u001b[0m generation \u001b[39m=\u001b[39m count()\n\u001b[1;32m    301\u001b[0m \u001b[39mwhile\u001b[39;00m \u001b[39many\u001b[39m(\n\u001b[1;32m    302\u001b[0m     (\n\u001b[1;32m    303\u001b[0m         worker_status \u001b[39m==\u001b[39m WorkerStatus\u001b[39m.\u001b[39mRunning\n\u001b[1;32m    304\u001b[0m         \u001b[39mfor\u001b[39;00m worker_status \u001b[39min\u001b[39;00m workers_status\n\u001b[1;32m    305\u001b[0m     )\n\u001b[1;32m    306\u001b[0m ):\n\u001b[0;32m--> 307\u001b[0m     message: Tuple[\u001b[39mint\u001b[39m, WorkerStatus, Any] \u001b[39m=\u001b[39m master_workers_queue\u001b[39m.\u001b[39;49mget()\n\u001b[1;32m    308\u001b[0m     worker_index, worker_status, payload \u001b[39m=\u001b[39m message\n\u001b[1;32m    309\u001b[0m     workers_status[worker_index] \u001b[39m=\u001b[39m worker_status\n",
      "File \u001b[0;32m<string>:2\u001b[0m, in \u001b[0;36mget\u001b[0;34m(self, *args, **kwds)\u001b[0m\n",
      "File \u001b[0;32m~/anaconda3/envs/se481-2023/lib/python3.10/multiprocessing/managers.py:818\u001b[0m, in \u001b[0;36mBaseProxy._callmethod\u001b[0;34m(self, methodname, args, kwds)\u001b[0m\n\u001b[1;32m    815\u001b[0m     conn \u001b[39m=\u001b[39m \u001b[39mself\u001b[39m\u001b[39m.\u001b[39m_tls\u001b[39m.\u001b[39mconnection\n\u001b[1;32m    817\u001b[0m conn\u001b[39m.\u001b[39msend((\u001b[39mself\u001b[39m\u001b[39m.\u001b[39m_id, methodname, args, kwds))\n\u001b[0;32m--> 818\u001b[0m kind, result \u001b[39m=\u001b[39m conn\u001b[39m.\u001b[39;49mrecv()\n\u001b[1;32m    820\u001b[0m \u001b[39mif\u001b[39;00m kind \u001b[39m==\u001b[39m \u001b[39m'\u001b[39m\u001b[39m#RETURN\u001b[39m\u001b[39m'\u001b[39m:\n\u001b[1;32m    821\u001b[0m     \u001b[39mreturn\u001b[39;00m result\n",
      "File \u001b[0;32m~/anaconda3/envs/se481-2023/lib/python3.10/multiprocessing/connection.py:250\u001b[0m, in \u001b[0;36m_ConnectionBase.recv\u001b[0;34m(self)\u001b[0m\n\u001b[1;32m    248\u001b[0m \u001b[39mself\u001b[39m\u001b[39m.\u001b[39m_check_closed()\n\u001b[1;32m    249\u001b[0m \u001b[39mself\u001b[39m\u001b[39m.\u001b[39m_check_readable()\n\u001b[0;32m--> 250\u001b[0m buf \u001b[39m=\u001b[39m \u001b[39mself\u001b[39;49m\u001b[39m.\u001b[39;49m_recv_bytes()\n\u001b[1;32m    251\u001b[0m \u001b[39mreturn\u001b[39;00m _ForkingPickler\u001b[39m.\u001b[39mloads(buf\u001b[39m.\u001b[39mgetbuffer())\n",
      "File \u001b[0;32m~/anaconda3/envs/se481-2023/lib/python3.10/multiprocessing/connection.py:414\u001b[0m, in \u001b[0;36mConnection._recv_bytes\u001b[0;34m(self, maxsize)\u001b[0m\n\u001b[1;32m    413\u001b[0m \u001b[39mdef\u001b[39;00m \u001b[39m_recv_bytes\u001b[39m(\u001b[39mself\u001b[39m, maxsize\u001b[39m=\u001b[39m\u001b[39mNone\u001b[39;00m):\n\u001b[0;32m--> 414\u001b[0m     buf \u001b[39m=\u001b[39m \u001b[39mself\u001b[39;49m\u001b[39m.\u001b[39;49m_recv(\u001b[39m4\u001b[39;49m)\n\u001b[1;32m    415\u001b[0m     size, \u001b[39m=\u001b[39m struct\u001b[39m.\u001b[39munpack(\u001b[39m\"\u001b[39m\u001b[39m!i\u001b[39m\u001b[39m\"\u001b[39m, buf\u001b[39m.\u001b[39mgetvalue())\n\u001b[1;32m    416\u001b[0m     \u001b[39mif\u001b[39;00m size \u001b[39m==\u001b[39m \u001b[39m-\u001b[39m\u001b[39m1\u001b[39m:\n",
      "File \u001b[0;32m~/anaconda3/envs/se481-2023/lib/python3.10/multiprocessing/connection.py:379\u001b[0m, in \u001b[0;36mConnection._recv\u001b[0;34m(self, size, read)\u001b[0m\n\u001b[1;32m    377\u001b[0m remaining \u001b[39m=\u001b[39m size\n\u001b[1;32m    378\u001b[0m \u001b[39mwhile\u001b[39;00m remaining \u001b[39m>\u001b[39m \u001b[39m0\u001b[39m:\n\u001b[0;32m--> 379\u001b[0m     chunk \u001b[39m=\u001b[39m read(handle, remaining)\n\u001b[1;32m    380\u001b[0m     n \u001b[39m=\u001b[39m \u001b[39mlen\u001b[39m(chunk)\n\u001b[1;32m    381\u001b[0m     \u001b[39mif\u001b[39;00m n \u001b[39m==\u001b[39m \u001b[39m0\u001b[39m:\n",
      "\u001b[0;31mKeyboardInterrupt\u001b[0m: "
     ]
    }
   ],
   "source": [
    "perf_df.join(perf_df[\"size\"].parallel_apply(lambda x: benchmark(x)))\n",
    "\n"
   ]
  }
 ],
 "metadata": {
  "kernelspec": {
   "display_name": "se481-2023",
   "language": "python",
   "name": "python3"
  },
  "language_info": {
   "codemirror_mode": {
    "name": "ipython",
    "version": 3
   },
   "file_extension": ".py",
   "mimetype": "text/x-python",
   "name": "python",
   "nbconvert_exporter": "python",
   "pygments_lexer": "ipython3",
   "version": "3.10.13"
  }
 },
 "nbformat": 4,
 "nbformat_minor": 2
}
