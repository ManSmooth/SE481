{
 "cells": [
  {
   "cell_type": "markdown",
   "metadata": {},
   "source": [
    "## App prediction server\n",
    "I have to use notebook because I use remote kernel, both lsa and lda model totals over 4GB and downloading them wouldn't be fun."
   ]
  },
  {
   "cell_type": "code",
   "execution_count": 1,
   "metadata": {},
   "outputs": [
    {
     "name": "stderr",
     "output_type": "stream",
     "text": [
      "[nltk_data] Downloading package stopwords to /home/amogus/nltk_data...\n",
      "[nltk_data]   Package stopwords is already up-to-date!\n",
      "[nltk_data] Downloading package punkt to /home/amogus/nltk_data...\n",
      "[nltk_data]   Package punkt is already up-to-date!\n"
     ]
    },
    {
     "data": {
      "text/plain": [
       "True"
      ]
     },
     "execution_count": 1,
     "metadata": {},
     "output_type": "execute_result"
    }
   ],
   "source": [
    "from flask import Flask, request\n",
    "from scipy.sparse import hstack\n",
    "import pickle\n",
    "import string\n",
    "import re\n",
    "from nltk.tokenize import word_tokenize\n",
    "from nltk.stem import PorterStemmer\n",
    "from nltk.corpus import stopwords\n",
    "import nltk\n",
    "import joblib\n",
    "\n",
    "nltk.download(\"stopwords\")\n",
    "nltk.download(\"punkt\")\n"
   ]
  },
  {
   "cell_type": "code",
   "execution_count": 2,
   "metadata": {},
   "outputs": [],
   "source": [
    "def preprocess(text, stopword_set, stemmer):\n",
    "    cleaned_text = text.translate(\n",
    "        str.maketrans(\n",
    "            \"!\\#$%&'()*+,<=>?@[]^`{|}~\\xa0\",\n",
    "            \" \" * 26,\n",
    "        )\n",
    "    )\n",
    "    cleaned_text = cleaned_text.lower()\n",
    "    cleaned_text = re.sub(r\"\\s+\", \" \", cleaned_text)\n",
    "    cleaned_text = re.sub(r\"\\b\\w*_\\w+\\b\", \"_term_with_underscore\", cleaned_text)\n",
    "    cleaned_text = re.sub(r\"\\b\\w*-\\w+\\b\", \"_term_with_dash\", cleaned_text)\n",
    "    cleaned_text = re.sub(\n",
    "        r\"https?:\\/\\/(www\\.)?[-a-zA-Z0-9@:%._\\+~#=]{1,256}\\.[a-zA-Z0-9()]{1,6}\\b([-a-zA-Z0-9()@:%_\\+.~#?&//=]*)\",\n",
    "        \"_weburl\",\n",
    "        cleaned_text,\n",
    "    )\n",
    "    cleaned_text = re.sub(r\"\\b[\\w\\\\/]+?[\\\\/][\\w\\d_-]+?\\b\", \"_path\", cleaned_text)\n",
    "    cleaned_text = re.sub(r\"\\b0[xb]?[a-f0-9]+\\b\", \"_non_decimal_number\", cleaned_text)\n",
    "    cleaned_text = re.sub(\n",
    "        r\"\\b\\d+(px)?\\s?[x*]\\s?\\d+(px)?\\b\", \"_resolution\", cleaned_text\n",
    "    )\n",
    "    cleaned_text = re.sub(r\"\\bv\\d+(?:\\.\\d+)?\\b\", \"_version\", cleaned_text)\n",
    "    cleaned_text = re.sub(\n",
    "        r\"\\b\\d+(?:\\.\\d+)?\\b\",\n",
    "        \"_number\",\n",
    "        cleaned_text,\n",
    "    )\n",
    "    cleaned_text = re.sub(r\"\\b(?!_)\\w{15,}\\b\", \"_very_long_term\", cleaned_text)\n",
    "\n",
    "    tokenized_text = word_tokenize(cleaned_text)\n",
    "\n",
    "    sw_removed_text = [word for word in tokenized_text if word not in stopword_set]\n",
    "    sw_removed_text = [word for word in sw_removed_text if len(word) > 1]\n",
    "    stemmed_text = \" \".join([stemmer.stem(w) for w in sw_removed_text])\n",
    "    return stemmed_text\n",
    "\n",
    "\n",
    "app = Flask(__name__)\n",
    "app.tfidf_vectorizer = joblib.load(\"resources/07/tfidf_model.joblib\")\n",
    "app.count_vectorizer = joblib.load(\"resources/07/count_vectorizer.joblib\")\n",
    "app.lsa = joblib.load(\"resources/07/lsa_model.joblib\")\n",
    "app.lda = joblib.load(\"resources/07/lda_model.joblib\")\n",
    "app.lgbm = joblib.load(\"resources/07/gbm_model.joblib\")\n",
    "app.stopword_set = set(stopwords.words())\n",
    "app.stemmer = PorterStemmer()\n",
    "\n",
    "\n",
    "@app.route(\"/predict\", methods=[\"GET\"])\n",
    "def predict():\n",
    "    response_object = {\"status\": \"success\"}\n",
    "    argList = request.args.to_dict(flat=False)\n",
    "    title = argList[\"title\"][0]\n",
    "    body = argList[\"body\"][0]\n",
    "    count = app.count_vectorizer.transform(\n",
    "        [preprocess(\" \".join([title, body]), app.stopword_set, app.stemmer)]\n",
    "    )\n",
    "    tf_idf = app.tfidf_vectorizer.transform(\n",
    "        [preprocess(\" \".join([title, body]), app.stopword_set, app.stemmer)]\n",
    "    )\n",
    "    lda = app.lda.transform(count)\n",
    "    lsa = app.lsa.transform(tf_idf)\n",
    "    predict = app.lgbm.predict_proba(hstack([tf_idf, lda, lsa]))\n",
    "    print(f\"{predict=}\")\n",
    "    response_object[\"predict_as\"] = \"bug\" if predict[0][1] > 0.5 else \"not bug\"\n",
    "    response_object[\"bug_prob\"] = predict[0][1]\n",
    "    return response_object\n"
   ]
  },
  {
   "cell_type": "code",
   "execution_count": 3,
   "metadata": {},
   "outputs": [
    {
     "name": "stdout",
     "output_type": "stream",
     "text": [
      " * Serving Flask app '__main__'\n",
      " * Debug mode: off\n"
     ]
    },
    {
     "name": "stderr",
     "output_type": "stream",
     "text": [
      "WARNING: This is a development server. Do not use it in a production deployment. Use a production WSGI server instead.\n",
      " * Running on http://127.0.0.1:5000\n",
      "Press CTRL+C to quit\n",
      "/opt/conda/envs/ir/lib/python3.10/site-packages/lightgbm/basic.py:1192: UserWarning: Converting data to scipy sparse matrix.\n",
      "  _log_warning('Converting data to scipy sparse matrix.')\n",
      "127.0.0.1 - - [10/Mar/2024 13:37:44] \"GET /predict?title=implement%20new%20styleguid&body=new%20styleguid%20found%20_weburl%20one%20creat%20account%20also%20possibl%20copi%20css%20stuff%20good%20luck HTTP/1.1\" 200 -\n"
     ]
    },
    {
     "name": "stdout",
     "output_type": "stream",
     "text": [
      "predict=array([[0.92861345, 0.07138655]])\n"
     ]
    },
    {
     "name": "stderr",
     "output_type": "stream",
     "text": [
      "127.0.0.1 - - [10/Mar/2024 13:37:45] \"GET /predict?title=add%20_very_long_term%20gift%20event&body=new%20gifte%20creat HTTP/1.1\" 200 -\n"
     ]
    },
    {
     "name": "stdout",
     "output_type": "stream",
     "text": [
      "predict=array([[0.8957689, 0.1042311]])\n"
     ]
    },
    {
     "name": "stderr",
     "output_type": "stream",
     "text": [
      "127.0.0.1 - - [10/Mar/2024 13:37:45] \"GET /predict?title=nativ%20proxi%20enabl%20use%20node%20--%20_term_with_dash%20enabl&body=environ%20instal%20apk%20_term_with_dash.apk%20_term_with_underscor%20avd%20_number._numb%20app%20debug%20instal%20_number%20devic%20build%20success%20total%20time%20_number%20min%20_number._non_decimal_numb%20sec%20build%20could%20faster%20pleas%20consid%20use%20gradl%20daemon%20_weburl%20/_path%20adb%20command%20found%20step%20reproduc%20packag%20json%20_weburl%20expect%20behavior%20run%20app%20usual%20actual%20behavior%20run%20app%20android%20get%20error%20android%20simul%20android%20studio%20_weburl HTTP/1.1\" 200 -\n"
     ]
    },
    {
     "name": "stdout",
     "output_type": "stream",
     "text": [
      "predict=array([[0.21622459, 0.78377541]])\n"
     ]
    },
    {
     "name": "stderr",
     "output_type": "stream",
     "text": [
      "127.0.0.1 - - [10/Mar/2024 13:37:46] \"GET /predict?title=report%20invalid%20version&body=modul%20version%20meta%20file%20report%20meta%20error%20per%20_weburl%20_term_with_underscor%20eveo%20twell%20use%20version%20number%20timtoadi%20tthat%20realli%20valid%20version%20number%20valid%20version%20number%20matcher%20timtoadi%20twildcard%20part%20ident%20modul%20use%20depend%20check HTTP/1.1\" 200 -\n"
     ]
    },
    {
     "name": "stdout",
     "output_type": "stream",
     "text": [
      "predict=array([[0.14739268, 0.85260732]])\n"
     ]
    },
    {
     "name": "stderr",
     "output_type": "stream",
     "text": [
      "127.0.0.1 - - [10/Mar/2024 13:37:46] \"GET /predict?title=code%20coverag%20report%20ui&body=would%20help%20develop%20could%20see%20test%20coverag%20report%20ui%20helper%20determin%20part%20code%20test%20new%20command%20sfdx%20show%20test%20coverag%20could%20ad%20follow%20_number%20ran%20test%20coverag%20report%20show%20result%20termin%20_number%20ad%20coverag%20indic%20editor%20gutter%20shown%20exampl%20imag%20_weburl HTTP/1.1\" 200 -\n"
     ]
    },
    {
     "name": "stdout",
     "output_type": "stream",
     "text": [
      "predict=array([[0.49170917, 0.50829083]])\n"
     ]
    },
    {
     "name": "stderr",
     "output_type": "stream",
     "text": [
      "127.0.0.1 - - [10/Mar/2024 13:37:46] \"GET /predict?title=endless%20hang%20get%20job%20detail&body=seem%20happen%20job%20_term_with_dash%20mayb%20render%20ws%20messag%20imag%20_weburl%20follow%20log%20request%20identifi%20_number%20_number%20_number%20actual%20sent%20sever%20minut%20log%20entri%20suggest%20someth%20block%20handl%20request HTTP/1.1\" 200 -\n"
     ]
    },
    {
     "name": "stdout",
     "output_type": "stream",
     "text": [
      "predict=array([[0.30271419, 0.69728581]])\n"
     ]
    },
    {
     "name": "stderr",
     "output_type": "stream",
     "text": [
      "127.0.0.1 - - [10/Mar/2024 13:37:47] \"GET /predict?title=reset%20graph%20data%20updat%20handl&body=present%20remov%20contest%20rate%20graph%20data%20need%20delet%20data%20updat%20handl HTTP/1.1\" 200 -\n"
     ]
    },
    {
     "name": "stdout",
     "output_type": "stream",
     "text": [
      "predict=array([[0.48363468, 0.51636532]])\n"
     ]
    },
    {
     "name": "stderr",
     "output_type": "stream",
     "text": [
      "127.0.0.1 - - [10/Mar/2024 13:37:47] \"GET /predict?title=exist%20signal%20metadata%20file%20format&body=issu%20dedic%20referenc%20alreadi%20exist%20metadata%20file%20format%20desir%20featur%20_term_with_dash%20provid%20convert%20format%20sigmf%20attempt%20ensur%20compat%20exist%20dataset HTTP/1.1\" 200 -\n"
     ]
    },
    {
     "name": "stdout",
     "output_type": "stream",
     "text": [
      "predict=array([[0.74178837, 0.25821163]])\n"
     ]
    },
    {
     "name": "stderr",
     "output_type": "stream",
     "text": [
      "127.0.0.1 - - [10/Mar/2024 13:37:47] \"GET /predict?title=treemenu%20indic%20expand%20beyond%20scroll%20view&body=_number%20go%20_weburl%20_number%20open%20treemenu%20_number%20go%20last%20menu%20option%20_number%20click%20_number%20see%20see%20menu%20open%20scrollbar%20chang%20expect%20mayb%20treemenu%20automat%20scroll%20show%20new%20indic%20open%20gif%20_weburl HTTP/1.1\" 200 -\n"
     ]
    },
    {
     "name": "stdout",
     "output_type": "stream",
     "text": [
      "predict=array([[0.63242771, 0.36757229]])\n"
     ]
    },
    {
     "name": "stderr",
     "output_type": "stream",
     "text": [
      "127.0.0.1 - - [10/Mar/2024 13:37:48] \"GET /predict?title=download%20modal%20warn%20larg%20download&body=download%20give%20warn%20gener%20file%20take%20certain%20amount%20time%20_number%20previou%20releas HTTP/1.1\" 200 -\n"
     ]
    },
    {
     "name": "stdout",
     "output_type": "stream",
     "text": [
      "predict=array([[0.47907689, 0.52092311]])\n"
     ]
    },
    {
     "name": "stderr",
     "output_type": "stream",
     "text": [
      "127.0.0.1 - - [10/Mar/2024 13:37:48] \"GET /predict?title=renderdoc%20assert%20captur%20cinder%20vulkan%20normalmap%20sampl&body=t//%20might%20work%20e.g%20debug%20manag%20creation%20command%20buffer%20t//%20queue%20devic%20destroy%20immedi%20case%20t//%20skip%20submit%20tif%20_term_with_underscor%20_term_with_underscor%20tvkresult%20vkr%20objdisp%20_term_with_underscor%20queuesubmit%20unwrap%20_term_with_underscor%20_number%20submitinfo%20_term_with_underscor%20_very_long_term%20vkr%20_term_with_underscor%20//%20--%20--%20--%20hit%20renderdoc.dl%20wrappedvulkan%20:submitcmd%20line%20_number%20renderdoc.dl%20wrappedvulkan%20:_very_long_term%20line%20_number%20renderdoc.dl%20wrappedvulkan%20:replaylog%20unsign%20int%20frameid%20_number%20unsign%20int%20starteventid%20_number%20unsign%20int%20endeventid%20_number%20replaylogtyp%20replaytyp%20_term_with_underscor%20line%20_number%20renderdoc.dl%20vulkanreplay%20:replaylog%20unsign%20int%20frameid%20_number%20unsign%20int%20endeventid%20_number%20replaylogtyp%20replaytyp%20_term_with_underscor%20line%20_number%20renderdoc.dl%20replayrender%20:setframeev%20unsign%20int%20frameid%20_number%20unsign%20int%20eventid%20_number%20bool%20forc%20fals%20line%20_number%20renderdoc.dl%20_term_with_underscor%20replayrender%20rend%20_non_decimal_numb%20unsign%20int%20frameid%20_number%20unsign%20int%20eventid%20_number%20unsign%20int%20forc%20_number%20line%20_number%20_weburl%20repro%20get%20normalmapping.zip%20_weburl%20open%20x64%20renderdoc%20launch%20normalmapping.ex%20renderdoc%20captur%20frame%20f12%20quit%20applic%20assert HTTP/1.1\" 200 -\n"
     ]
    },
    {
     "name": "stdout",
     "output_type": "stream",
     "text": [
      "predict=array([[0.33050195, 0.66949805]])\n"
     ]
    },
    {
     "name": "stderr",
     "output_type": "stream",
     "text": [
      "127.0.0.1 - - [10/Mar/2024 13:37:48] \"GET /predict?title=add%20programat%20support%20open%20accordion&body=find%20way%20_very_long_term%20_weburl%20l62 HTTP/1.1\" 200 -\n"
     ]
    },
    {
     "name": "stdout",
     "output_type": "stream",
     "text": [
      "predict=array([[0.92563615, 0.07436385]])\n"
     ]
    },
    {
     "name": "stderr",
     "output_type": "stream",
     "text": [
      "127.0.0.1 - - [10/Mar/2024 13:37:48] \"GET /predict?title=add%20auto%20releas%20system&body=import%20releas%20new%20content%20quickli%20lot%20packag%20use%20bpr%20_weburl%20increment%20version%20base%20tag%20also%20includ%20document%20creat%20new%20releas%20use%20github%20interfac%20creat%20releas%20note%20well%20version%20pattern%20use%20_term_with_dash%20packag%20directli%20deploy%20via%20_term_with_dash%20travi%20cli%20instal%20done%20via%20command%20shell%20travi%20setup%20pypi%20current%20thermondo%20pypi%20account%20could%20creat%20one%20see%20also%20_weburl HTTP/1.1\" 200 -\n"
     ]
    },
    {
     "name": "stdout",
     "output_type": "stream",
     "text": [
      "predict=array([[0.9180334, 0.0819666]])\n"
     ]
    },
    {
     "name": "stderr",
     "output_type": "stream",
     "text": [
      "127.0.0.1 - - [10/Mar/2024 13:37:49] \"GET /predict?title=export%20data%20seen%20tabl&body=right%20download%20button%20download%20raw%20data%20possibl%20column%20filter%20think%20download%20download%20content%20tabl%20user%20see%20i.e%20user%20appli%20aggreg%20download%20instead%20origin%20dataset HTTP/1.1\" 200 -\n"
     ]
    },
    {
     "name": "stdout",
     "output_type": "stream",
     "text": [
      "predict=array([[0.68456572, 0.31543428]])\n"
     ]
    },
    {
     "name": "stderr",
     "output_type": "stream",
     "text": [
      "127.0.0.1 - - [10/Mar/2024 13:37:49] \"GET /predict?title=fix%20key%20bind%20arrow%20_path&body=may%20need%20key%20code%20bind%20engine.j HTTP/1.1\" 200 -\n"
     ]
    },
    {
     "name": "stdout",
     "output_type": "stream",
     "text": [
      "predict=array([[0.28501292, 0.71498708]])\n"
     ]
    },
    {
     "name": "stderr",
     "output_type": "stream",
     "text": [
      "127.0.0.1 - - [10/Mar/2024 13:37:49] \"GET /predict?title=edit%20gener%20form%20inform&body=gener%20inform%20name%20slug%20etc%20edit%20mask%20appear%20user%20click%20row%20list%20form HTTP/1.1\" 200 -\n"
     ]
    },
    {
     "name": "stdout",
     "output_type": "stream",
     "text": [
      "predict=array([[0.67287954, 0.32712046]])\n"
     ]
    },
    {
     "name": "stderr",
     "output_type": "stream",
     "text": [
      "127.0.0.1 - - [10/Mar/2024 13:37:50] \"GET /predict?title=add%20_very_long_term%20_very_long_term&body=_very_long_term%20overflow%20next%20line%20text%20width%20exce%20max%20line%20width%20case%20rather%20want%20overflow%20replac%20ellipsi%20provid%20_term_with_underscor%20new%20function%20_very_long_term%20would%20simpli%20hide%20overflow%20cut%20extra%20text%20_very_long_term%20first%20calcul%20much%20space%20ellipsi%20given%20font%20requir%20cut%20mani%20char%20origin%20text%20need%20precondit%20simpl%20implement%20function%20text%20contain%20new%20line HTTP/1.1\" 200 -\n"
     ]
    },
    {
     "name": "stdout",
     "output_type": "stream",
     "text": [
      "predict=array([[0.90680424, 0.09319576]])\n"
     ]
    },
    {
     "name": "stderr",
     "output_type": "stream",
     "text": [
      "127.0.0.1 - - [10/Mar/2024 13:37:50] \"GET /predict?title=save%20origin%20.lu%20file%20name&body=run%20program%20unpack%20file%20origin%20file%20name%20instead%20file%20name%20look%20like%20_term_with_dash.extract%20would%20cool%20made%20unpack%20file%20origin%20name HTTP/1.1\" 200 -\n"
     ]
    },
    {
     "name": "stdout",
     "output_type": "stream",
     "text": [
      "predict=array([[0.63781714, 0.36218286]])\n"
     ]
    },
    {
     "name": "stderr",
     "output_type": "stream",
     "text": [
      "127.0.0.1 - - [10/Mar/2024 13:37:50] \"GET /predict?title=captur%20inform%20_term_with_dash%20jsonapi%20object&body=version%20meta%20inform%20_weburl%20_term_with_dash_term_with_dash HTTP/1.1\" 200 -\n"
     ]
    },
    {
     "name": "stdout",
     "output_type": "stream",
     "text": [
      "predict=array([[0.65545787, 0.34454213]])\n"
     ]
    },
    {
     "name": "stderr",
     "output_type": "stream",
     "text": [
      "127.0.0.1 - - [10/Mar/2024 13:37:50] \"GET /predict?title=add%20support%20request%20_number._numb&body=requir%20request%20version%20_number._numb%20quit%20ridicul%20pleas%20add%20support%20newer%20version HTTP/1.1\" 200 -\n"
     ]
    },
    {
     "name": "stdout",
     "output_type": "stream",
     "text": [
      "predict=array([[0.94086322, 0.05913678]])\n"
     ]
    },
    {
     "name": "stderr",
     "output_type": "stream",
     "text": [
      "127.0.0.1 - - [10/Mar/2024 13:37:51] \"GET /predict?title=stage%20platform%20standard%20rout%20work%20mcma%20question&body=standard%20rout%20work%20mcma%20question%20question%20templat%20work%20intend%20scriptid%20_number%20userid%20_number%20sure%20user%20error%20issu%20rout%20modul%20good%20understand%20caus HTTP/1.1\" 200 -\n"
     ]
    },
    {
     "name": "stdout",
     "output_type": "stream",
     "text": [
      "predict=array([[0.50970718, 0.49029282]])\n"
     ]
    },
    {
     "name": "stderr",
     "output_type": "stream",
     "text": [
      "127.0.0.1 - - [10/Mar/2024 13:37:51] \"GET /predict?title=show%20partial%20bucket%20option%20gone&body=show%20partial%20bucket%20option%20never%20shown%20latest%20master%20_term_with_dash_term_with_dash_term_with_dash_term_with_dash_term_with_dash%20_weburl%20_term_with_dash_term_with_dash_term_with_dash_term_with_dash_term_with_dash%20_weburl HTTP/1.1\" 200 -\n"
     ]
    },
    {
     "name": "stdout",
     "output_type": "stream",
     "text": [
      "predict=array([[0.49582976, 0.50417024]])\n"
     ]
    },
    {
     "name": "stderr",
     "output_type": "stream",
     "text": [
      "127.0.0.1 - - [10/Mar/2024 13:37:51] \"GET /predict?title=instal%20path%20manag%20_very_long_term&body=exhibit%20ad%20/_path/_term_with_underscor%20path%20alway%20add%20later%20call%20sct%20function%20full%20path%20/_path_path/_term_with_underscor%20mention%20_path%20mention%20full%20path%20_term_with_underscor%20_term_with_underscor%20eg%20/_path/_term_with_underscor%20exhibit%20open%20new%20termin%20window%20load%20environ%20variabl%20run%20sourc%20/_path/.bashrc%20refus%20add%20path%20state HTTP/1.1\" 200 -\n"
     ]
    },
    {
     "name": "stdout",
     "output_type": "stream",
     "text": [
      "predict=array([[0.81478052, 0.18521948]])\n"
     ]
    },
    {
     "name": "stderr",
     "output_type": "stream",
     "text": [
      "127.0.0.1 - - [10/Mar/2024 13:37:52] \"GET /predict?title=_number%20linebreak%20becom%20_number%20past%20text%20field&body=copi%20past%20text%20normal%20singl%20line%20break%20look%20normal%20die%20text%20entri%20field%20threemaweb%20send%20get%20_number%20empti%20line%20instead%20one%20look%20terribl%20ist%20annoy%20longer%20text HTTP/1.1\" 200 -\n"
     ]
    },
    {
     "name": "stdout",
     "output_type": "stream",
     "text": [
      "predict=array([[0.16093127, 0.83906873]])\n"
     ]
    },
    {
     "name": "stderr",
     "output_type": "stream",
     "text": [
      "127.0.0.1 - - [10/Mar/2024 13:37:52] \"GET /predict?title=useract%20commit%20honor%20initi%20popup%20lightbox&body=reproduc%20_number%20get%20paynow%20button%20use%20commit%20true%20_number%20get%20lightbox%20experi%20_number%20click%20_number%20login%20button%20say%20continu%20pay HTTP/1.1\" 200 -\n"
     ]
    },
    {
     "name": "stdout",
     "output_type": "stream",
     "text": [
      "predict=array([[0.14493534, 0.85506466]])\n"
     ]
    },
    {
     "name": "stderr",
     "output_type": "stream",
     "text": [
      "127.0.0.1 - - [10/Mar/2024 13:37:52] \"GET /predict?title=extend%20return%20error%20none%20node%20driver%20onlin&body=bug%20report%20featur%20request%20bug%20report%20happen%20storag%20driver%20instal%20subset%20node%20subset%20node%20heavili%20load%20schedul%20send%20node%20driver%20instal%20extend%20return%20node%20case%20expect%20happen%20extend%20return%20error%20schedul%20tri%20schedul%20pod%20node%20without%20driver%20reproduc%20minim%20precis%20possibl%20_number%20instal%20storag%20driver%20node%20n1%20n2%20n3%20_number%20tri%20schedul%20pod%20n4%20_number%20pod%20get%20schedul%20n4%20abl%20mount%20pvc HTTP/1.1\" 200 -\n"
     ]
    },
    {
     "name": "stdout",
     "output_type": "stream",
     "text": [
      "predict=array([[0.06854471, 0.93145529]])\n"
     ]
    },
    {
     "name": "stderr",
     "output_type": "stream",
     "text": [
      "127.0.0.1 - - [10/Mar/2024 13:37:52] \"GET /predict?title=debian%20chroot%20packag%20instal%20i386%20_term_with_underscor%20bromolow&body=hi%20fresh%20instal%20debian%20chroot%20ds3615x%20run%20dsm%20_number._term_with_dash%20updat%20_number%20unfortun%20packag%20version%20_number._term_with_dash%20instal%20debian%20i386%20_term_with_underscor%20root%20sundalon%20/_path_path/_term_with_dash_term_with_dash%20start%20start%20debian%20chroot%20...%20root%20sundalon%20/_path_path/_term_with_dash_term_with_dash%20statu%20debian%20chroot%20run%20root%20sundalon%20/_path_path/_term_with_dash_term_with_dash%20chroot%20bash%20warn%20setlocal%20_term_with_underscor%20chang%20local%20_term_with_underscore.utf8%20root%20sundalon%20unam%20-a%20linux%20sundalon%20_number._numb%20_number%20smp%20tue%20feb%20_number%20_number%20_number%20_number%20cet%20_number%20_term_with_underscor%20_path%20root%20sundalon%20dpkg%20--%20_term_with_dash%20i386%20miss%20cheer%20sundalon%20_term_with_dash%20--%20want%20back%20issu%20post%20bounti%20_weburl%20_term_with_underscor%20plugin%20_term_with_underscor%20tracker%202f282943%20_term_with_underscor%20issu%20_term_with_underscor%20github%20accept%20bounti%20via%20bountysourc%20_weburl%20_term_with_underscor%20plugin%20_term_with_underscor%20tracker%202f282943%20_term_with_underscor%20issu%20_term_with_underscor%20github%20/_term_with_dash HTTP/1.1\" 200 -\n"
     ]
    },
    {
     "name": "stdout",
     "output_type": "stream",
     "text": [
      "predict=array([[0.42197286, 0.57802714]])\n"
     ]
    },
    {
     "name": "stderr",
     "output_type": "stream",
     "text": [
      "127.0.0.1 - - [10/Mar/2024 13:37:53] \"GET /predict?title=creat%20project%20test&body=set%20new%20project%20vs%20write%20unit%20test%20infer%20rule HTTP/1.1\" 200 -\n"
     ]
    },
    {
     "name": "stdout",
     "output_type": "stream",
     "text": [
      "predict=array([[0.58492986, 0.41507014]])\n"
     ]
    },
    {
     "name": "stderr",
     "output_type": "stream",
     "text": [
      "127.0.0.1 - - [10/Mar/2024 13:37:53] \"GET /predict?title=_very_long_term%20seem%20work%20correctli%20word%20like%20_term_with_dash&body=tri%20get%20current%20word%20cursor%20default%20option%20_very_long_term%20afaik%20enabl%20match%20word%20_term_with_dash%20separ%20current%20regex%20seem%20misconfigur%20match%20word%20correctli%20current%20code%20coffe%20wordregexp%20_very_long_term%20_very_long_term%20true%20_very_long_term%20atom.config.get%20editor._very_long_term%20segment%20segments.push%20_.escaperegexp%20_very_long_term%20_very_long_term%20segments.push%20_.escaperegexp%20_very_long_term%20new%20regexp%20segments.join%20correct%20code%20coffe%20wordregexp%20_very_long_term%20_very_long_term%20true%20_very_long_term%20atom.config.get%20editor._very_long_term%20segment%20_very_long_term%20segments.push%20_.escaperegexp%20_very_long_term%20segments.push%20els%20segments.push%20_.escaperegexp%20_very_long_term%20new%20regexp%20segments.join HTTP/1.1\" 200 -\n"
     ]
    },
    {
     "name": "stdout",
     "output_type": "stream",
     "text": [
      "predict=array([[0.3457395, 0.6542605]])\n"
     ]
    },
    {
     "name": "stderr",
     "output_type": "stream",
     "text": [
      "127.0.0.1 - - [10/Mar/2024 13:37:53] \"GET /predict?title=axiom%20librari%20work%20_path%20phonegap&body=build%20mobil%20app%20use%20phonegap%20debug%20browser%20app%20work%20fine%20use%20axiom%20load%20data%20json%20file%20io%20simul%20work%20throw%20error%20use%20redux%20_term_with_dash%20also%20troubl%20seem%20debug%20step%20code%20see%20error%20thrown%20idea%20suggest%20track%20code%20export%20function%20fetchremot%20return%20function%20dispatch%20//%20get%20translat%20http%20//localhost%20_number/%20console.log%20fetch%20json%20axios.get%20_path.json%20.then%20respons%20console.log%20success%20fetch%20json%20dispatch%20type%20_term_with_underscor%20payload%20response.data%20.catch%20err%20console.log%20err%20dispatch%20type%20_term_with_underscor%20payload%20err HTTP/1.1\" 200 -\n"
     ]
    },
    {
     "name": "stdout",
     "output_type": "stream",
     "text": [
      "predict=array([[0.34862896, 0.65137104]])\n"
     ]
    },
    {
     "name": "stderr",
     "output_type": "stream",
     "text": [
      "127.0.0.1 - - [10/Mar/2024 13:37:54] \"GET /predict?title=websocket%20error%20consol%20log%20run%20product%20environ&body=run%20product%20environ%20follow%20appear%20consol%20log%20_very_long_term.j%20_term_with_underscor%20true%20_number%20websocket%20connect%20wss%20//itmi.kheops._path_path/websocket%20fail%20error%20websocket%20handshak%20unexpect%20respons%20code%20_number%20_term_with_dash%20howev HTTP/1.1\" 200 -\n"
     ]
    },
    {
     "name": "stdout",
     "output_type": "stream",
     "text": [
      "predict=array([[0.12635985, 0.87364015]])\n"
     ]
    },
    {
     "name": "stderr",
     "output_type": "stream",
     "text": [
      "127.0.0.1 - - [10/Mar/2024 13:37:54] \"GET /predict?title=_term_with_underscor%20function%20declar%20twice%20_term_with_underscore.pi&body=describ%20bug%20_term_with_underscor%20function%20declar%20twice%20_term_with_underscore.pi%20reproduc%20find%20_number%20_number%20expect%20behavior%20one%20_number%20stay%20remov%20one%20_number%20screenshot%20desktop%20pleas%20complet%20follow%20inform%20version%20_number%20addit%20context HTTP/1.1\" 200 -\n"
     ]
    },
    {
     "name": "stdout",
     "output_type": "stream",
     "text": [
      "predict=array([[0.0266087, 0.9733913]])\n"
     ]
    },
    {
     "name": "stderr",
     "output_type": "stream",
     "text": [
      "127.0.0.1 - - [10/Mar/2024 13:37:54] \"GET /predict?title=hamcrest%20matcher%20verifi%20header&body=take%20hamcrest%20matcher%20verifi%20header%20think%20request%20respons%20header%20need%20verifi%20someth%20like%20public%20final%20class%20hmrqheader%20extend%20_very_long_term%20request%20public%20hmrqheader%20final%20matcher%20extend%20entri%20string%20string%20mtchr%20public%20final%20class%20hmrsheader%20extend%20_very_long_term%20respons%20public%20hmrsheader%20final%20matcher%20extend%20entri%20string%20string%20mtchr%20hr%20id%20_term_with_dash%20_number%20dragan%20bozanov%20_term_with_dash%20_number%20dragan%20bozanov HTTP/1.1\" 200 -\n"
     ]
    },
    {
     "name": "stdout",
     "output_type": "stream",
     "text": [
      "predict=array([[0.60286094, 0.39713906]])\n"
     ]
    },
    {
     "name": "stderr",
     "output_type": "stream",
     "text": [
      "127.0.0.1 - - [10/Mar/2024 13:37:54] \"GET /predict?title=-o3%20optim%20caus%20incorrect%20result%20osx%20clang%20_term_with_underscor&body=turn%20optim%20fix%20problem%20code%20initi%20special%20_term_with_underscor%20variabl%20vseglenxgap%20use%20nw%20scan%20optim%20caus%20blendv%20oper%20somehow%20blend%20part%20overal%20_term_with_underscor%20exampl%20_term_with_dash%20code%20reproduc%20confirm%20occur%20icc%20linux%20os%20occur%20osx%20bash%20gcc%20--%20version%20configur%20--%20prefix%20/_path._path_path%20--%20_term_with_dash_term_with_dash_term_with_dash%20/_path/c%20/_number._numb%20appl%20llvm%20version%20_number._numb%20_term_with_dash._numb%20target%20_term_with_dash_term_with_dash._numb%20thread%20model%20posix%20_term_with_underscor%20score%20_term_with_underscor%20const%20_term_with_underscor%20seglenxgap%20-seglen%20gap%20const%20_term_with_underscor%20_term_with_underscor%20_term_with_underscor%20_term_with_underscor%20_term_with_underscor%20_number%20_number%20_number%20_number%20_number%20_number%20_number%20_number%20_number%20_number%20_number%20_number%20_number%20_number%20_number%20_number%20const%20_term_with_underscor%20vseglenxgap1%20_term_with_underscor%20_term_with_dash%20gap%20const%20_term_with_underscor%20vseglenxgap%20_term_with_underscor%20vneginf%20_term_with_underscor%20seglenxgap%20_term_with_underscor HTTP/1.1\" 200 -\n"
     ]
    },
    {
     "name": "stdout",
     "output_type": "stream",
     "text": [
      "predict=array([[0.05783008, 0.94216992]])\n"
     ]
    },
    {
     "name": "stderr",
     "output_type": "stream",
     "text": [
      "127.0.0.1 - - [10/Mar/2024 13:37:55] \"GET /predict?title=stat%20return%20bow%20beam%20rifl%20_path%20weapon%20stat&body=investig%20_number%20notic%20return%20bow%20beam%20_term_with_dash%20weapon%20stat%20return%20weapon%20type%20see%20get%20ad%20_path%20hotfix%20well HTTP/1.1\" 200 -\n"
     ]
    },
    {
     "name": "stdout",
     "output_type": "stream",
     "text": [
      "predict=array([[0.32241343, 0.67758657]])\n"
     ]
    },
    {
     "name": "stderr",
     "output_type": "stream",
     "text": [
      "127.0.0.1 - - [10/Mar/2024 13:37:55] \"GET /predict?title=send%20url%20past%20input&body=imag%20_weburl%20send%20ctrl%20anywher HTTP/1.1\" 200 -\n"
     ]
    },
    {
     "name": "stdout",
     "output_type": "stream",
     "text": [
      "predict=array([[0.49304734, 0.50695266]])\n"
     ]
    },
    {
     "name": "stderr",
     "output_type": "stream",
     "text": [
      "127.0.0.1 - - [10/Mar/2024 13:37:55] \"GET /predict?title=featur%20request%20add%20support%20java%20server&body=--%20issu%20label%20necessari%20help%20organ%20issu%20label%20issu%20open%20add%20label%20automat%20simpli%20mark%20appropri%20box%20_term_with_dash%20featur%20doc%20block%20good%20first%20issu%20add%20label%20list%20simpli%20place%20/label%20_term_with_dash_term_with_dash%20line%20--%20hi%20build%20server%20app%20need%20consum%20graphql%20api%20anoth%20server%20would%20awesom%20use%20librari%20main%20issu%20current%20use%20librari%20server%20_number%20import%20latest%20runtim%20lib%20work%20android%20studio%20_term_with_dash%20project%20_number%20gener%20class%20work%20reason%20thank HTTP/1.1\" 200 -\n"
     ]
    },
    {
     "name": "stdout",
     "output_type": "stream",
     "text": [
      "predict=array([[0.94643481, 0.05356519]])\n"
     ]
    },
    {
     "name": "stderr",
     "output_type": "stream",
     "text": [
      "127.0.0.1 - - [10/Mar/2024 13:37:55] \"GET /predict?title=fallback%20call%20user%20authent%20fail%20ldap&body=laravel%20version%20_number%20_term_with_dash%20version%20_number._numb%20php%20version%20_number%20descript%20notic%20user%20fail%20login%20ldap%20e.g%20password%20wrong%20user%20_term_with_dash%20system%20use%20fallback%20authent%20correct%20behaviour%20call%20fallback%20find%20user%20ldap%20user%20exist%20ldap%20authent%20fail%20revert%20fallback%20seem%20two%20problem%20relat%20fallback%20_number%20user%20whose%20password%20reset%20still%20login%20use%20old%20password%20ldap%20authent%20fail%20system%20resort%20databas%20still%20old%20password%20_number%20system%20never%20updat%20databas%20record%20new%20password%20model%20get%20written%20databas%20ldap%20authent%20success%20authent%20fail%20model%20never%20save%20databas%20keep%20old%20password%20chang%20user%20success%20log%20ldap%20might%20_term_with_dash%20purpos%20fallback%20seem%20wrong%20notic%20report%20peopl%20still%20abl%20login%20old%20password%20suspect%20caus%20problem%20ldap%20cach%20password%20databas%20still%20store%20old%20password%20step%20reproduc%20_number%20creat%20user%20ldap%20_number%20login%20success%20databas%20record%20creat%20user%20_number%20chang%20password%20ldap%20_number%20user%20still%20login%20old%20password%20old%20password%20remain%20databas%20user%20log%20new%20password%20note%20cach%20problem%20_number%20user%20log%20new%20password%20databas%20updat%20new%20password%20user%20longer%20use%20old%20password%20possibl%20fix%20think%20problem%20_very_long_term%20_very_long_term%20method%20comment%20remov%20public%20function%20_very_long_term%20_very_long_term%20model%20array%20credenti%20this-%20user%20instanceof%20user%20this-%20getresolv%20authent%20this-%20user%20credenti%20this-%20_very_long_term%20this-%20user%20model%20this-%20newvalid%20this-%20getrul%20this-%20user%20model%20pass%20this-%20_very_long_term%20password%20credenti%20password%20els%20password%20_term_with_underscor%20model-%20password%20model-%20hassetmut%20password%20password%20bcrypt%20password%20model-%20save%20this-%20_very_long_term%20model%20model-%20setldapus%20this-%20user%20return%20true%20this-%20isfallingback%20model-%20exist%20return%20this-%20fallback-%20_very_long_term%20model%20credenti%20return%20fals%20problem%20seem%20first%20statement%20this-%20user%20instanceof%20user%20this-%20getresolv%20authent%20this-%20user%20credenti%20separ%20model%20alway%20save%20long%20exist%20regardless%20whether%20user%20authent%20databas%20updat%20correct%20credenti%20authent%20fail%20return%20fals%20revert%20fallback%20thought%20might%20work%20better%20public%20function%20_very_long_term%20_very_long_term%20model%20array%20credenti%20this-%20user%20instanceof%20user%20//%20user%20exist%20save%20updat%20data%20ldap%20model-%20save%20//%20authent%20user%20this-%20getresolv%20authent%20this-%20user%20credenti%20...%20//%20return%20fals%20authent%20fail%20return%20fals%20//%20user%20found%20ldap%20revert%20fallback%20this-%20isfallingback%20model-%20exist%20return%20this-%20fallback-%20_very_long_term%20model%20credenti%20return%20fals HTTP/1.1\" 200 -\n"
     ]
    },
    {
     "name": "stdout",
     "output_type": "stream",
     "text": [
      "predict=array([[0.09053044, 0.90946956]])\n"
     ]
    },
    {
     "name": "stderr",
     "output_type": "stream",
     "text": [
      "127.0.0.1 - - [10/Mar/2024 13:37:56] \"GET /predict?title=mgmt%20attribut%20releas%20polici%20option%20incorrectli%20shown&body=click%20add%20new%20servic%20brows%20attribut%20releas%20tab%20attribut%20releas%20polici%20section%20show%20_number%20polici%20default%20select%20seem%20polici%20imag%20_weburl%20option%20miss%20would%20return%20allow%20return%20deni%20etc%20_weburl%20also%20return%20return%20map%20etc%20anywher%20possibl%20select%20attribut%20user%20must%20option%20type%20anyth%20add%20anyth%20list HTTP/1.1\" 200 -\n"
     ]
    },
    {
     "name": "stdout",
     "output_type": "stream",
     "text": [
      "predict=array([[0.74109735, 0.25890265]])\n"
     ]
    },
    {
     "name": "stderr",
     "output_type": "stream",
     "text": [
      "127.0.0.1 - - [10/Mar/2024 13:37:56] \"GET /predict?title=quit%20pyfa%20use%20crest%20make%20app%20hang&body=log%20use%20crest%20quit%20app%20make%20app%20hang%20forc%20quit%20everi%20time%20log%20quit%20app%20hang%20even%20log%20quit%20app%20still%20hang%20maco%20_number._numb%20pyfa%20_number._numb HTTP/1.1\" 200 -\n"
     ]
    },
    {
     "name": "stdout",
     "output_type": "stream",
     "text": [
      "predict=array([[0.34233275, 0.65766725]])\n"
     ]
    },
    {
     "name": "stderr",
     "output_type": "stream",
     "text": [
      "127.0.0.1 - - [10/Mar/2024 13:37:56] \"GET /predict?title=filter%20restaur%20cuisin&body=user%20abl%20filter%20restaur%20price HTTP/1.1\" 200 -\n"
     ]
    },
    {
     "name": "stdout",
     "output_type": "stream",
     "text": [
      "predict=array([[0.67604929, 0.32395071]])\n"
     ]
    },
    {
     "name": "stderr",
     "output_type": "stream",
     "text": [
      "127.0.0.1 - - [10/Mar/2024 13:37:57] \"GET /predict?title=delet%20contact&body=contact%20tab%20way%20delet%20exist%20author%20data%20access%20contact%20especi%20evid%20accident%20click%20either%20add%20author%20add%20access%20contact%20go%20anoth%20tab%20return%20contact%20blank%20contact%20record%20cancel%20add%20button%20remov%20mayb%20instead%20singl%20cancel%20button%20put%20button%20contact%20remov%20record HTTP/1.1\" 200 -\n"
     ]
    },
    {
     "name": "stdout",
     "output_type": "stream",
     "text": [
      "predict=array([[0.86573917, 0.13426083]])\n"
     ]
    },
    {
     "name": "stderr",
     "output_type": "stream",
     "text": [
      "127.0.0.1 - - [10/Mar/2024 13:37:57] \"GET /predict?title=view%20edit%20web%20app%20set&body=extens%20shall%20allow%20user%20view%20edit%20web%20app%20set HTTP/1.1\" 200 -\n"
     ]
    },
    {
     "name": "stdout",
     "output_type": "stream",
     "text": [
      "predict=array([[0.61280796, 0.38719204]])\n"
     ]
    },
    {
     "name": "stderr",
     "output_type": "stream",
     "text": [
      "127.0.0.1 - - [10/Mar/2024 13:37:57] \"GET /predict?title=quicklinkblock%20model%20rendor%20html%20href%20...&body=_term_with_underscor%20block%20render%20_path%20pair HTTP/1.1\" 200 -\n"
     ]
    },
    {
     "name": "stdout",
     "output_type": "stream",
     "text": [
      "predict=array([[0.54774004, 0.45225996]])\n"
     ]
    },
    {
     "name": "stderr",
     "output_type": "stream",
     "text": [
      "127.0.0.1 - - [10/Mar/2024 13:37:57] \"GET /predict?title=display%20_number%20ilvl%20item&body=hi%20use%20_number._term_with_dash%20version%20bagnon%20itemlevel%20_number._numb%20bagnon%20main%20ui%20use%20elvui%20_number%20look%20item%20show%20_number%20clearli%20correct%20_term_with_underscor%20_weburl%20sometim%20display%20correct%20recreat%20work%20thought%20would%20appreci%20thank HTTP/1.1\" 200 -\n"
     ]
    },
    {
     "name": "stdout",
     "output_type": "stream",
     "text": [
      "predict=array([[0.30856783, 0.69143217]])\n"
     ]
    },
    {
     "name": "stderr",
     "output_type": "stream",
     "text": [
      "127.0.0.1 - - [10/Mar/2024 13:37:58] \"GET /predict?title=default%20read%20correctli&body=x.hh.add%20_path%20gbar%201e3%20x.hh.add%20_path%20gbar%20_number%20nav%20read%20default%20kd%20wtf HTTP/1.1\" 200 -\n"
     ]
    },
    {
     "name": "stdout",
     "output_type": "stream",
     "text": [
      "predict=array([[0.70285895, 0.29714105]])\n"
     ]
    },
    {
     "name": "stderr",
     "output_type": "stream",
     "text": [
      "127.0.0.1 - - [10/Mar/2024 13:37:58] \"GET /predict?title=import%20relat%20rule%20refactor&body=current%20rule%20configur%20caus%20mani%20style%20base%20warn%20regard%20import%20order%20sort%20import%20order%20conflict%20_path%20_path%20_path%20_path%20rule%20conflict%20_path%20disallow%20js%20import%20..%20/config%20import%20fs%20fs%20//%20--%20error%20absolut%20import%20come%20rel%20import%20import%20app%20..%20/app%20hand%20_path%20fine%20mention%20rule%20document%20unassign%20import%20ignor%20order%20import%20may%20import%20improv%20allow%20unassign%20import%20anywher%20still%20_term_with_dash%20statement%20also%20import%20group%20specifi%20accur%20split%20three%20main%20group%20import%20sort%20conflict%20_term_with_dash%20_term_with_dash%20rule%20conflict%20mention%20rule%20import%20import%20sort%20within%20group%20rule%20disabl%20way%20make%20work%20regard%20compat%20rule%20_path%20_weburl%20_path%20_weburl%20_term_with_dash%20_weburl HTTP/1.1\" 200 -\n"
     ]
    },
    {
     "name": "stdout",
     "output_type": "stream",
     "text": [
      "predict=array([[0.62824037, 0.37175963]])\n"
     ]
    },
    {
     "name": "stderr",
     "output_type": "stream",
     "text": [
      "127.0.0.1 - - [10/Mar/2024 13:37:58] \"GET /predict?title=temporari%20shapefil%20store%20locat&body=present%20_term_with_dash%20temporari%20shapefil%20store%20_term_with_dash%20/_path/%20find%20better%20place%20e.g%20/download%20avail%20disk%20space%20_path%20look%20manag%20map%20huge%20file%20creat%208gb HTTP/1.1\" 200 -\n"
     ]
    },
    {
     "name": "stdout",
     "output_type": "stream",
     "text": [
      "predict=array([[0.62405651, 0.37594349]])\n"
     ]
    },
    {
     "name": "stderr",
     "output_type": "stream",
     "text": [
      "127.0.0.1 - - [10/Mar/2024 13:37:59] \"GET /predict?title=dogsonwalk%20alpha%20workout%20summari&body=collect%20view%20workout%20summari%20fade%20due%20alpha%20chang%20_number%20alpha HTTP/1.1\" 200 -\n"
     ]
    },
    {
     "name": "stdout",
     "output_type": "stream",
     "text": [
      "predict=array([[0.38617596, 0.61382404]])\n"
     ]
    },
    {
     "name": "stderr",
     "output_type": "stream",
     "text": [
      "127.0.0.1 - - [10/Mar/2024 13:37:59] \"GET /predict?title=_term_with_dash%20see%20devic%20unless%20chang%20udev%20rule&body=instal%20udev%20rule%20file%20anoth%20project%20/_path/rules.d/%20_weburl%20_term_with_dash%20could%20see%20eleaf%20aster%20thank HTTP/1.1\" 200 -\n"
     ]
    },
    {
     "name": "stdout",
     "output_type": "stream",
     "text": [
      "predict=array([[0.42700604, 0.57299396]])\n"
     ]
    },
    {
     "name": "stderr",
     "output_type": "stream",
     "text": [
      "127.0.0.1 - - [10/Mar/2024 13:39:00] \"GET /predict?title=implement%20new%20styleguid&body=new%20styleguid%20found%20_weburl%20one%20creat%20account%20also%20possibl%20copi%20css%20stuff%20good%20luck HTTP/1.1\" 200 -\n"
     ]
    },
    {
     "name": "stdout",
     "output_type": "stream",
     "text": [
      "predict=array([[0.92861345, 0.07138655]])\n"
     ]
    },
    {
     "name": "stderr",
     "output_type": "stream",
     "text": [
      "127.0.0.1 - - [10/Mar/2024 13:39:55] \"GET /predict?title=donald%20trump&body=error HTTP/1.1\" 200 -\n"
     ]
    },
    {
     "name": "stdout",
     "output_type": "stream",
     "text": [
      "predict=array([[0.28624513, 0.71375487]])\n"
     ]
    },
    {
     "name": "stderr",
     "output_type": "stream",
     "text": [
      "127.0.0.1 - - [10/Mar/2024 13:40:10] \"GET /predict?title=donald%20trump&body=error HTTP/1.1\" 200 -\n"
     ]
    },
    {
     "name": "stdout",
     "output_type": "stream",
     "text": [
      "predict=array([[0.28624513, 0.71375487]])\n"
     ]
    },
    {
     "name": "stderr",
     "output_type": "stream",
     "text": [
      "127.0.0.1 - - [10/Mar/2024 13:40:39] \"GET /predict?title=donald%20trump&body=error HTTP/1.1\" 200 -\n"
     ]
    },
    {
     "name": "stdout",
     "output_type": "stream",
     "text": [
      "predict=array([[0.28624513, 0.71375487]])\n"
     ]
    },
    {
     "name": "stderr",
     "output_type": "stream",
     "text": [
      "127.0.0.1 - - [10/Mar/2024 13:40:55] \"GET /predict?title=donald%20trump&body=error HTTP/1.1\" 200 -\n"
     ]
    },
    {
     "name": "stdout",
     "output_type": "stream",
     "text": [
      "predict=array([[0.28624513, 0.71375487]])\n"
     ]
    },
    {
     "name": "stderr",
     "output_type": "stream",
     "text": [
      "127.0.0.1 - - [10/Mar/2024 13:41:30] \"GET /predict?title=implement%20new%20styleguid&body=new%20styleguid%20found%20_weburl%20one%20creat%20account%20also%20possibl%20copi%20css%20stuff%20good%20luck HTTP/1.1\" 200 -\n"
     ]
    },
    {
     "name": "stdout",
     "output_type": "stream",
     "text": [
      "predict=array([[0.92861345, 0.07138655]])\n"
     ]
    },
    {
     "name": "stderr",
     "output_type": "stream",
     "text": [
      "127.0.0.1 - - [10/Mar/2024 13:41:31] \"GET /predict?title=add%20_very_long_term%20gift%20event&body=new%20gifte%20creat HTTP/1.1\" 200 -\n"
     ]
    },
    {
     "name": "stdout",
     "output_type": "stream",
     "text": [
      "predict=array([[0.8957689, 0.1042311]])\n"
     ]
    },
    {
     "name": "stderr",
     "output_type": "stream",
     "text": [
      "127.0.0.1 - - [10/Mar/2024 13:41:31] \"GET /predict?title=nativ%20proxi%20enabl%20use%20node%20--%20_term_with_dash%20enabl&body=environ%20instal%20apk%20_term_with_dash.apk%20_term_with_underscor%20avd%20_number._numb%20app%20debug%20instal%20_number%20devic%20build%20success%20total%20time%20_number%20min%20_number._non_decimal_numb%20sec%20build%20could%20faster%20pleas%20consid%20use%20gradl%20daemon%20_weburl%20/_path%20adb%20command%20found%20step%20reproduc%20packag%20json%20_weburl%20expect%20behavior%20run%20app%20usual%20actual%20behavior%20run%20app%20android%20get%20error%20android%20simul%20android%20studio%20_weburl HTTP/1.1\" 200 -\n"
     ]
    },
    {
     "name": "stdout",
     "output_type": "stream",
     "text": [
      "predict=array([[0.21622459, 0.78377541]])\n"
     ]
    },
    {
     "name": "stderr",
     "output_type": "stream",
     "text": [
      "127.0.0.1 - - [10/Mar/2024 13:41:31] \"GET /predict?title=report%20invalid%20version&body=modul%20version%20meta%20file%20report%20meta%20error%20per%20_weburl%20_term_with_underscor%20eveo%20twell%20use%20version%20number%20timtoadi%20tthat%20realli%20valid%20version%20number%20valid%20version%20number%20matcher%20timtoadi%20twildcard%20part%20ident%20modul%20use%20depend%20check HTTP/1.1\" 200 -\n"
     ]
    },
    {
     "name": "stdout",
     "output_type": "stream",
     "text": [
      "predict=array([[0.14739268, 0.85260732]])\n"
     ]
    },
    {
     "name": "stderr",
     "output_type": "stream",
     "text": [
      "127.0.0.1 - - [10/Mar/2024 13:41:32] \"GET /predict?title=code%20coverag%20report%20ui&body=would%20help%20develop%20could%20see%20test%20coverag%20report%20ui%20helper%20determin%20part%20code%20test%20new%20command%20sfdx%20show%20test%20coverag%20could%20ad%20follow%20_number%20ran%20test%20coverag%20report%20show%20result%20termin%20_number%20ad%20coverag%20indic%20editor%20gutter%20shown%20exampl%20imag%20_weburl HTTP/1.1\" 200 -\n"
     ]
    },
    {
     "name": "stdout",
     "output_type": "stream",
     "text": [
      "predict=array([[0.49170917, 0.50829083]])\n"
     ]
    },
    {
     "name": "stderr",
     "output_type": "stream",
     "text": [
      "127.0.0.1 - - [10/Mar/2024 13:41:32] \"GET /predict?title=endless%20hang%20get%20job%20detail&body=seem%20happen%20job%20_term_with_dash%20mayb%20render%20ws%20messag%20imag%20_weburl%20follow%20log%20request%20identifi%20_number%20_number%20_number%20actual%20sent%20sever%20minut%20log%20entri%20suggest%20someth%20block%20handl%20request HTTP/1.1\" 200 -\n"
     ]
    },
    {
     "name": "stdout",
     "output_type": "stream",
     "text": [
      "predict=array([[0.30271419, 0.69728581]])\n"
     ]
    },
    {
     "name": "stderr",
     "output_type": "stream",
     "text": [
      "127.0.0.1 - - [10/Mar/2024 13:41:32] \"GET /predict?title=reset%20graph%20data%20updat%20handl&body=present%20remov%20contest%20rate%20graph%20data%20need%20delet%20data%20updat%20handl HTTP/1.1\" 200 -\n"
     ]
    },
    {
     "name": "stdout",
     "output_type": "stream",
     "text": [
      "predict=array([[0.48363468, 0.51636532]])\n"
     ]
    },
    {
     "name": "stderr",
     "output_type": "stream",
     "text": [
      "127.0.0.1 - - [10/Mar/2024 13:41:32] \"GET /predict?title=exist%20signal%20metadata%20file%20format&body=issu%20dedic%20referenc%20alreadi%20exist%20metadata%20file%20format%20desir%20featur%20_term_with_dash%20provid%20convert%20format%20sigmf%20attempt%20ensur%20compat%20exist%20dataset HTTP/1.1\" 200 -\n"
     ]
    },
    {
     "name": "stdout",
     "output_type": "stream",
     "text": [
      "predict=array([[0.74178837, 0.25821163]])\n"
     ]
    },
    {
     "name": "stderr",
     "output_type": "stream",
     "text": [
      "127.0.0.1 - - [10/Mar/2024 13:41:33] \"GET /predict?title=treemenu%20indic%20expand%20beyond%20scroll%20view&body=_number%20go%20_weburl%20_number%20open%20treemenu%20_number%20go%20last%20menu%20option%20_number%20click%20_number%20see%20see%20menu%20open%20scrollbar%20chang%20expect%20mayb%20treemenu%20automat%20scroll%20show%20new%20indic%20open%20gif%20_weburl HTTP/1.1\" 200 -\n"
     ]
    },
    {
     "name": "stdout",
     "output_type": "stream",
     "text": [
      "predict=array([[0.63242771, 0.36757229]])\n"
     ]
    },
    {
     "name": "stderr",
     "output_type": "stream",
     "text": [
      "127.0.0.1 - - [10/Mar/2024 13:41:33] \"GET /predict?title=download%20modal%20warn%20larg%20download&body=download%20give%20warn%20gener%20file%20take%20certain%20amount%20time%20_number%20previou%20releas HTTP/1.1\" 200 -\n"
     ]
    },
    {
     "name": "stdout",
     "output_type": "stream",
     "text": [
      "predict=array([[0.47907689, 0.52092311]])\n"
     ]
    },
    {
     "name": "stderr",
     "output_type": "stream",
     "text": [
      "127.0.0.1 - - [10/Mar/2024 13:41:33] \"GET /predict?title=renderdoc%20assert%20captur%20cinder%20vulkan%20normalmap%20sampl&body=t//%20might%20work%20e.g%20debug%20manag%20creation%20command%20buffer%20t//%20queue%20devic%20destroy%20immedi%20case%20t//%20skip%20submit%20tif%20_term_with_underscor%20_term_with_underscor%20tvkresult%20vkr%20objdisp%20_term_with_underscor%20queuesubmit%20unwrap%20_term_with_underscor%20_number%20submitinfo%20_term_with_underscor%20_very_long_term%20vkr%20_term_with_underscor%20//%20--%20--%20--%20hit%20renderdoc.dl%20wrappedvulkan%20:submitcmd%20line%20_number%20renderdoc.dl%20wrappedvulkan%20:_very_long_term%20line%20_number%20renderdoc.dl%20wrappedvulkan%20:replaylog%20unsign%20int%20frameid%20_number%20unsign%20int%20starteventid%20_number%20unsign%20int%20endeventid%20_number%20replaylogtyp%20replaytyp%20_term_with_underscor%20line%20_number%20renderdoc.dl%20vulkanreplay%20:replaylog%20unsign%20int%20frameid%20_number%20unsign%20int%20endeventid%20_number%20replaylogtyp%20replaytyp%20_term_with_underscor%20line%20_number%20renderdoc.dl%20replayrender%20:setframeev%20unsign%20int%20frameid%20_number%20unsign%20int%20eventid%20_number%20bool%20forc%20fals%20line%20_number%20renderdoc.dl%20_term_with_underscor%20replayrender%20rend%20_non_decimal_numb%20unsign%20int%20frameid%20_number%20unsign%20int%20eventid%20_number%20unsign%20int%20forc%20_number%20line%20_number%20_weburl%20repro%20get%20normalmapping.zip%20_weburl%20open%20x64%20renderdoc%20launch%20normalmapping.ex%20renderdoc%20captur%20frame%20f12%20quit%20applic%20assert HTTP/1.1\" 200 -\n"
     ]
    },
    {
     "name": "stdout",
     "output_type": "stream",
     "text": [
      "predict=array([[0.33050195, 0.66949805]])\n"
     ]
    },
    {
     "name": "stderr",
     "output_type": "stream",
     "text": [
      "127.0.0.1 - - [10/Mar/2024 13:41:34] \"GET /predict?title=add%20programat%20support%20open%20accordion&body=find%20way%20_very_long_term%20_weburl%20l62 HTTP/1.1\" 200 -\n"
     ]
    },
    {
     "name": "stdout",
     "output_type": "stream",
     "text": [
      "predict=array([[0.92563615, 0.07436385]])\n"
     ]
    },
    {
     "name": "stderr",
     "output_type": "stream",
     "text": [
      "127.0.0.1 - - [10/Mar/2024 13:41:34] \"GET /predict?title=add%20auto%20releas%20system&body=import%20releas%20new%20content%20quickli%20lot%20packag%20use%20bpr%20_weburl%20increment%20version%20base%20tag%20also%20includ%20document%20creat%20new%20releas%20use%20github%20interfac%20creat%20releas%20note%20well%20version%20pattern%20use%20_term_with_dash%20packag%20directli%20deploy%20via%20_term_with_dash%20travi%20cli%20instal%20done%20via%20command%20shell%20travi%20setup%20pypi%20current%20thermondo%20pypi%20account%20could%20creat%20one%20see%20also%20_weburl HTTP/1.1\" 200 -\n"
     ]
    },
    {
     "name": "stdout",
     "output_type": "stream",
     "text": [
      "predict=array([[0.9180334, 0.0819666]])\n"
     ]
    },
    {
     "name": "stderr",
     "output_type": "stream",
     "text": [
      "127.0.0.1 - - [10/Mar/2024 13:41:34] \"GET /predict?title=export%20data%20seen%20tabl&body=right%20download%20button%20download%20raw%20data%20possibl%20column%20filter%20think%20download%20download%20content%20tabl%20user%20see%20i.e%20user%20appli%20aggreg%20download%20instead%20origin%20dataset HTTP/1.1\" 200 -\n"
     ]
    },
    {
     "name": "stdout",
     "output_type": "stream",
     "text": [
      "predict=array([[0.68456572, 0.31543428]])\n"
     ]
    },
    {
     "name": "stderr",
     "output_type": "stream",
     "text": [
      "127.0.0.1 - - [10/Mar/2024 13:41:34] \"GET /predict?title=fix%20key%20bind%20arrow%20_path&body=may%20need%20key%20code%20bind%20engine.j HTTP/1.1\" 200 -\n"
     ]
    },
    {
     "name": "stdout",
     "output_type": "stream",
     "text": [
      "predict=array([[0.28501292, 0.71498708]])\n"
     ]
    },
    {
     "name": "stderr",
     "output_type": "stream",
     "text": [
      "127.0.0.1 - - [10/Mar/2024 13:41:35] \"GET /predict?title=edit%20gener%20form%20inform&body=gener%20inform%20name%20slug%20etc%20edit%20mask%20appear%20user%20click%20row%20list%20form HTTP/1.1\" 200 -\n"
     ]
    },
    {
     "name": "stdout",
     "output_type": "stream",
     "text": [
      "predict=array([[0.67287954, 0.32712046]])\n"
     ]
    },
    {
     "name": "stderr",
     "output_type": "stream",
     "text": [
      "127.0.0.1 - - [10/Mar/2024 13:41:35] \"GET /predict?title=add%20_very_long_term%20_very_long_term&body=_very_long_term%20overflow%20next%20line%20text%20width%20exce%20max%20line%20width%20case%20rather%20want%20overflow%20replac%20ellipsi%20provid%20_term_with_underscor%20new%20function%20_very_long_term%20would%20simpli%20hide%20overflow%20cut%20extra%20text%20_very_long_term%20first%20calcul%20much%20space%20ellipsi%20given%20font%20requir%20cut%20mani%20char%20origin%20text%20need%20precondit%20simpl%20implement%20function%20text%20contain%20new%20line HTTP/1.1\" 200 -\n"
     ]
    },
    {
     "name": "stdout",
     "output_type": "stream",
     "text": [
      "predict=array([[0.90680424, 0.09319576]])\n"
     ]
    },
    {
     "name": "stderr",
     "output_type": "stream",
     "text": [
      "127.0.0.1 - - [10/Mar/2024 13:41:35] \"GET /predict?title=save%20origin%20.lu%20file%20name&body=run%20program%20unpack%20file%20origin%20file%20name%20instead%20file%20name%20look%20like%20_term_with_dash.extract%20would%20cool%20made%20unpack%20file%20origin%20name HTTP/1.1\" 200 -\n"
     ]
    },
    {
     "name": "stdout",
     "output_type": "stream",
     "text": [
      "predict=array([[0.63781714, 0.36218286]])\n"
     ]
    },
    {
     "name": "stderr",
     "output_type": "stream",
     "text": [
      "127.0.0.1 - - [10/Mar/2024 13:41:35] \"GET /predict?title=captur%20inform%20_term_with_dash%20jsonapi%20object&body=version%20meta%20inform%20_weburl%20_term_with_dash_term_with_dash HTTP/1.1\" 200 -\n"
     ]
    },
    {
     "name": "stdout",
     "output_type": "stream",
     "text": [
      "predict=array([[0.65545787, 0.34454213]])\n"
     ]
    },
    {
     "name": "stderr",
     "output_type": "stream",
     "text": [
      "127.0.0.1 - - [10/Mar/2024 13:41:36] \"GET /predict?title=add%20support%20request%20_number._numb&body=requir%20request%20version%20_number._numb%20quit%20ridicul%20pleas%20add%20support%20newer%20version HTTP/1.1\" 200 -\n"
     ]
    },
    {
     "name": "stdout",
     "output_type": "stream",
     "text": [
      "predict=array([[0.94086322, 0.05913678]])\n"
     ]
    },
    {
     "name": "stderr",
     "output_type": "stream",
     "text": [
      "127.0.0.1 - - [10/Mar/2024 13:41:36] \"GET /predict?title=stage%20platform%20standard%20rout%20work%20mcma%20question&body=standard%20rout%20work%20mcma%20question%20question%20templat%20work%20intend%20scriptid%20_number%20userid%20_number%20sure%20user%20error%20issu%20rout%20modul%20good%20understand%20caus HTTP/1.1\" 200 -\n"
     ]
    },
    {
     "name": "stdout",
     "output_type": "stream",
     "text": [
      "predict=array([[0.50970718, 0.49029282]])\n"
     ]
    },
    {
     "name": "stderr",
     "output_type": "stream",
     "text": [
      "127.0.0.1 - - [10/Mar/2024 13:41:36] \"GET /predict?title=show%20partial%20bucket%20option%20gone&body=show%20partial%20bucket%20option%20never%20shown%20latest%20master%20_term_with_dash_term_with_dash_term_with_dash_term_with_dash_term_with_dash%20_weburl%20_term_with_dash_term_with_dash_term_with_dash_term_with_dash_term_with_dash%20_weburl HTTP/1.1\" 200 -\n"
     ]
    },
    {
     "name": "stdout",
     "output_type": "stream",
     "text": [
      "predict=array([[0.49582976, 0.50417024]])\n"
     ]
    },
    {
     "name": "stderr",
     "output_type": "stream",
     "text": [
      "127.0.0.1 - - [10/Mar/2024 13:41:37] \"GET /predict?title=instal%20path%20manag%20_very_long_term&body=exhibit%20ad%20/_path/_term_with_underscor%20path%20alway%20add%20later%20call%20sct%20function%20full%20path%20/_path_path/_term_with_underscor%20mention%20_path%20mention%20full%20path%20_term_with_underscor%20_term_with_underscor%20eg%20/_path/_term_with_underscor%20exhibit%20open%20new%20termin%20window%20load%20environ%20variabl%20run%20sourc%20/_path/.bashrc%20refus%20add%20path%20state HTTP/1.1\" 200 -\n"
     ]
    },
    {
     "name": "stdout",
     "output_type": "stream",
     "text": [
      "predict=array([[0.81478052, 0.18521948]])\n"
     ]
    },
    {
     "name": "stderr",
     "output_type": "stream",
     "text": [
      "127.0.0.1 - - [10/Mar/2024 13:41:37] \"GET /predict?title=_number%20linebreak%20becom%20_number%20past%20text%20field&body=copi%20past%20text%20normal%20singl%20line%20break%20look%20normal%20die%20text%20entri%20field%20threemaweb%20send%20get%20_number%20empti%20line%20instead%20one%20look%20terribl%20ist%20annoy%20longer%20text HTTP/1.1\" 200 -\n"
     ]
    },
    {
     "name": "stdout",
     "output_type": "stream",
     "text": [
      "predict=array([[0.16093127, 0.83906873]])\n"
     ]
    },
    {
     "name": "stderr",
     "output_type": "stream",
     "text": [
      "127.0.0.1 - - [10/Mar/2024 13:41:37] \"GET /predict?title=useract%20commit%20honor%20initi%20popup%20lightbox&body=reproduc%20_number%20get%20paynow%20button%20use%20commit%20true%20_number%20get%20lightbox%20experi%20_number%20click%20_number%20login%20button%20say%20continu%20pay HTTP/1.1\" 200 -\n"
     ]
    },
    {
     "name": "stdout",
     "output_type": "stream",
     "text": [
      "predict=array([[0.14493534, 0.85506466]])\n"
     ]
    },
    {
     "name": "stderr",
     "output_type": "stream",
     "text": [
      "127.0.0.1 - - [10/Mar/2024 13:41:37] \"GET /predict?title=extend%20return%20error%20none%20node%20driver%20onlin&body=bug%20report%20featur%20request%20bug%20report%20happen%20storag%20driver%20instal%20subset%20node%20subset%20node%20heavili%20load%20schedul%20send%20node%20driver%20instal%20extend%20return%20node%20case%20expect%20happen%20extend%20return%20error%20schedul%20tri%20schedul%20pod%20node%20without%20driver%20reproduc%20minim%20precis%20possibl%20_number%20instal%20storag%20driver%20node%20n1%20n2%20n3%20_number%20tri%20schedul%20pod%20n4%20_number%20pod%20get%20schedul%20n4%20abl%20mount%20pvc HTTP/1.1\" 200 -\n"
     ]
    },
    {
     "name": "stdout",
     "output_type": "stream",
     "text": [
      "predict=array([[0.06854471, 0.93145529]])\n"
     ]
    },
    {
     "name": "stderr",
     "output_type": "stream",
     "text": [
      "127.0.0.1 - - [10/Mar/2024 13:41:38] \"GET /predict?title=debian%20chroot%20packag%20instal%20i386%20_term_with_underscor%20bromolow&body=hi%20fresh%20instal%20debian%20chroot%20ds3615x%20run%20dsm%20_number._term_with_dash%20updat%20_number%20unfortun%20packag%20version%20_number._term_with_dash%20instal%20debian%20i386%20_term_with_underscor%20root%20sundalon%20/_path_path/_term_with_dash_term_with_dash%20start%20start%20debian%20chroot%20...%20root%20sundalon%20/_path_path/_term_with_dash_term_with_dash%20statu%20debian%20chroot%20run%20root%20sundalon%20/_path_path/_term_with_dash_term_with_dash%20chroot%20bash%20warn%20setlocal%20_term_with_underscor%20chang%20local%20_term_with_underscore.utf8%20root%20sundalon%20unam%20-a%20linux%20sundalon%20_number._numb%20_number%20smp%20tue%20feb%20_number%20_number%20_number%20_number%20cet%20_number%20_term_with_underscor%20_path%20root%20sundalon%20dpkg%20--%20_term_with_dash%20i386%20miss%20cheer%20sundalon%20_term_with_dash%20--%20want%20back%20issu%20post%20bounti%20_weburl%20_term_with_underscor%20plugin%20_term_with_underscor%20tracker%202f282943%20_term_with_underscor%20issu%20_term_with_underscor%20github%20accept%20bounti%20via%20bountysourc%20_weburl%20_term_with_underscor%20plugin%20_term_with_underscor%20tracker%202f282943%20_term_with_underscor%20issu%20_term_with_underscor%20github%20/_term_with_dash HTTP/1.1\" 200 -\n"
     ]
    },
    {
     "name": "stdout",
     "output_type": "stream",
     "text": [
      "predict=array([[0.42197286, 0.57802714]])\n"
     ]
    },
    {
     "name": "stderr",
     "output_type": "stream",
     "text": [
      "127.0.0.1 - - [10/Mar/2024 13:41:38] \"GET /predict?title=creat%20project%20test&body=set%20new%20project%20vs%20write%20unit%20test%20infer%20rule HTTP/1.1\" 200 -\n"
     ]
    },
    {
     "name": "stdout",
     "output_type": "stream",
     "text": [
      "predict=array([[0.58492986, 0.41507014]])\n"
     ]
    },
    {
     "name": "stderr",
     "output_type": "stream",
     "text": [
      "127.0.0.1 - - [10/Mar/2024 13:41:38] \"GET /predict?title=_very_long_term%20seem%20work%20correctli%20word%20like%20_term_with_dash&body=tri%20get%20current%20word%20cursor%20default%20option%20_very_long_term%20afaik%20enabl%20match%20word%20_term_with_dash%20separ%20current%20regex%20seem%20misconfigur%20match%20word%20correctli%20current%20code%20coffe%20wordregexp%20_very_long_term%20_very_long_term%20true%20_very_long_term%20atom.config.get%20editor._very_long_term%20segment%20segments.push%20_.escaperegexp%20_very_long_term%20_very_long_term%20segments.push%20_.escaperegexp%20_very_long_term%20new%20regexp%20segments.join%20correct%20code%20coffe%20wordregexp%20_very_long_term%20_very_long_term%20true%20_very_long_term%20atom.config.get%20editor._very_long_term%20segment%20_very_long_term%20segments.push%20_.escaperegexp%20_very_long_term%20segments.push%20els%20segments.push%20_.escaperegexp%20_very_long_term%20new%20regexp%20segments.join HTTP/1.1\" 200 -\n"
     ]
    },
    {
     "name": "stdout",
     "output_type": "stream",
     "text": [
      "predict=array([[0.3457395, 0.6542605]])\n"
     ]
    },
    {
     "name": "stderr",
     "output_type": "stream",
     "text": [
      "127.0.0.1 - - [10/Mar/2024 13:41:38] \"GET /predict?title=axiom%20librari%20work%20_path%20phonegap&body=build%20mobil%20app%20use%20phonegap%20debug%20browser%20app%20work%20fine%20use%20axiom%20load%20data%20json%20file%20io%20simul%20work%20throw%20error%20use%20redux%20_term_with_dash%20also%20troubl%20seem%20debug%20step%20code%20see%20error%20thrown%20idea%20suggest%20track%20code%20export%20function%20fetchremot%20return%20function%20dispatch%20//%20get%20translat%20http%20//localhost%20_number/%20console.log%20fetch%20json%20axios.get%20_path.json%20.then%20respons%20console.log%20success%20fetch%20json%20dispatch%20type%20_term_with_underscor%20payload%20response.data%20.catch%20err%20console.log%20err%20dispatch%20type%20_term_with_underscor%20payload%20err HTTP/1.1\" 200 -\n"
     ]
    },
    {
     "name": "stdout",
     "output_type": "stream",
     "text": [
      "predict=array([[0.34862896, 0.65137104]])\n"
     ]
    },
    {
     "name": "stderr",
     "output_type": "stream",
     "text": [
      "127.0.0.1 - - [10/Mar/2024 13:41:39] \"GET /predict?title=websocket%20error%20consol%20log%20run%20product%20environ&body=run%20product%20environ%20follow%20appear%20consol%20log%20_very_long_term.j%20_term_with_underscor%20true%20_number%20websocket%20connect%20wss%20//itmi.kheops._path_path/websocket%20fail%20error%20websocket%20handshak%20unexpect%20respons%20code%20_number%20_term_with_dash%20howev HTTP/1.1\" 200 -\n"
     ]
    },
    {
     "name": "stdout",
     "output_type": "stream",
     "text": [
      "predict=array([[0.12635985, 0.87364015]])\n"
     ]
    },
    {
     "name": "stderr",
     "output_type": "stream",
     "text": [
      "127.0.0.1 - - [10/Mar/2024 13:41:39] \"GET /predict?title=_term_with_underscor%20function%20declar%20twice%20_term_with_underscore.pi&body=describ%20bug%20_term_with_underscor%20function%20declar%20twice%20_term_with_underscore.pi%20reproduc%20find%20_number%20_number%20expect%20behavior%20one%20_number%20stay%20remov%20one%20_number%20screenshot%20desktop%20pleas%20complet%20follow%20inform%20version%20_number%20addit%20context HTTP/1.1\" 200 -\n"
     ]
    },
    {
     "name": "stdout",
     "output_type": "stream",
     "text": [
      "predict=array([[0.0266087, 0.9733913]])\n"
     ]
    },
    {
     "name": "stderr",
     "output_type": "stream",
     "text": [
      "127.0.0.1 - - [10/Mar/2024 13:41:39] \"GET /predict?title=hamcrest%20matcher%20verifi%20header&body=take%20hamcrest%20matcher%20verifi%20header%20think%20request%20respons%20header%20need%20verifi%20someth%20like%20public%20final%20class%20hmrqheader%20extend%20_very_long_term%20request%20public%20hmrqheader%20final%20matcher%20extend%20entri%20string%20string%20mtchr%20public%20final%20class%20hmrsheader%20extend%20_very_long_term%20respons%20public%20hmrsheader%20final%20matcher%20extend%20entri%20string%20string%20mtchr%20hr%20id%20_term_with_dash%20_number%20dragan%20bozanov%20_term_with_dash%20_number%20dragan%20bozanov HTTP/1.1\" 200 -\n"
     ]
    },
    {
     "name": "stdout",
     "output_type": "stream",
     "text": [
      "predict=array([[0.60286094, 0.39713906]])\n"
     ]
    },
    {
     "name": "stderr",
     "output_type": "stream",
     "text": [
      "127.0.0.1 - - [10/Mar/2024 13:41:40] \"GET /predict?title=-o3%20optim%20caus%20incorrect%20result%20osx%20clang%20_term_with_underscor&body=turn%20optim%20fix%20problem%20code%20initi%20special%20_term_with_underscor%20variabl%20vseglenxgap%20use%20nw%20scan%20optim%20caus%20blendv%20oper%20somehow%20blend%20part%20overal%20_term_with_underscor%20exampl%20_term_with_dash%20code%20reproduc%20confirm%20occur%20icc%20linux%20os%20occur%20osx%20bash%20gcc%20--%20version%20configur%20--%20prefix%20/_path._path_path%20--%20_term_with_dash_term_with_dash_term_with_dash%20/_path/c%20/_number._numb%20appl%20llvm%20version%20_number._numb%20_term_with_dash._numb%20target%20_term_with_dash_term_with_dash._numb%20thread%20model%20posix%20_term_with_underscor%20score%20_term_with_underscor%20const%20_term_with_underscor%20seglenxgap%20-seglen%20gap%20const%20_term_with_underscor%20_term_with_underscor%20_term_with_underscor%20_term_with_underscor%20_term_with_underscor%20_number%20_number%20_number%20_number%20_number%20_number%20_number%20_number%20_number%20_number%20_number%20_number%20_number%20_number%20_number%20_number%20const%20_term_with_underscor%20vseglenxgap1%20_term_with_underscor%20_term_with_dash%20gap%20const%20_term_with_underscor%20vseglenxgap%20_term_with_underscor%20vneginf%20_term_with_underscor%20seglenxgap%20_term_with_underscor HTTP/1.1\" 200 -\n"
     ]
    },
    {
     "name": "stdout",
     "output_type": "stream",
     "text": [
      "predict=array([[0.05783008, 0.94216992]])\n"
     ]
    },
    {
     "name": "stderr",
     "output_type": "stream",
     "text": [
      "127.0.0.1 - - [10/Mar/2024 13:41:40] \"GET /predict?title=stat%20return%20bow%20beam%20rifl%20_path%20weapon%20stat&body=investig%20_number%20notic%20return%20bow%20beam%20_term_with_dash%20weapon%20stat%20return%20weapon%20type%20see%20get%20ad%20_path%20hotfix%20well HTTP/1.1\" 200 -\n"
     ]
    },
    {
     "name": "stdout",
     "output_type": "stream",
     "text": [
      "predict=array([[0.32241343, 0.67758657]])\n"
     ]
    },
    {
     "name": "stderr",
     "output_type": "stream",
     "text": [
      "127.0.0.1 - - [10/Mar/2024 13:41:40] \"GET /predict?title=send%20url%20past%20input&body=imag%20_weburl%20send%20ctrl%20anywher HTTP/1.1\" 200 -\n"
     ]
    },
    {
     "name": "stdout",
     "output_type": "stream",
     "text": [
      "predict=array([[0.49304734, 0.50695266]])\n"
     ]
    },
    {
     "name": "stderr",
     "output_type": "stream",
     "text": [
      "127.0.0.1 - - [10/Mar/2024 13:41:40] \"GET /predict?title=featur%20request%20add%20support%20java%20server&body=--%20issu%20label%20necessari%20help%20organ%20issu%20label%20issu%20open%20add%20label%20automat%20simpli%20mark%20appropri%20box%20_term_with_dash%20featur%20doc%20block%20good%20first%20issu%20add%20label%20list%20simpli%20place%20/label%20_term_with_dash_term_with_dash%20line%20--%20hi%20build%20server%20app%20need%20consum%20graphql%20api%20anoth%20server%20would%20awesom%20use%20librari%20main%20issu%20current%20use%20librari%20server%20_number%20import%20latest%20runtim%20lib%20work%20android%20studio%20_term_with_dash%20project%20_number%20gener%20class%20work%20reason%20thank HTTP/1.1\" 200 -\n"
     ]
    },
    {
     "name": "stdout",
     "output_type": "stream",
     "text": [
      "predict=array([[0.94643481, 0.05356519]])\n"
     ]
    },
    {
     "name": "stderr",
     "output_type": "stream",
     "text": [
      "127.0.0.1 - - [10/Mar/2024 13:41:41] \"GET /predict?title=fallback%20call%20user%20authent%20fail%20ldap&body=laravel%20version%20_number%20_term_with_dash%20version%20_number._numb%20php%20version%20_number%20descript%20notic%20user%20fail%20login%20ldap%20e.g%20password%20wrong%20user%20_term_with_dash%20system%20use%20fallback%20authent%20correct%20behaviour%20call%20fallback%20find%20user%20ldap%20user%20exist%20ldap%20authent%20fail%20revert%20fallback%20seem%20two%20problem%20relat%20fallback%20_number%20user%20whose%20password%20reset%20still%20login%20use%20old%20password%20ldap%20authent%20fail%20system%20resort%20databas%20still%20old%20password%20_number%20system%20never%20updat%20databas%20record%20new%20password%20model%20get%20written%20databas%20ldap%20authent%20success%20authent%20fail%20model%20never%20save%20databas%20keep%20old%20password%20chang%20user%20success%20log%20ldap%20might%20_term_with_dash%20purpos%20fallback%20seem%20wrong%20notic%20report%20peopl%20still%20abl%20login%20old%20password%20suspect%20caus%20problem%20ldap%20cach%20password%20databas%20still%20store%20old%20password%20step%20reproduc%20_number%20creat%20user%20ldap%20_number%20login%20success%20databas%20record%20creat%20user%20_number%20chang%20password%20ldap%20_number%20user%20still%20login%20old%20password%20old%20password%20remain%20databas%20user%20log%20new%20password%20note%20cach%20problem%20_number%20user%20log%20new%20password%20databas%20updat%20new%20password%20user%20longer%20use%20old%20password%20possibl%20fix%20think%20problem%20_very_long_term%20_very_long_term%20method%20comment%20remov%20public%20function%20_very_long_term%20_very_long_term%20model%20array%20credenti%20this-%20user%20instanceof%20user%20this-%20getresolv%20authent%20this-%20user%20credenti%20this-%20_very_long_term%20this-%20user%20model%20this-%20newvalid%20this-%20getrul%20this-%20user%20model%20pass%20this-%20_very_long_term%20password%20credenti%20password%20els%20password%20_term_with_underscor%20model-%20password%20model-%20hassetmut%20password%20password%20bcrypt%20password%20model-%20save%20this-%20_very_long_term%20model%20model-%20setldapus%20this-%20user%20return%20true%20this-%20isfallingback%20model-%20exist%20return%20this-%20fallback-%20_very_long_term%20model%20credenti%20return%20fals%20problem%20seem%20first%20statement%20this-%20user%20instanceof%20user%20this-%20getresolv%20authent%20this-%20user%20credenti%20separ%20model%20alway%20save%20long%20exist%20regardless%20whether%20user%20authent%20databas%20updat%20correct%20credenti%20authent%20fail%20return%20fals%20revert%20fallback%20thought%20might%20work%20better%20public%20function%20_very_long_term%20_very_long_term%20model%20array%20credenti%20this-%20user%20instanceof%20user%20//%20user%20exist%20save%20updat%20data%20ldap%20model-%20save%20//%20authent%20user%20this-%20getresolv%20authent%20this-%20user%20credenti%20...%20//%20return%20fals%20authent%20fail%20return%20fals%20//%20user%20found%20ldap%20revert%20fallback%20this-%20isfallingback%20model-%20exist%20return%20this-%20fallback-%20_very_long_term%20model%20credenti%20return%20fals HTTP/1.1\" 200 -\n"
     ]
    },
    {
     "name": "stdout",
     "output_type": "stream",
     "text": [
      "predict=array([[0.09053044, 0.90946956]])\n"
     ]
    },
    {
     "name": "stderr",
     "output_type": "stream",
     "text": [
      "127.0.0.1 - - [10/Mar/2024 13:41:41] \"GET /predict?title=mgmt%20attribut%20releas%20polici%20option%20incorrectli%20shown&body=click%20add%20new%20servic%20brows%20attribut%20releas%20tab%20attribut%20releas%20polici%20section%20show%20_number%20polici%20default%20select%20seem%20polici%20imag%20_weburl%20option%20miss%20would%20return%20allow%20return%20deni%20etc%20_weburl%20also%20return%20return%20map%20etc%20anywher%20possibl%20select%20attribut%20user%20must%20option%20type%20anyth%20add%20anyth%20list HTTP/1.1\" 200 -\n"
     ]
    },
    {
     "name": "stdout",
     "output_type": "stream",
     "text": [
      "predict=array([[0.74109735, 0.25890265]])\n"
     ]
    },
    {
     "name": "stderr",
     "output_type": "stream",
     "text": [
      "127.0.0.1 - - [10/Mar/2024 13:41:41] \"GET /predict?title=quit%20pyfa%20use%20crest%20make%20app%20hang&body=log%20use%20crest%20quit%20app%20make%20app%20hang%20forc%20quit%20everi%20time%20log%20quit%20app%20hang%20even%20log%20quit%20app%20still%20hang%20maco%20_number._numb%20pyfa%20_number._numb HTTP/1.1\" 200 -\n"
     ]
    },
    {
     "name": "stdout",
     "output_type": "stream",
     "text": [
      "predict=array([[0.34233275, 0.65766725]])\n"
     ]
    },
    {
     "name": "stderr",
     "output_type": "stream",
     "text": [
      "127.0.0.1 - - [10/Mar/2024 13:41:41] \"GET /predict?title=filter%20restaur%20cuisin&body=user%20abl%20filter%20restaur%20price HTTP/1.1\" 200 -\n"
     ]
    },
    {
     "name": "stdout",
     "output_type": "stream",
     "text": [
      "predict=array([[0.67604929, 0.32395071]])\n"
     ]
    },
    {
     "name": "stderr",
     "output_type": "stream",
     "text": [
      "127.0.0.1 - - [10/Mar/2024 13:41:42] \"GET /predict?title=delet%20contact&body=contact%20tab%20way%20delet%20exist%20author%20data%20access%20contact%20especi%20evid%20accident%20click%20either%20add%20author%20add%20access%20contact%20go%20anoth%20tab%20return%20contact%20blank%20contact%20record%20cancel%20add%20button%20remov%20mayb%20instead%20singl%20cancel%20button%20put%20button%20contact%20remov%20record HTTP/1.1\" 200 -\n"
     ]
    },
    {
     "name": "stdout",
     "output_type": "stream",
     "text": [
      "predict=array([[0.86573917, 0.13426083]])\n"
     ]
    },
    {
     "name": "stderr",
     "output_type": "stream",
     "text": [
      "127.0.0.1 - - [10/Mar/2024 13:41:42] \"GET /predict?title=view%20edit%20web%20app%20set&body=extens%20shall%20allow%20user%20view%20edit%20web%20app%20set HTTP/1.1\" 200 -\n"
     ]
    },
    {
     "name": "stdout",
     "output_type": "stream",
     "text": [
      "predict=array([[0.61280796, 0.38719204]])\n"
     ]
    },
    {
     "name": "stderr",
     "output_type": "stream",
     "text": [
      "127.0.0.1 - - [10/Mar/2024 13:41:42] \"GET /predict?title=quicklinkblock%20model%20rendor%20html%20href%20...&body=_term_with_underscor%20block%20render%20_path%20pair HTTP/1.1\" 200 -\n"
     ]
    },
    {
     "name": "stdout",
     "output_type": "stream",
     "text": [
      "predict=array([[0.54774004, 0.45225996]])\n"
     ]
    },
    {
     "name": "stderr",
     "output_type": "stream",
     "text": [
      "127.0.0.1 - - [10/Mar/2024 13:41:43] \"GET /predict?title=display%20_number%20ilvl%20item&body=hi%20use%20_number._term_with_dash%20version%20bagnon%20itemlevel%20_number._numb%20bagnon%20main%20ui%20use%20elvui%20_number%20look%20item%20show%20_number%20clearli%20correct%20_term_with_underscor%20_weburl%20sometim%20display%20correct%20recreat%20work%20thought%20would%20appreci%20thank HTTP/1.1\" 200 -\n"
     ]
    },
    {
     "name": "stdout",
     "output_type": "stream",
     "text": [
      "predict=array([[0.30856783, 0.69143217]])\n"
     ]
    },
    {
     "name": "stderr",
     "output_type": "stream",
     "text": [
      "127.0.0.1 - - [10/Mar/2024 13:41:43] \"GET /predict?title=default%20read%20correctli&body=x.hh.add%20_path%20gbar%201e3%20x.hh.add%20_path%20gbar%20_number%20nav%20read%20default%20kd%20wtf HTTP/1.1\" 200 -\n"
     ]
    },
    {
     "name": "stdout",
     "output_type": "stream",
     "text": [
      "predict=array([[0.70285895, 0.29714105]])\n"
     ]
    },
    {
     "name": "stderr",
     "output_type": "stream",
     "text": [
      "127.0.0.1 - - [10/Mar/2024 13:41:43] \"GET /predict?title=import%20relat%20rule%20refactor&body=current%20rule%20configur%20caus%20mani%20style%20base%20warn%20regard%20import%20order%20sort%20import%20order%20conflict%20_path%20_path%20_path%20_path%20rule%20conflict%20_path%20disallow%20js%20import%20..%20/config%20import%20fs%20fs%20//%20--%20error%20absolut%20import%20come%20rel%20import%20import%20app%20..%20/app%20hand%20_path%20fine%20mention%20rule%20document%20unassign%20import%20ignor%20order%20import%20may%20import%20improv%20allow%20unassign%20import%20anywher%20still%20_term_with_dash%20statement%20also%20import%20group%20specifi%20accur%20split%20three%20main%20group%20import%20sort%20conflict%20_term_with_dash%20_term_with_dash%20rule%20conflict%20mention%20rule%20import%20import%20sort%20within%20group%20rule%20disabl%20way%20make%20work%20regard%20compat%20rule%20_path%20_weburl%20_path%20_weburl%20_term_with_dash%20_weburl HTTP/1.1\" 200 -\n"
     ]
    },
    {
     "name": "stdout",
     "output_type": "stream",
     "text": [
      "predict=array([[0.62824037, 0.37175963]])\n"
     ]
    },
    {
     "name": "stderr",
     "output_type": "stream",
     "text": [
      "127.0.0.1 - - [10/Mar/2024 13:41:43] \"GET /predict?title=temporari%20shapefil%20store%20locat&body=present%20_term_with_dash%20temporari%20shapefil%20store%20_term_with_dash%20/_path/%20find%20better%20place%20e.g%20/download%20avail%20disk%20space%20_path%20look%20manag%20map%20huge%20file%20creat%208gb HTTP/1.1\" 200 -\n"
     ]
    },
    {
     "name": "stdout",
     "output_type": "stream",
     "text": [
      "predict=array([[0.62405651, 0.37594349]])\n"
     ]
    },
    {
     "name": "stderr",
     "output_type": "stream",
     "text": [
      "127.0.0.1 - - [10/Mar/2024 13:41:44] \"GET /predict?title=dogsonwalk%20alpha%20workout%20summari&body=collect%20view%20workout%20summari%20fade%20due%20alpha%20chang%20_number%20alpha HTTP/1.1\" 200 -\n"
     ]
    },
    {
     "name": "stdout",
     "output_type": "stream",
     "text": [
      "predict=array([[0.38617596, 0.61382404]])\n"
     ]
    },
    {
     "name": "stderr",
     "output_type": "stream",
     "text": [
      "127.0.0.1 - - [10/Mar/2024 13:41:44] \"GET /predict?title=_term_with_dash%20see%20devic%20unless%20chang%20udev%20rule&body=instal%20udev%20rule%20file%20anoth%20project%20/_path/rules.d/%20_weburl%20_term_with_dash%20could%20see%20eleaf%20aster%20thank HTTP/1.1\" 200 -\n"
     ]
    },
    {
     "name": "stdout",
     "output_type": "stream",
     "text": [
      "predict=array([[0.42700604, 0.57299396]])\n"
     ]
    },
    {
     "name": "stderr",
     "output_type": "stream",
     "text": [
      "127.0.0.1 - - [10/Mar/2024 13:42:21] \"GET /predict?title=implement%20new%20styleguid&body=new%20styleguid%20found%20_weburl%20one%20creat%20account%20also%20possibl%20copi%20css%20stuff%20good%20luck HTTP/1.1\" 200 -\n"
     ]
    },
    {
     "name": "stdout",
     "output_type": "stream",
     "text": [
      "predict=array([[0.92861345, 0.07138655]])\n"
     ]
    },
    {
     "name": "stderr",
     "output_type": "stream",
     "text": [
      "127.0.0.1 - - [10/Mar/2024 13:42:21] \"GET /predict?title=add%20_very_long_term%20gift%20event&body=new%20gifte%20creat HTTP/1.1\" 200 -\n"
     ]
    },
    {
     "name": "stdout",
     "output_type": "stream",
     "text": [
      "predict=array([[0.8957689, 0.1042311]])\n"
     ]
    },
    {
     "name": "stderr",
     "output_type": "stream",
     "text": [
      "127.0.0.1 - - [10/Mar/2024 13:42:39] \"GET /predict?title=implement%20new%20styleguid&body=new%20styleguid%20found%20_weburl%20one%20creat%20account%20also%20possibl%20copi%20css%20stuff%20good%20luck HTTP/1.1\" 200 -\n"
     ]
    },
    {
     "name": "stdout",
     "output_type": "stream",
     "text": [
      "predict=array([[0.92861345, 0.07138655]])\n"
     ]
    },
    {
     "name": "stderr",
     "output_type": "stream",
     "text": [
      "127.0.0.1 - - [10/Mar/2024 13:42:39] \"GET /predict?title=add%20_very_long_term%20gift%20event&body=new%20gifte%20creat HTTP/1.1\" 200 -\n"
     ]
    },
    {
     "name": "stdout",
     "output_type": "stream",
     "text": [
      "predict=array([[0.8957689, 0.1042311]])\n"
     ]
    },
    {
     "name": "stderr",
     "output_type": "stream",
     "text": [
      "127.0.0.1 - - [10/Mar/2024 13:42:43] \"GET /predict?title=implement%20new%20styleguid&body=new%20styleguid%20found%20_weburl%20one%20creat%20account%20also%20possibl%20copi%20css%20stuff%20good%20luck HTTP/1.1\" 200 -\n"
     ]
    },
    {
     "name": "stdout",
     "output_type": "stream",
     "text": [
      "predict=array([[0.92861345, 0.07138655]])\n"
     ]
    },
    {
     "name": "stderr",
     "output_type": "stream",
     "text": [
      "127.0.0.1 - - [10/Mar/2024 13:42:43] \"GET /predict?title=add%20_very_long_term%20gift%20event&body=new%20gifte%20creat HTTP/1.1\" 200 -\n"
     ]
    },
    {
     "name": "stdout",
     "output_type": "stream",
     "text": [
      "predict=array([[0.8957689, 0.1042311]])\n"
     ]
    },
    {
     "name": "stderr",
     "output_type": "stream",
     "text": [
      "127.0.0.1 - - [10/Mar/2024 13:43:13] \"GET /predict?title=implement%20new%20styleguid&body=new%20styleguid%20found%20_weburl%20one%20creat%20account%20also%20possibl%20copi%20css%20stuff%20good%20luck HTTP/1.1\" 200 -\n"
     ]
    },
    {
     "name": "stdout",
     "output_type": "stream",
     "text": [
      "predict=array([[0.92861345, 0.07138655]])\n"
     ]
    },
    {
     "name": "stderr",
     "output_type": "stream",
     "text": [
      "127.0.0.1 - - [10/Mar/2024 13:43:13] \"GET /predict?title=add%20_very_long_term%20gift%20event&body=new%20gifte%20creat HTTP/1.1\" 200 -\n"
     ]
    },
    {
     "name": "stdout",
     "output_type": "stream",
     "text": [
      "predict=array([[0.8957689, 0.1042311]])\n"
     ]
    },
    {
     "name": "stderr",
     "output_type": "stream",
     "text": [
      "127.0.0.1 - - [10/Mar/2024 13:43:40] \"GET /predict?title=implement%20new%20styleguid&body=new%20styleguid%20found%20_weburl%20one%20creat%20account%20also%20possibl%20copi%20css%20stuff%20good%20luck HTTP/1.1\" 200 -\n"
     ]
    },
    {
     "name": "stdout",
     "output_type": "stream",
     "text": [
      "predict=array([[0.92861345, 0.07138655]])\n"
     ]
    },
    {
     "name": "stderr",
     "output_type": "stream",
     "text": [
      "127.0.0.1 - - [10/Mar/2024 13:43:41] \"GET /predict?title=add%20_very_long_term%20gift%20event&body=new%20gifte%20creat HTTP/1.1\" 200 -\n"
     ]
    },
    {
     "name": "stdout",
     "output_type": "stream",
     "text": [
      "predict=array([[0.8957689, 0.1042311]])\n"
     ]
    },
    {
     "name": "stderr",
     "output_type": "stream",
     "text": [
      "127.0.0.1 - - [10/Mar/2024 13:43:49] \"GET /predict?title=implement%20new%20styleguid&body=new%20styleguid%20found%20_weburl%20one%20creat%20account%20also%20possibl%20copi%20css%20stuff%20good%20luck HTTP/1.1\" 200 -\n"
     ]
    },
    {
     "name": "stdout",
     "output_type": "stream",
     "text": [
      "predict=array([[0.92861345, 0.07138655]])\n"
     ]
    },
    {
     "name": "stderr",
     "output_type": "stream",
     "text": [
      "127.0.0.1 - - [10/Mar/2024 13:43:50] \"GET /predict?title=add%20_very_long_term%20gift%20event&body=new%20gifte%20creat HTTP/1.1\" 200 -\n"
     ]
    },
    {
     "name": "stdout",
     "output_type": "stream",
     "text": [
      "predict=array([[0.8957689, 0.1042311]])\n"
     ]
    },
    {
     "name": "stderr",
     "output_type": "stream",
     "text": [
      "127.0.0.1 - - [10/Mar/2024 13:44:15] \"GET /predict?title=implement%20new%20styleguid&body=new%20styleguid%20found%20_weburl%20one%20creat%20account%20also%20possibl%20copi%20css%20stuff%20good%20luck HTTP/1.1\" 200 -\n"
     ]
    },
    {
     "name": "stdout",
     "output_type": "stream",
     "text": [
      "predict=array([[0.92861345, 0.07138655]])\n"
     ]
    },
    {
     "name": "stderr",
     "output_type": "stream",
     "text": [
      "127.0.0.1 - - [10/Mar/2024 13:44:15] \"GET /predict?title=add%20_very_long_term%20gift%20event&body=new%20gifte%20creat HTTP/1.1\" 200 -\n"
     ]
    },
    {
     "name": "stdout",
     "output_type": "stream",
     "text": [
      "predict=array([[0.8957689, 0.1042311]])\n"
     ]
    },
    {
     "name": "stderr",
     "output_type": "stream",
     "text": [
      "127.0.0.1 - - [10/Mar/2024 13:44:22] \"GET /predict?title=implement%20new%20styleguid&body=new%20styleguid%20found%20_weburl%20one%20creat%20account%20also%20possibl%20copi%20css%20stuff%20good%20luck HTTP/1.1\" 200 -\n"
     ]
    },
    {
     "name": "stdout",
     "output_type": "stream",
     "text": [
      "predict=array([[0.92861345, 0.07138655]])\n"
     ]
    },
    {
     "name": "stderr",
     "output_type": "stream",
     "text": [
      "127.0.0.1 - - [10/Mar/2024 13:44:22] \"GET /predict?title=add%20_very_long_term%20gift%20event&body=new%20gifte%20creat HTTP/1.1\" 200 -\n"
     ]
    },
    {
     "name": "stdout",
     "output_type": "stream",
     "text": [
      "predict=array([[0.8957689, 0.1042311]])\n"
     ]
    },
    {
     "name": "stderr",
     "output_type": "stream",
     "text": [
      "127.0.0.1 - - [10/Mar/2024 13:44:32] \"GET /predict?title=implement%20new%20styleguid&body=new%20styleguid%20found%20_weburl%20one%20creat%20account%20also%20possibl%20copi%20css%20stuff%20good%20luck HTTP/1.1\" 200 -\n"
     ]
    },
    {
     "name": "stdout",
     "output_type": "stream",
     "text": [
      "predict=array([[0.92861345, 0.07138655]])\n"
     ]
    },
    {
     "name": "stderr",
     "output_type": "stream",
     "text": [
      "127.0.0.1 - - [10/Mar/2024 13:44:32] \"GET /predict?title=add%20_very_long_term%20gift%20event&body=new%20gifte%20creat HTTP/1.1\" 200 -\n"
     ]
    },
    {
     "name": "stdout",
     "output_type": "stream",
     "text": [
      "predict=array([[0.8957689, 0.1042311]])\n"
     ]
    },
    {
     "name": "stderr",
     "output_type": "stream",
     "text": [
      "127.0.0.1 - - [10/Mar/2024 13:45:07] \"GET /predict?title=implement%20new%20styleguid&body=new%20styleguid%20found%20_weburl%20one%20creat%20account%20also%20possibl%20copi%20css%20stuff%20good%20luck HTTP/1.1\" 200 -\n"
     ]
    },
    {
     "name": "stdout",
     "output_type": "stream",
     "text": [
      "predict=array([[0.92861345, 0.07138655]])\n"
     ]
    },
    {
     "name": "stderr",
     "output_type": "stream",
     "text": [
      "127.0.0.1 - - [10/Mar/2024 13:45:07] \"GET /predict?title=add%20_very_long_term%20gift%20event&body=new%20gifte%20creat HTTP/1.1\" 200 -\n"
     ]
    },
    {
     "name": "stdout",
     "output_type": "stream",
     "text": [
      "predict=array([[0.8957689, 0.1042311]])\n"
     ]
    },
    {
     "name": "stderr",
     "output_type": "stream",
     "text": [
      "127.0.0.1 - - [10/Mar/2024 13:45:10] \"GET /predict?title=implement%20new%20styleguid&body=new%20styleguid%20found%20_weburl%20one%20creat%20account%20also%20possibl%20copi%20css%20stuff%20good%20luck HTTP/1.1\" 200 -\n"
     ]
    },
    {
     "name": "stdout",
     "output_type": "stream",
     "text": [
      "predict=array([[0.92861345, 0.07138655]])\n"
     ]
    },
    {
     "name": "stderr",
     "output_type": "stream",
     "text": [
      "127.0.0.1 - - [10/Mar/2024 13:45:11] \"GET /predict?title=add%20_very_long_term%20gift%20event&body=new%20gifte%20creat HTTP/1.1\" 200 -\n"
     ]
    },
    {
     "name": "stdout",
     "output_type": "stream",
     "text": [
      "predict=array([[0.8957689, 0.1042311]])\n"
     ]
    },
    {
     "name": "stderr",
     "output_type": "stream",
     "text": [
      "127.0.0.1 - - [10/Mar/2024 13:48:36] \"GET /predict?title=implement%20new%20styleguid&body=new%20styleguid%20found%20_weburl%20one%20creat%20account%20also%20possibl%20copi%20css%20stuff%20good%20luck HTTP/1.1\" 200 -\n"
     ]
    },
    {
     "name": "stdout",
     "output_type": "stream",
     "text": [
      "predict=array([[0.92861345, 0.07138655]])\n"
     ]
    },
    {
     "name": "stderr",
     "output_type": "stream",
     "text": [
      "127.0.0.1 - - [10/Mar/2024 13:48:36] \"GET /predict?title=add%20_very_long_term%20gift%20event&body=new%20gifte%20creat HTTP/1.1\" 200 -\n"
     ]
    },
    {
     "name": "stdout",
     "output_type": "stream",
     "text": [
      "predict=array([[0.8957689, 0.1042311]])\n"
     ]
    },
    {
     "name": "stderr",
     "output_type": "stream",
     "text": [
      "127.0.0.1 - - [10/Mar/2024 13:49:06] \"GET /predict?title=implement%20new%20styleguid&body=new%20styleguid%20found%20_weburl%20one%20creat%20account%20also%20possibl%20copi%20css%20stuff%20good%20luck HTTP/1.1\" 200 -\n"
     ]
    },
    {
     "name": "stdout",
     "output_type": "stream",
     "text": [
      "predict=array([[0.92861345, 0.07138655]])\n"
     ]
    },
    {
     "name": "stderr",
     "output_type": "stream",
     "text": [
      "127.0.0.1 - - [10/Mar/2024 13:49:06] \"GET /predict?title=add%20_very_long_term%20gift%20event&body=new%20gifte%20creat HTTP/1.1\" 200 -\n"
     ]
    },
    {
     "name": "stdout",
     "output_type": "stream",
     "text": [
      "predict=array([[0.8957689, 0.1042311]])\n"
     ]
    },
    {
     "name": "stderr",
     "output_type": "stream",
     "text": [
      "127.0.0.1 - - [10/Mar/2024 13:49:07] \"GET /predict?title=nativ%20proxi%20enabl%20use%20node%20--%20_term_with_dash%20enabl&body=environ%20instal%20apk%20_term_with_dash.apk%20_term_with_underscor%20avd%20_number._numb%20app%20debug%20instal%20_number%20devic%20build%20success%20total%20time%20_number%20min%20_number._non_decimal_numb%20sec%20build%20could%20faster%20pleas%20consid%20use%20gradl%20daemon%20_weburl%20/_path%20adb%20command%20found%20step%20reproduc%20packag%20json%20_weburl%20expect%20behavior%20run%20app%20usual%20actual%20behavior%20run%20app%20android%20get%20error%20android%20simul%20android%20studio%20_weburl HTTP/1.1\" 200 -\n"
     ]
    },
    {
     "name": "stdout",
     "output_type": "stream",
     "text": [
      "predict=array([[0.21622459, 0.78377541]])\n"
     ]
    },
    {
     "name": "stderr",
     "output_type": "stream",
     "text": [
      "127.0.0.1 - - [10/Mar/2024 13:49:07] \"GET /predict?title=report%20invalid%20version&body=modul%20version%20meta%20file%20report%20meta%20error%20per%20_weburl%20_term_with_underscor%20eveo%20twell%20use%20version%20number%20timtoadi%20tthat%20realli%20valid%20version%20number%20valid%20version%20number%20matcher%20timtoadi%20twildcard%20part%20ident%20modul%20use%20depend%20check HTTP/1.1\" 200 -\n"
     ]
    },
    {
     "name": "stdout",
     "output_type": "stream",
     "text": [
      "predict=array([[0.14739268, 0.85260732]])\n"
     ]
    },
    {
     "name": "stderr",
     "output_type": "stream",
     "text": [
      "127.0.0.1 - - [10/Mar/2024 13:49:07] \"GET /predict?title=code%20coverag%20report%20ui&body=would%20help%20develop%20could%20see%20test%20coverag%20report%20ui%20helper%20determin%20part%20code%20test%20new%20command%20sfdx%20show%20test%20coverag%20could%20ad%20follow%20_number%20ran%20test%20coverag%20report%20show%20result%20termin%20_number%20ad%20coverag%20indic%20editor%20gutter%20shown%20exampl%20imag%20_weburl HTTP/1.1\" 200 -\n"
     ]
    },
    {
     "name": "stdout",
     "output_type": "stream",
     "text": [
      "predict=array([[0.49170917, 0.50829083]])\n"
     ]
    },
    {
     "name": "stderr",
     "output_type": "stream",
     "text": [
      "127.0.0.1 - - [10/Mar/2024 13:49:07] \"GET /predict?title=endless%20hang%20get%20job%20detail&body=seem%20happen%20job%20_term_with_dash%20mayb%20render%20ws%20messag%20imag%20_weburl%20follow%20log%20request%20identifi%20_number%20_number%20_number%20actual%20sent%20sever%20minut%20log%20entri%20suggest%20someth%20block%20handl%20request HTTP/1.1\" 200 -\n"
     ]
    },
    {
     "name": "stdout",
     "output_type": "stream",
     "text": [
      "predict=array([[0.30271419, 0.69728581]])\n"
     ]
    },
    {
     "name": "stderr",
     "output_type": "stream",
     "text": [
      "127.0.0.1 - - [10/Mar/2024 13:49:08] \"GET /predict?title=reset%20graph%20data%20updat%20handl&body=present%20remov%20contest%20rate%20graph%20data%20need%20delet%20data%20updat%20handl HTTP/1.1\" 200 -\n"
     ]
    },
    {
     "name": "stdout",
     "output_type": "stream",
     "text": [
      "predict=array([[0.48363468, 0.51636532]])\n"
     ]
    },
    {
     "name": "stderr",
     "output_type": "stream",
     "text": [
      "127.0.0.1 - - [10/Mar/2024 13:49:08] \"GET /predict?title=exist%20signal%20metadata%20file%20format&body=issu%20dedic%20referenc%20alreadi%20exist%20metadata%20file%20format%20desir%20featur%20_term_with_dash%20provid%20convert%20format%20sigmf%20attempt%20ensur%20compat%20exist%20dataset HTTP/1.1\" 200 -\n"
     ]
    },
    {
     "name": "stdout",
     "output_type": "stream",
     "text": [
      "predict=array([[0.74178837, 0.25821163]])\n"
     ]
    },
    {
     "name": "stderr",
     "output_type": "stream",
     "text": [
      "127.0.0.1 - - [10/Mar/2024 13:49:08] \"GET /predict?title=treemenu%20indic%20expand%20beyond%20scroll%20view&body=_number%20go%20_weburl%20_number%20open%20treemenu%20_number%20go%20last%20menu%20option%20_number%20click%20_number%20see%20see%20menu%20open%20scrollbar%20chang%20expect%20mayb%20treemenu%20automat%20scroll%20show%20new%20indic%20open%20gif%20_weburl HTTP/1.1\" 200 -\n"
     ]
    },
    {
     "name": "stdout",
     "output_type": "stream",
     "text": [
      "predict=array([[0.63242771, 0.36757229]])\n"
     ]
    },
    {
     "name": "stderr",
     "output_type": "stream",
     "text": [
      "127.0.0.1 - - [10/Mar/2024 13:49:08] \"GET /predict?title=download%20modal%20warn%20larg%20download&body=download%20give%20warn%20gener%20file%20take%20certain%20amount%20time%20_number%20previou%20releas HTTP/1.1\" 200 -\n"
     ]
    },
    {
     "name": "stdout",
     "output_type": "stream",
     "text": [
      "predict=array([[0.47907689, 0.52092311]])\n"
     ]
    },
    {
     "name": "stderr",
     "output_type": "stream",
     "text": [
      "127.0.0.1 - - [10/Mar/2024 13:49:09] \"GET /predict?title=renderdoc%20assert%20captur%20cinder%20vulkan%20normalmap%20sampl&body=t//%20might%20work%20e.g%20debug%20manag%20creation%20command%20buffer%20t//%20queue%20devic%20destroy%20immedi%20case%20t//%20skip%20submit%20tif%20_term_with_underscor%20_term_with_underscor%20tvkresult%20vkr%20objdisp%20_term_with_underscor%20queuesubmit%20unwrap%20_term_with_underscor%20_number%20submitinfo%20_term_with_underscor%20_very_long_term%20vkr%20_term_with_underscor%20//%20--%20--%20--%20hit%20renderdoc.dl%20wrappedvulkan%20:submitcmd%20line%20_number%20renderdoc.dl%20wrappedvulkan%20:_very_long_term%20line%20_number%20renderdoc.dl%20wrappedvulkan%20:replaylog%20unsign%20int%20frameid%20_number%20unsign%20int%20starteventid%20_number%20unsign%20int%20endeventid%20_number%20replaylogtyp%20replaytyp%20_term_with_underscor%20line%20_number%20renderdoc.dl%20vulkanreplay%20:replaylog%20unsign%20int%20frameid%20_number%20unsign%20int%20endeventid%20_number%20replaylogtyp%20replaytyp%20_term_with_underscor%20line%20_number%20renderdoc.dl%20replayrender%20:setframeev%20unsign%20int%20frameid%20_number%20unsign%20int%20eventid%20_number%20bool%20forc%20fals%20line%20_number%20renderdoc.dl%20_term_with_underscor%20replayrender%20rend%20_non_decimal_numb%20unsign%20int%20frameid%20_number%20unsign%20int%20eventid%20_number%20unsign%20int%20forc%20_number%20line%20_number%20_weburl%20repro%20get%20normalmapping.zip%20_weburl%20open%20x64%20renderdoc%20launch%20normalmapping.ex%20renderdoc%20captur%20frame%20f12%20quit%20applic%20assert HTTP/1.1\" 200 -\n"
     ]
    },
    {
     "name": "stdout",
     "output_type": "stream",
     "text": [
      "predict=array([[0.33050195, 0.66949805]])\n"
     ]
    },
    {
     "name": "stderr",
     "output_type": "stream",
     "text": [
      "127.0.0.1 - - [10/Mar/2024 13:49:09] \"GET /predict?title=add%20programat%20support%20open%20accordion&body=find%20way%20_very_long_term%20_weburl%20l62 HTTP/1.1\" 200 -\n"
     ]
    },
    {
     "name": "stdout",
     "output_type": "stream",
     "text": [
      "predict=array([[0.92563615, 0.07436385]])\n"
     ]
    },
    {
     "name": "stderr",
     "output_type": "stream",
     "text": [
      "127.0.0.1 - - [10/Mar/2024 13:49:09] \"GET /predict?title=add%20auto%20releas%20system&body=import%20releas%20new%20content%20quickli%20lot%20packag%20use%20bpr%20_weburl%20increment%20version%20base%20tag%20also%20includ%20document%20creat%20new%20releas%20use%20github%20interfac%20creat%20releas%20note%20well%20version%20pattern%20use%20_term_with_dash%20packag%20directli%20deploy%20via%20_term_with_dash%20travi%20cli%20instal%20done%20via%20command%20shell%20travi%20setup%20pypi%20current%20thermondo%20pypi%20account%20could%20creat%20one%20see%20also%20_weburl HTTP/1.1\" 200 -\n"
     ]
    },
    {
     "name": "stdout",
     "output_type": "stream",
     "text": [
      "predict=array([[0.9180334, 0.0819666]])\n"
     ]
    },
    {
     "name": "stderr",
     "output_type": "stream",
     "text": [
      "127.0.0.1 - - [10/Mar/2024 13:49:10] \"GET /predict?title=export%20data%20seen%20tabl&body=right%20download%20button%20download%20raw%20data%20possibl%20column%20filter%20think%20download%20download%20content%20tabl%20user%20see%20i.e%20user%20appli%20aggreg%20download%20instead%20origin%20dataset HTTP/1.1\" 200 -\n"
     ]
    },
    {
     "name": "stdout",
     "output_type": "stream",
     "text": [
      "predict=array([[0.68456572, 0.31543428]])\n"
     ]
    },
    {
     "name": "stderr",
     "output_type": "stream",
     "text": [
      "127.0.0.1 - - [10/Mar/2024 13:49:10] \"GET /predict?title=fix%20key%20bind%20arrow%20_path&body=may%20need%20key%20code%20bind%20engine.j HTTP/1.1\" 200 -\n"
     ]
    },
    {
     "name": "stdout",
     "output_type": "stream",
     "text": [
      "predict=array([[0.28501292, 0.71498708]])\n"
     ]
    },
    {
     "name": "stderr",
     "output_type": "stream",
     "text": [
      "127.0.0.1 - - [10/Mar/2024 13:49:10] \"GET /predict?title=edit%20gener%20form%20inform&body=gener%20inform%20name%20slug%20etc%20edit%20mask%20appear%20user%20click%20row%20list%20form HTTP/1.1\" 200 -\n"
     ]
    },
    {
     "name": "stdout",
     "output_type": "stream",
     "text": [
      "predict=array([[0.67287954, 0.32712046]])\n"
     ]
    },
    {
     "name": "stderr",
     "output_type": "stream",
     "text": [
      "127.0.0.1 - - [10/Mar/2024 13:49:10] \"GET /predict?title=add%20_very_long_term%20_very_long_term&body=_very_long_term%20overflow%20next%20line%20text%20width%20exce%20max%20line%20width%20case%20rather%20want%20overflow%20replac%20ellipsi%20provid%20_term_with_underscor%20new%20function%20_very_long_term%20would%20simpli%20hide%20overflow%20cut%20extra%20text%20_very_long_term%20first%20calcul%20much%20space%20ellipsi%20given%20font%20requir%20cut%20mani%20char%20origin%20text%20need%20precondit%20simpl%20implement%20function%20text%20contain%20new%20line HTTP/1.1\" 200 -\n"
     ]
    },
    {
     "name": "stdout",
     "output_type": "stream",
     "text": [
      "predict=array([[0.90680424, 0.09319576]])\n"
     ]
    },
    {
     "name": "stderr",
     "output_type": "stream",
     "text": [
      "127.0.0.1 - - [10/Mar/2024 13:49:11] \"GET /predict?title=save%20origin%20.lu%20file%20name&body=run%20program%20unpack%20file%20origin%20file%20name%20instead%20file%20name%20look%20like%20_term_with_dash.extract%20would%20cool%20made%20unpack%20file%20origin%20name HTTP/1.1\" 200 -\n"
     ]
    },
    {
     "name": "stdout",
     "output_type": "stream",
     "text": [
      "predict=array([[0.63781714, 0.36218286]])\n"
     ]
    },
    {
     "name": "stderr",
     "output_type": "stream",
     "text": [
      "127.0.0.1 - - [10/Mar/2024 13:49:11] \"GET /predict?title=captur%20inform%20_term_with_dash%20jsonapi%20object&body=version%20meta%20inform%20_weburl%20_term_with_dash_term_with_dash HTTP/1.1\" 200 -\n"
     ]
    },
    {
     "name": "stdout",
     "output_type": "stream",
     "text": [
      "predict=array([[0.65545787, 0.34454213]])\n"
     ]
    },
    {
     "name": "stderr",
     "output_type": "stream",
     "text": [
      "127.0.0.1 - - [10/Mar/2024 13:49:11] \"GET /predict?title=add%20support%20request%20_number._numb&body=requir%20request%20version%20_number._numb%20quit%20ridicul%20pleas%20add%20support%20newer%20version HTTP/1.1\" 200 -\n"
     ]
    },
    {
     "name": "stdout",
     "output_type": "stream",
     "text": [
      "predict=array([[0.94086322, 0.05913678]])\n"
     ]
    },
    {
     "name": "stderr",
     "output_type": "stream",
     "text": [
      "127.0.0.1 - - [10/Mar/2024 13:49:11] \"GET /predict?title=stage%20platform%20standard%20rout%20work%20mcma%20question&body=standard%20rout%20work%20mcma%20question%20question%20templat%20work%20intend%20scriptid%20_number%20userid%20_number%20sure%20user%20error%20issu%20rout%20modul%20good%20understand%20caus HTTP/1.1\" 200 -\n"
     ]
    },
    {
     "name": "stdout",
     "output_type": "stream",
     "text": [
      "predict=array([[0.50970718, 0.49029282]])\n"
     ]
    },
    {
     "name": "stderr",
     "output_type": "stream",
     "text": [
      "127.0.0.1 - - [10/Mar/2024 13:49:12] \"GET /predict?title=show%20partial%20bucket%20option%20gone&body=show%20partial%20bucket%20option%20never%20shown%20latest%20master%20_term_with_dash_term_with_dash_term_with_dash_term_with_dash_term_with_dash%20_weburl%20_term_with_dash_term_with_dash_term_with_dash_term_with_dash_term_with_dash%20_weburl HTTP/1.1\" 200 -\n"
     ]
    },
    {
     "name": "stdout",
     "output_type": "stream",
     "text": [
      "predict=array([[0.49582976, 0.50417024]])\n"
     ]
    },
    {
     "name": "stderr",
     "output_type": "stream",
     "text": [
      "127.0.0.1 - - [10/Mar/2024 13:49:12] \"GET /predict?title=instal%20path%20manag%20_very_long_term&body=exhibit%20ad%20/_path/_term_with_underscor%20path%20alway%20add%20later%20call%20sct%20function%20full%20path%20/_path_path/_term_with_underscor%20mention%20_path%20mention%20full%20path%20_term_with_underscor%20_term_with_underscor%20eg%20/_path/_term_with_underscor%20exhibit%20open%20new%20termin%20window%20load%20environ%20variabl%20run%20sourc%20/_path/.bashrc%20refus%20add%20path%20state HTTP/1.1\" 200 -\n"
     ]
    },
    {
     "name": "stdout",
     "output_type": "stream",
     "text": [
      "predict=array([[0.81478052, 0.18521948]])\n"
     ]
    },
    {
     "name": "stderr",
     "output_type": "stream",
     "text": [
      "127.0.0.1 - - [10/Mar/2024 13:49:12] \"GET /predict?title=_number%20linebreak%20becom%20_number%20past%20text%20field&body=copi%20past%20text%20normal%20singl%20line%20break%20look%20normal%20die%20text%20entri%20field%20threemaweb%20send%20get%20_number%20empti%20line%20instead%20one%20look%20terribl%20ist%20annoy%20longer%20text HTTP/1.1\" 200 -\n"
     ]
    },
    {
     "name": "stdout",
     "output_type": "stream",
     "text": [
      "predict=array([[0.16093127, 0.83906873]])\n"
     ]
    },
    {
     "name": "stderr",
     "output_type": "stream",
     "text": [
      "127.0.0.1 - - [10/Mar/2024 13:49:13] \"GET /predict?title=useract%20commit%20honor%20initi%20popup%20lightbox&body=reproduc%20_number%20get%20paynow%20button%20use%20commit%20true%20_number%20get%20lightbox%20experi%20_number%20click%20_number%20login%20button%20say%20continu%20pay HTTP/1.1\" 200 -\n"
     ]
    },
    {
     "name": "stdout",
     "output_type": "stream",
     "text": [
      "predict=array([[0.14493534, 0.85506466]])\n"
     ]
    },
    {
     "name": "stderr",
     "output_type": "stream",
     "text": [
      "127.0.0.1 - - [10/Mar/2024 13:49:13] \"GET /predict?title=extend%20return%20error%20none%20node%20driver%20onlin&body=bug%20report%20featur%20request%20bug%20report%20happen%20storag%20driver%20instal%20subset%20node%20subset%20node%20heavili%20load%20schedul%20send%20node%20driver%20instal%20extend%20return%20node%20case%20expect%20happen%20extend%20return%20error%20schedul%20tri%20schedul%20pod%20node%20without%20driver%20reproduc%20minim%20precis%20possibl%20_number%20instal%20storag%20driver%20node%20n1%20n2%20n3%20_number%20tri%20schedul%20pod%20n4%20_number%20pod%20get%20schedul%20n4%20abl%20mount%20pvc HTTP/1.1\" 200 -\n"
     ]
    },
    {
     "name": "stdout",
     "output_type": "stream",
     "text": [
      "predict=array([[0.06854471, 0.93145529]])\n"
     ]
    },
    {
     "name": "stderr",
     "output_type": "stream",
     "text": [
      "127.0.0.1 - - [10/Mar/2024 13:49:13] \"GET /predict?title=debian%20chroot%20packag%20instal%20i386%20_term_with_underscor%20bromolow&body=hi%20fresh%20instal%20debian%20chroot%20ds3615x%20run%20dsm%20_number._term_with_dash%20updat%20_number%20unfortun%20packag%20version%20_number._term_with_dash%20instal%20debian%20i386%20_term_with_underscor%20root%20sundalon%20/_path_path/_term_with_dash_term_with_dash%20start%20start%20debian%20chroot%20...%20root%20sundalon%20/_path_path/_term_with_dash_term_with_dash%20statu%20debian%20chroot%20run%20root%20sundalon%20/_path_path/_term_with_dash_term_with_dash%20chroot%20bash%20warn%20setlocal%20_term_with_underscor%20chang%20local%20_term_with_underscore.utf8%20root%20sundalon%20unam%20-a%20linux%20sundalon%20_number._numb%20_number%20smp%20tue%20feb%20_number%20_number%20_number%20_number%20cet%20_number%20_term_with_underscor%20_path%20root%20sundalon%20dpkg%20--%20_term_with_dash%20i386%20miss%20cheer%20sundalon%20_term_with_dash%20--%20want%20back%20issu%20post%20bounti%20_weburl%20_term_with_underscor%20plugin%20_term_with_underscor%20tracker%202f282943%20_term_with_underscor%20issu%20_term_with_underscor%20github%20accept%20bounti%20via%20bountysourc%20_weburl%20_term_with_underscor%20plugin%20_term_with_underscor%20tracker%202f282943%20_term_with_underscor%20issu%20_term_with_underscor%20github%20/_term_with_dash HTTP/1.1\" 200 -\n"
     ]
    },
    {
     "name": "stdout",
     "output_type": "stream",
     "text": [
      "predict=array([[0.42197286, 0.57802714]])\n"
     ]
    },
    {
     "name": "stderr",
     "output_type": "stream",
     "text": [
      "127.0.0.1 - - [10/Mar/2024 13:49:13] \"GET /predict?title=creat%20project%20test&body=set%20new%20project%20vs%20write%20unit%20test%20infer%20rule HTTP/1.1\" 200 -\n"
     ]
    },
    {
     "name": "stdout",
     "output_type": "stream",
     "text": [
      "predict=array([[0.58492986, 0.41507014]])\n"
     ]
    },
    {
     "name": "stderr",
     "output_type": "stream",
     "text": [
      "127.0.0.1 - - [10/Mar/2024 13:49:14] \"GET /predict?title=_very_long_term%20seem%20work%20correctli%20word%20like%20_term_with_dash&body=tri%20get%20current%20word%20cursor%20default%20option%20_very_long_term%20afaik%20enabl%20match%20word%20_term_with_dash%20separ%20current%20regex%20seem%20misconfigur%20match%20word%20correctli%20current%20code%20coffe%20wordregexp%20_very_long_term%20_very_long_term%20true%20_very_long_term%20atom.config.get%20editor._very_long_term%20segment%20segments.push%20_.escaperegexp%20_very_long_term%20_very_long_term%20segments.push%20_.escaperegexp%20_very_long_term%20new%20regexp%20segments.join%20correct%20code%20coffe%20wordregexp%20_very_long_term%20_very_long_term%20true%20_very_long_term%20atom.config.get%20editor._very_long_term%20segment%20_very_long_term%20segments.push%20_.escaperegexp%20_very_long_term%20segments.push%20els%20segments.push%20_.escaperegexp%20_very_long_term%20new%20regexp%20segments.join HTTP/1.1\" 200 -\n"
     ]
    },
    {
     "name": "stdout",
     "output_type": "stream",
     "text": [
      "predict=array([[0.3457395, 0.6542605]])\n"
     ]
    },
    {
     "name": "stderr",
     "output_type": "stream",
     "text": [
      "127.0.0.1 - - [10/Mar/2024 13:49:14] \"GET /predict?title=axiom%20librari%20work%20_path%20phonegap&body=build%20mobil%20app%20use%20phonegap%20debug%20browser%20app%20work%20fine%20use%20axiom%20load%20data%20json%20file%20io%20simul%20work%20throw%20error%20use%20redux%20_term_with_dash%20also%20troubl%20seem%20debug%20step%20code%20see%20error%20thrown%20idea%20suggest%20track%20code%20export%20function%20fetchremot%20return%20function%20dispatch%20//%20get%20translat%20http%20//localhost%20_number/%20console.log%20fetch%20json%20axios.get%20_path.json%20.then%20respons%20console.log%20success%20fetch%20json%20dispatch%20type%20_term_with_underscor%20payload%20response.data%20.catch%20err%20console.log%20err%20dispatch%20type%20_term_with_underscor%20payload%20err HTTP/1.1\" 200 -\n"
     ]
    },
    {
     "name": "stdout",
     "output_type": "stream",
     "text": [
      "predict=array([[0.34862896, 0.65137104]])\n"
     ]
    },
    {
     "name": "stderr",
     "output_type": "stream",
     "text": [
      "127.0.0.1 - - [10/Mar/2024 13:49:14] \"GET /predict?title=websocket%20error%20consol%20log%20run%20product%20environ&body=run%20product%20environ%20follow%20appear%20consol%20log%20_very_long_term.j%20_term_with_underscor%20true%20_number%20websocket%20connect%20wss%20//itmi.kheops._path_path/websocket%20fail%20error%20websocket%20handshak%20unexpect%20respons%20code%20_number%20_term_with_dash%20howev HTTP/1.1\" 200 -\n"
     ]
    },
    {
     "name": "stdout",
     "output_type": "stream",
     "text": [
      "predict=array([[0.12635985, 0.87364015]])\n"
     ]
    },
    {
     "name": "stderr",
     "output_type": "stream",
     "text": [
      "127.0.0.1 - - [10/Mar/2024 13:49:14] \"GET /predict?title=_term_with_underscor%20function%20declar%20twice%20_term_with_underscore.pi&body=describ%20bug%20_term_with_underscor%20function%20declar%20twice%20_term_with_underscore.pi%20reproduc%20find%20_number%20_number%20expect%20behavior%20one%20_number%20stay%20remov%20one%20_number%20screenshot%20desktop%20pleas%20complet%20follow%20inform%20version%20_number%20addit%20context HTTP/1.1\" 200 -\n"
     ]
    },
    {
     "name": "stdout",
     "output_type": "stream",
     "text": [
      "predict=array([[0.0266087, 0.9733913]])\n"
     ]
    },
    {
     "name": "stderr",
     "output_type": "stream",
     "text": [
      "127.0.0.1 - - [10/Mar/2024 13:49:15] \"GET /predict?title=hamcrest%20matcher%20verifi%20header&body=take%20hamcrest%20matcher%20verifi%20header%20think%20request%20respons%20header%20need%20verifi%20someth%20like%20public%20final%20class%20hmrqheader%20extend%20_very_long_term%20request%20public%20hmrqheader%20final%20matcher%20extend%20entri%20string%20string%20mtchr%20public%20final%20class%20hmrsheader%20extend%20_very_long_term%20respons%20public%20hmrsheader%20final%20matcher%20extend%20entri%20string%20string%20mtchr%20hr%20id%20_term_with_dash%20_number%20dragan%20bozanov%20_term_with_dash%20_number%20dragan%20bozanov HTTP/1.1\" 200 -\n"
     ]
    },
    {
     "name": "stdout",
     "output_type": "stream",
     "text": [
      "predict=array([[0.60286094, 0.39713906]])\n"
     ]
    },
    {
     "name": "stderr",
     "output_type": "stream",
     "text": [
      "127.0.0.1 - - [10/Mar/2024 13:49:15] \"GET /predict?title=-o3%20optim%20caus%20incorrect%20result%20osx%20clang%20_term_with_underscor&body=turn%20optim%20fix%20problem%20code%20initi%20special%20_term_with_underscor%20variabl%20vseglenxgap%20use%20nw%20scan%20optim%20caus%20blendv%20oper%20somehow%20blend%20part%20overal%20_term_with_underscor%20exampl%20_term_with_dash%20code%20reproduc%20confirm%20occur%20icc%20linux%20os%20occur%20osx%20bash%20gcc%20--%20version%20configur%20--%20prefix%20/_path._path_path%20--%20_term_with_dash_term_with_dash_term_with_dash%20/_path/c%20/_number._numb%20appl%20llvm%20version%20_number._numb%20_term_with_dash._numb%20target%20_term_with_dash_term_with_dash._numb%20thread%20model%20posix%20_term_with_underscor%20score%20_term_with_underscor%20const%20_term_with_underscor%20seglenxgap%20-seglen%20gap%20const%20_term_with_underscor%20_term_with_underscor%20_term_with_underscor%20_term_with_underscor%20_term_with_underscor%20_number%20_number%20_number%20_number%20_number%20_number%20_number%20_number%20_number%20_number%20_number%20_number%20_number%20_number%20_number%20_number%20const%20_term_with_underscor%20vseglenxgap1%20_term_with_underscor%20_term_with_dash%20gap%20const%20_term_with_underscor%20vseglenxgap%20_term_with_underscor%20vneginf%20_term_with_underscor%20seglenxgap%20_term_with_underscor HTTP/1.1\" 200 -\n"
     ]
    },
    {
     "name": "stdout",
     "output_type": "stream",
     "text": [
      "predict=array([[0.05783008, 0.94216992]])\n"
     ]
    },
    {
     "name": "stderr",
     "output_type": "stream",
     "text": [
      "127.0.0.1 - - [10/Mar/2024 13:49:15] \"GET /predict?title=stat%20return%20bow%20beam%20rifl%20_path%20weapon%20stat&body=investig%20_number%20notic%20return%20bow%20beam%20_term_with_dash%20weapon%20stat%20return%20weapon%20type%20see%20get%20ad%20_path%20hotfix%20well HTTP/1.1\" 200 -\n"
     ]
    },
    {
     "name": "stdout",
     "output_type": "stream",
     "text": [
      "predict=array([[0.32241343, 0.67758657]])\n"
     ]
    },
    {
     "name": "stderr",
     "output_type": "stream",
     "text": [
      "127.0.0.1 - - [10/Mar/2024 13:49:16] \"GET /predict?title=send%20url%20past%20input&body=imag%20_weburl%20send%20ctrl%20anywher HTTP/1.1\" 200 -\n"
     ]
    },
    {
     "name": "stdout",
     "output_type": "stream",
     "text": [
      "predict=array([[0.49304734, 0.50695266]])\n"
     ]
    },
    {
     "name": "stderr",
     "output_type": "stream",
     "text": [
      "127.0.0.1 - - [10/Mar/2024 13:49:16] \"GET /predict?title=featur%20request%20add%20support%20java%20server&body=--%20issu%20label%20necessari%20help%20organ%20issu%20label%20issu%20open%20add%20label%20automat%20simpli%20mark%20appropri%20box%20_term_with_dash%20featur%20doc%20block%20good%20first%20issu%20add%20label%20list%20simpli%20place%20/label%20_term_with_dash_term_with_dash%20line%20--%20hi%20build%20server%20app%20need%20consum%20graphql%20api%20anoth%20server%20would%20awesom%20use%20librari%20main%20issu%20current%20use%20librari%20server%20_number%20import%20latest%20runtim%20lib%20work%20android%20studio%20_term_with_dash%20project%20_number%20gener%20class%20work%20reason%20thank HTTP/1.1\" 200 -\n"
     ]
    },
    {
     "name": "stdout",
     "output_type": "stream",
     "text": [
      "predict=array([[0.94643481, 0.05356519]])\n"
     ]
    },
    {
     "name": "stderr",
     "output_type": "stream",
     "text": [
      "127.0.0.1 - - [10/Mar/2024 13:49:16] \"GET /predict?title=fallback%20call%20user%20authent%20fail%20ldap&body=laravel%20version%20_number%20_term_with_dash%20version%20_number._numb%20php%20version%20_number%20descript%20notic%20user%20fail%20login%20ldap%20e.g%20password%20wrong%20user%20_term_with_dash%20system%20use%20fallback%20authent%20correct%20behaviour%20call%20fallback%20find%20user%20ldap%20user%20exist%20ldap%20authent%20fail%20revert%20fallback%20seem%20two%20problem%20relat%20fallback%20_number%20user%20whose%20password%20reset%20still%20login%20use%20old%20password%20ldap%20authent%20fail%20system%20resort%20databas%20still%20old%20password%20_number%20system%20never%20updat%20databas%20record%20new%20password%20model%20get%20written%20databas%20ldap%20authent%20success%20authent%20fail%20model%20never%20save%20databas%20keep%20old%20password%20chang%20user%20success%20log%20ldap%20might%20_term_with_dash%20purpos%20fallback%20seem%20wrong%20notic%20report%20peopl%20still%20abl%20login%20old%20password%20suspect%20caus%20problem%20ldap%20cach%20password%20databas%20still%20store%20old%20password%20step%20reproduc%20_number%20creat%20user%20ldap%20_number%20login%20success%20databas%20record%20creat%20user%20_number%20chang%20password%20ldap%20_number%20user%20still%20login%20old%20password%20old%20password%20remain%20databas%20user%20log%20new%20password%20note%20cach%20problem%20_number%20user%20log%20new%20password%20databas%20updat%20new%20password%20user%20longer%20use%20old%20password%20possibl%20fix%20think%20problem%20_very_long_term%20_very_long_term%20method%20comment%20remov%20public%20function%20_very_long_term%20_very_long_term%20model%20array%20credenti%20this-%20user%20instanceof%20user%20this-%20getresolv%20authent%20this-%20user%20credenti%20this-%20_very_long_term%20this-%20user%20model%20this-%20newvalid%20this-%20getrul%20this-%20user%20model%20pass%20this-%20_very_long_term%20password%20credenti%20password%20els%20password%20_term_with_underscor%20model-%20password%20model-%20hassetmut%20password%20password%20bcrypt%20password%20model-%20save%20this-%20_very_long_term%20model%20model-%20setldapus%20this-%20user%20return%20true%20this-%20isfallingback%20model-%20exist%20return%20this-%20fallback-%20_very_long_term%20model%20credenti%20return%20fals%20problem%20seem%20first%20statement%20this-%20user%20instanceof%20user%20this-%20getresolv%20authent%20this-%20user%20credenti%20separ%20model%20alway%20save%20long%20exist%20regardless%20whether%20user%20authent%20databas%20updat%20correct%20credenti%20authent%20fail%20return%20fals%20revert%20fallback%20thought%20might%20work%20better%20public%20function%20_very_long_term%20_very_long_term%20model%20array%20credenti%20this-%20user%20instanceof%20user%20//%20user%20exist%20save%20updat%20data%20ldap%20model-%20save%20//%20authent%20user%20this-%20getresolv%20authent%20this-%20user%20credenti%20...%20//%20return%20fals%20authent%20fail%20return%20fals%20//%20user%20found%20ldap%20revert%20fallback%20this-%20isfallingback%20model-%20exist%20return%20this-%20fallback-%20_very_long_term%20model%20credenti%20return%20fals HTTP/1.1\" 200 -\n"
     ]
    },
    {
     "name": "stdout",
     "output_type": "stream",
     "text": [
      "predict=array([[0.09053044, 0.90946956]])\n"
     ]
    },
    {
     "name": "stderr",
     "output_type": "stream",
     "text": [
      "127.0.0.1 - - [10/Mar/2024 13:49:16] \"GET /predict?title=mgmt%20attribut%20releas%20polici%20option%20incorrectli%20shown&body=click%20add%20new%20servic%20brows%20attribut%20releas%20tab%20attribut%20releas%20polici%20section%20show%20_number%20polici%20default%20select%20seem%20polici%20imag%20_weburl%20option%20miss%20would%20return%20allow%20return%20deni%20etc%20_weburl%20also%20return%20return%20map%20etc%20anywher%20possibl%20select%20attribut%20user%20must%20option%20type%20anyth%20add%20anyth%20list HTTP/1.1\" 200 -\n"
     ]
    },
    {
     "name": "stdout",
     "output_type": "stream",
     "text": [
      "predict=array([[0.74109735, 0.25890265]])\n"
     ]
    },
    {
     "name": "stderr",
     "output_type": "stream",
     "text": [
      "127.0.0.1 - - [10/Mar/2024 13:49:17] \"GET /predict?title=quit%20pyfa%20use%20crest%20make%20app%20hang&body=log%20use%20crest%20quit%20app%20make%20app%20hang%20forc%20quit%20everi%20time%20log%20quit%20app%20hang%20even%20log%20quit%20app%20still%20hang%20maco%20_number._numb%20pyfa%20_number._numb HTTP/1.1\" 200 -\n"
     ]
    },
    {
     "name": "stdout",
     "output_type": "stream",
     "text": [
      "predict=array([[0.34233275, 0.65766725]])\n"
     ]
    },
    {
     "name": "stderr",
     "output_type": "stream",
     "text": [
      "127.0.0.1 - - [10/Mar/2024 13:49:17] \"GET /predict?title=filter%20restaur%20cuisin&body=user%20abl%20filter%20restaur%20price HTTP/1.1\" 200 -\n"
     ]
    },
    {
     "name": "stdout",
     "output_type": "stream",
     "text": [
      "predict=array([[0.67604929, 0.32395071]])\n"
     ]
    },
    {
     "name": "stderr",
     "output_type": "stream",
     "text": [
      "127.0.0.1 - - [10/Mar/2024 13:49:17] \"GET /predict?title=delet%20contact&body=contact%20tab%20way%20delet%20exist%20author%20data%20access%20contact%20especi%20evid%20accident%20click%20either%20add%20author%20add%20access%20contact%20go%20anoth%20tab%20return%20contact%20blank%20contact%20record%20cancel%20add%20button%20remov%20mayb%20instead%20singl%20cancel%20button%20put%20button%20contact%20remov%20record HTTP/1.1\" 200 -\n"
     ]
    },
    {
     "name": "stdout",
     "output_type": "stream",
     "text": [
      "predict=array([[0.86573917, 0.13426083]])\n"
     ]
    },
    {
     "name": "stderr",
     "output_type": "stream",
     "text": [
      "127.0.0.1 - - [10/Mar/2024 13:49:17] \"GET /predict?title=view%20edit%20web%20app%20set&body=extens%20shall%20allow%20user%20view%20edit%20web%20app%20set HTTP/1.1\" 200 -\n"
     ]
    },
    {
     "name": "stdout",
     "output_type": "stream",
     "text": [
      "predict=array([[0.61280796, 0.38719204]])\n"
     ]
    },
    {
     "name": "stderr",
     "output_type": "stream",
     "text": [
      "127.0.0.1 - - [10/Mar/2024 13:49:18] \"GET /predict?title=quicklinkblock%20model%20rendor%20html%20href%20...&body=_term_with_underscor%20block%20render%20_path%20pair HTTP/1.1\" 200 -\n"
     ]
    },
    {
     "name": "stdout",
     "output_type": "stream",
     "text": [
      "predict=array([[0.54774004, 0.45225996]])\n"
     ]
    },
    {
     "name": "stderr",
     "output_type": "stream",
     "text": [
      "127.0.0.1 - - [10/Mar/2024 13:49:18] \"GET /predict?title=display%20_number%20ilvl%20item&body=hi%20use%20_number._term_with_dash%20version%20bagnon%20itemlevel%20_number._numb%20bagnon%20main%20ui%20use%20elvui%20_number%20look%20item%20show%20_number%20clearli%20correct%20_term_with_underscor%20_weburl%20sometim%20display%20correct%20recreat%20work%20thought%20would%20appreci%20thank HTTP/1.1\" 200 -\n"
     ]
    },
    {
     "name": "stdout",
     "output_type": "stream",
     "text": [
      "predict=array([[0.30856783, 0.69143217]])\n"
     ]
    },
    {
     "name": "stderr",
     "output_type": "stream",
     "text": [
      "127.0.0.1 - - [10/Mar/2024 13:49:18] \"GET /predict?title=default%20read%20correctli&body=x.hh.add%20_path%20gbar%201e3%20x.hh.add%20_path%20gbar%20_number%20nav%20read%20default%20kd%20wtf HTTP/1.1\" 200 -\n"
     ]
    },
    {
     "name": "stdout",
     "output_type": "stream",
     "text": [
      "predict=array([[0.70285895, 0.29714105]])\n"
     ]
    },
    {
     "name": "stderr",
     "output_type": "stream",
     "text": [
      "127.0.0.1 - - [10/Mar/2024 13:49:19] \"GET /predict?title=import%20relat%20rule%20refactor&body=current%20rule%20configur%20caus%20mani%20style%20base%20warn%20regard%20import%20order%20sort%20import%20order%20conflict%20_path%20_path%20_path%20_path%20rule%20conflict%20_path%20disallow%20js%20import%20..%20/config%20import%20fs%20fs%20//%20--%20error%20absolut%20import%20come%20rel%20import%20import%20app%20..%20/app%20hand%20_path%20fine%20mention%20rule%20document%20unassign%20import%20ignor%20order%20import%20may%20import%20improv%20allow%20unassign%20import%20anywher%20still%20_term_with_dash%20statement%20also%20import%20group%20specifi%20accur%20split%20three%20main%20group%20import%20sort%20conflict%20_term_with_dash%20_term_with_dash%20rule%20conflict%20mention%20rule%20import%20import%20sort%20within%20group%20rule%20disabl%20way%20make%20work%20regard%20compat%20rule%20_path%20_weburl%20_path%20_weburl%20_term_with_dash%20_weburl HTTP/1.1\" 200 -\n"
     ]
    },
    {
     "name": "stdout",
     "output_type": "stream",
     "text": [
      "predict=array([[0.62824037, 0.37175963]])\n"
     ]
    },
    {
     "name": "stderr",
     "output_type": "stream",
     "text": [
      "127.0.0.1 - - [10/Mar/2024 13:49:19] \"GET /predict?title=temporari%20shapefil%20store%20locat&body=present%20_term_with_dash%20temporari%20shapefil%20store%20_term_with_dash%20/_path/%20find%20better%20place%20e.g%20/download%20avail%20disk%20space%20_path%20look%20manag%20map%20huge%20file%20creat%208gb HTTP/1.1\" 200 -\n"
     ]
    },
    {
     "name": "stdout",
     "output_type": "stream",
     "text": [
      "predict=array([[0.62405651, 0.37594349]])\n"
     ]
    },
    {
     "name": "stderr",
     "output_type": "stream",
     "text": [
      "127.0.0.1 - - [10/Mar/2024 13:49:19] \"GET /predict?title=dogsonwalk%20alpha%20workout%20summari&body=collect%20view%20workout%20summari%20fade%20due%20alpha%20chang%20_number%20alpha HTTP/1.1\" 200 -\n"
     ]
    },
    {
     "name": "stdout",
     "output_type": "stream",
     "text": [
      "predict=array([[0.38617596, 0.61382404]])\n"
     ]
    },
    {
     "name": "stderr",
     "output_type": "stream",
     "text": [
      "127.0.0.1 - - [10/Mar/2024 13:49:19] \"GET /predict?title=_term_with_dash%20see%20devic%20unless%20chang%20udev%20rule&body=instal%20udev%20rule%20file%20anoth%20project%20/_path/rules.d/%20_weburl%20_term_with_dash%20could%20see%20eleaf%20aster%20thank HTTP/1.1\" 200 -\n"
     ]
    },
    {
     "name": "stdout",
     "output_type": "stream",
     "text": [
      "predict=array([[0.42700604, 0.57299396]])\n"
     ]
    }
   ],
   "source": [
    "app.run(debug=False)\n"
   ]
  }
 ],
 "metadata": {
  "kernelspec": {
   "display_name": "Python 3.10 (IR) (Local)",
   "language": "python",
   "name": "ir"
  },
  "language_info": {
   "codemirror_mode": {
    "name": "ipython",
    "version": 3
   },
   "file_extension": ".py",
   "mimetype": "text/x-python",
   "name": "python",
   "nbconvert_exporter": "python",
   "pygments_lexer": "ipython3",
   "version": "3.10.13"
  }
 },
 "nbformat": 4,
 "nbformat_minor": 2
}
